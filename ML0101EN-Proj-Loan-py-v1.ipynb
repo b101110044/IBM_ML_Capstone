{
    "cells": [
        {
            "cell_type": "markdown",
            "metadata": {
                "button": false,
                "new_sheet": false,
                "run_control": {
                    "read_only": false
                }
            },
            "source": [
                "<p style=\"text-align:center\">\n",
                "    <a href=\"https://skills.network/?utm_medium=Exinfluencer&utm_source=Exinfluencer&utm_content=000026UJ&utm_term=10006555&utm_id=NA-SkillsNetwork-Channel-SkillsNetworkCoursesIBMDeveloperSkillsNetworkML0101ENSkillsNetwork20718538-2022-01-01\" target=\"_blank\">\n",
                "    <img src=\"https://cf-courses-data.s3.us.cloud-object-storage.appdomain.cloud/assets/logos/SN_web_lightmode.png\" width=\"200\" alt=\"Skills Network Logo\"  />\n",
                "    </a>\n",
                "</p>\n",
                "\n",
                "<h1 align=\"center\"><font size=\"5\">Classification with Python</font></h1>\n"
            ]
        },
        {
            "cell_type": "markdown",
            "metadata": {
                "button": false,
                "new_sheet": false,
                "run_control": {
                    "read_only": false
                }
            },
            "source": [
                "In this notebook we try to practice all the classification algorithms that we have learned in this course.\n",
                "\n",
                "We load a dataset using Pandas library, and apply the following algorithms, and find the best one for this specific dataset by accuracy evaluation methods.\n",
                "\n",
                "Let's first load required libraries:\n"
            ]
        },
        {
            "cell_type": "code",
            "execution_count": 1,
            "metadata": {
                "button": false,
                "new_sheet": false,
                "run_control": {
                    "read_only": false
                }
            },
            "outputs": [],
            "source": [
                "import itertools\n",
                "import numpy as np\n",
                "import matplotlib.pyplot as plt\n",
                "from matplotlib.ticker import NullFormatter\n",
                "import pandas as pd\n",
                "import numpy as np\n",
                "import matplotlib.ticker as ticker\n",
                "from sklearn import preprocessing\n",
                "%matplotlib inline"
            ]
        },
        {
            "cell_type": "markdown",
            "metadata": {
                "button": false,
                "new_sheet": false,
                "run_control": {
                    "read_only": false
                }
            },
            "source": [
                "### About dataset\n"
            ]
        },
        {
            "cell_type": "markdown",
            "metadata": {
                "button": false,
                "new_sheet": false,
                "run_control": {
                    "read_only": false
                }
            },
            "source": [
                "This dataset is about past loans. The **Loan_train.csv** data set includes details of 346 customers whose loan are already paid off or defaulted. It includes following fields:\n",
                "\n",
                "| Field          | Description                                                                           |\n",
                "| -------------- | ------------------------------------------------------------------------------------- |\n",
                "| Loan_status    | Whether a loan is paid off on in collection                                           |\n",
                "| Principal      | Basic principal loan amount at the                                                    |\n",
                "| Terms          | Origination terms which can be weekly (7 days), biweekly, and monthly payoff schedule |\n",
                "| Effective_date | When the loan got originated and took effects                                         |\n",
                "| Due_date       | Since it’s one-time payoff schedule, each loan has one single due date                |\n",
                "| Age            | Age of applicant                                                                      |\n",
                "| Education      | Education of applicant                                                                |\n",
                "| Gender         | The gender of applicant                                                               |\n"
            ]
        },
        {
            "cell_type": "markdown",
            "metadata": {
                "button": false,
                "new_sheet": false,
                "run_control": {
                    "read_only": false
                }
            },
            "source": [
                "Let's download the dataset\n"
            ]
        },
        {
            "cell_type": "code",
            "execution_count": null,
            "metadata": {
                "button": false,
                "new_sheet": false,
                "run_control": {
                    "read_only": false
                },
                "vscode": {
                    "languageId": "powershell"
                }
            },
            "outputs": [],
            "source": [
                "!wget -O loan_train.csv https://cf-courses-data.s3.us.cloud-object-storage.appdomain.cloud/IBMDeveloperSkillsNetwork-ML0101EN-SkillsNetwork/labs/FinalModule_Coursera/data/loan_train.csv"
            ]
        },
        {
            "cell_type": "markdown",
            "metadata": {
                "button": false,
                "new_sheet": false,
                "run_control": {
                    "read_only": false
                }
            },
            "source": [
                "### Load Data From CSV File\n"
            ]
        },
        {
            "cell_type": "code",
            "execution_count": 3,
            "metadata": {
                "button": false,
                "new_sheet": false,
                "run_control": {
                    "read_only": false
                }
            },
            "outputs": [
                {
                    "data": {
                        "text/html": [
                            "<div>\n",
                            "<style scoped>\n",
                            "    .dataframe tbody tr th:only-of-type {\n",
                            "        vertical-align: middle;\n",
                            "    }\n",
                            "\n",
                            "    .dataframe tbody tr th {\n",
                            "        vertical-align: top;\n",
                            "    }\n",
                            "\n",
                            "    .dataframe thead th {\n",
                            "        text-align: right;\n",
                            "    }\n",
                            "</style>\n",
                            "<table border=\"1\" class=\"dataframe\">\n",
                            "  <thead>\n",
                            "    <tr style=\"text-align: right;\">\n",
                            "      <th></th>\n",
                            "      <th>Unnamed: 0.1</th>\n",
                            "      <th>Unnamed: 0</th>\n",
                            "      <th>loan_status</th>\n",
                            "      <th>Principal</th>\n",
                            "      <th>terms</th>\n",
                            "      <th>effective_date</th>\n",
                            "      <th>due_date</th>\n",
                            "      <th>age</th>\n",
                            "      <th>education</th>\n",
                            "      <th>Gender</th>\n",
                            "    </tr>\n",
                            "  </thead>\n",
                            "  <tbody>\n",
                            "    <tr>\n",
                            "      <th>0</th>\n",
                            "      <td>0</td>\n",
                            "      <td>0</td>\n",
                            "      <td>PAIDOFF</td>\n",
                            "      <td>1000</td>\n",
                            "      <td>30</td>\n",
                            "      <td>9/8/2016</td>\n",
                            "      <td>10/7/2016</td>\n",
                            "      <td>45</td>\n",
                            "      <td>High School or Below</td>\n",
                            "      <td>male</td>\n",
                            "    </tr>\n",
                            "    <tr>\n",
                            "      <th>1</th>\n",
                            "      <td>2</td>\n",
                            "      <td>2</td>\n",
                            "      <td>PAIDOFF</td>\n",
                            "      <td>1000</td>\n",
                            "      <td>30</td>\n",
                            "      <td>9/8/2016</td>\n",
                            "      <td>10/7/2016</td>\n",
                            "      <td>33</td>\n",
                            "      <td>Bechalor</td>\n",
                            "      <td>female</td>\n",
                            "    </tr>\n",
                            "    <tr>\n",
                            "      <th>2</th>\n",
                            "      <td>3</td>\n",
                            "      <td>3</td>\n",
                            "      <td>PAIDOFF</td>\n",
                            "      <td>1000</td>\n",
                            "      <td>15</td>\n",
                            "      <td>9/8/2016</td>\n",
                            "      <td>9/22/2016</td>\n",
                            "      <td>27</td>\n",
                            "      <td>college</td>\n",
                            "      <td>male</td>\n",
                            "    </tr>\n",
                            "    <tr>\n",
                            "      <th>3</th>\n",
                            "      <td>4</td>\n",
                            "      <td>4</td>\n",
                            "      <td>PAIDOFF</td>\n",
                            "      <td>1000</td>\n",
                            "      <td>30</td>\n",
                            "      <td>9/9/2016</td>\n",
                            "      <td>10/8/2016</td>\n",
                            "      <td>28</td>\n",
                            "      <td>college</td>\n",
                            "      <td>female</td>\n",
                            "    </tr>\n",
                            "    <tr>\n",
                            "      <th>4</th>\n",
                            "      <td>6</td>\n",
                            "      <td>6</td>\n",
                            "      <td>PAIDOFF</td>\n",
                            "      <td>1000</td>\n",
                            "      <td>30</td>\n",
                            "      <td>9/9/2016</td>\n",
                            "      <td>10/8/2016</td>\n",
                            "      <td>29</td>\n",
                            "      <td>college</td>\n",
                            "      <td>male</td>\n",
                            "    </tr>\n",
                            "  </tbody>\n",
                            "</table>\n",
                            "</div>"
                        ],
                        "text/plain": [
                            "   Unnamed: 0.1  Unnamed: 0 loan_status  Principal  terms effective_date  \\\n",
                            "0             0           0     PAIDOFF       1000     30       9/8/2016   \n",
                            "1             2           2     PAIDOFF       1000     30       9/8/2016   \n",
                            "2             3           3     PAIDOFF       1000     15       9/8/2016   \n",
                            "3             4           4     PAIDOFF       1000     30       9/9/2016   \n",
                            "4             6           6     PAIDOFF       1000     30       9/9/2016   \n",
                            "\n",
                            "    due_date  age             education  Gender  \n",
                            "0  10/7/2016   45  High School or Below    male  \n",
                            "1  10/7/2016   33              Bechalor  female  \n",
                            "2  9/22/2016   27               college    male  \n",
                            "3  10/8/2016   28               college  female  \n",
                            "4  10/8/2016   29               college    male  "
                        ]
                    },
                    "execution_count": 3,
                    "metadata": {},
                    "output_type": "execute_result"
                }
            ],
            "source": [
                "df = pd.read_csv('loan_train.csv')\n",
                "df.head()"
            ]
        },
        {
            "cell_type": "code",
            "execution_count": 4,
            "metadata": {},
            "outputs": [
                {
                    "data": {
                        "text/plain": [
                            "(346, 10)"
                        ]
                    },
                    "execution_count": 4,
                    "metadata": {},
                    "output_type": "execute_result"
                }
            ],
            "source": [
                "df.shape"
            ]
        },
        {
            "cell_type": "markdown",
            "metadata": {
                "button": false,
                "new_sheet": false,
                "run_control": {
                    "read_only": false
                }
            },
            "source": [
                "### Convert to date time object\n"
            ]
        },
        {
            "cell_type": "code",
            "execution_count": 5,
            "metadata": {
                "button": false,
                "new_sheet": false,
                "run_control": {
                    "read_only": false
                }
            },
            "outputs": [
                {
                    "data": {
                        "text/html": [
                            "<div>\n",
                            "<style scoped>\n",
                            "    .dataframe tbody tr th:only-of-type {\n",
                            "        vertical-align: middle;\n",
                            "    }\n",
                            "\n",
                            "    .dataframe tbody tr th {\n",
                            "        vertical-align: top;\n",
                            "    }\n",
                            "\n",
                            "    .dataframe thead th {\n",
                            "        text-align: right;\n",
                            "    }\n",
                            "</style>\n",
                            "<table border=\"1\" class=\"dataframe\">\n",
                            "  <thead>\n",
                            "    <tr style=\"text-align: right;\">\n",
                            "      <th></th>\n",
                            "      <th>Unnamed: 0.1</th>\n",
                            "      <th>Unnamed: 0</th>\n",
                            "      <th>loan_status</th>\n",
                            "      <th>Principal</th>\n",
                            "      <th>terms</th>\n",
                            "      <th>effective_date</th>\n",
                            "      <th>due_date</th>\n",
                            "      <th>age</th>\n",
                            "      <th>education</th>\n",
                            "      <th>Gender</th>\n",
                            "    </tr>\n",
                            "  </thead>\n",
                            "  <tbody>\n",
                            "    <tr>\n",
                            "      <th>0</th>\n",
                            "      <td>0</td>\n",
                            "      <td>0</td>\n",
                            "      <td>PAIDOFF</td>\n",
                            "      <td>1000</td>\n",
                            "      <td>30</td>\n",
                            "      <td>2016-09-08</td>\n",
                            "      <td>2016-10-07</td>\n",
                            "      <td>45</td>\n",
                            "      <td>High School or Below</td>\n",
                            "      <td>male</td>\n",
                            "    </tr>\n",
                            "    <tr>\n",
                            "      <th>1</th>\n",
                            "      <td>2</td>\n",
                            "      <td>2</td>\n",
                            "      <td>PAIDOFF</td>\n",
                            "      <td>1000</td>\n",
                            "      <td>30</td>\n",
                            "      <td>2016-09-08</td>\n",
                            "      <td>2016-10-07</td>\n",
                            "      <td>33</td>\n",
                            "      <td>Bechalor</td>\n",
                            "      <td>female</td>\n",
                            "    </tr>\n",
                            "    <tr>\n",
                            "      <th>2</th>\n",
                            "      <td>3</td>\n",
                            "      <td>3</td>\n",
                            "      <td>PAIDOFF</td>\n",
                            "      <td>1000</td>\n",
                            "      <td>15</td>\n",
                            "      <td>2016-09-08</td>\n",
                            "      <td>2016-09-22</td>\n",
                            "      <td>27</td>\n",
                            "      <td>college</td>\n",
                            "      <td>male</td>\n",
                            "    </tr>\n",
                            "    <tr>\n",
                            "      <th>3</th>\n",
                            "      <td>4</td>\n",
                            "      <td>4</td>\n",
                            "      <td>PAIDOFF</td>\n",
                            "      <td>1000</td>\n",
                            "      <td>30</td>\n",
                            "      <td>2016-09-09</td>\n",
                            "      <td>2016-10-08</td>\n",
                            "      <td>28</td>\n",
                            "      <td>college</td>\n",
                            "      <td>female</td>\n",
                            "    </tr>\n",
                            "    <tr>\n",
                            "      <th>4</th>\n",
                            "      <td>6</td>\n",
                            "      <td>6</td>\n",
                            "      <td>PAIDOFF</td>\n",
                            "      <td>1000</td>\n",
                            "      <td>30</td>\n",
                            "      <td>2016-09-09</td>\n",
                            "      <td>2016-10-08</td>\n",
                            "      <td>29</td>\n",
                            "      <td>college</td>\n",
                            "      <td>male</td>\n",
                            "    </tr>\n",
                            "  </tbody>\n",
                            "</table>\n",
                            "</div>"
                        ],
                        "text/plain": [
                            "   Unnamed: 0.1  Unnamed: 0 loan_status  Principal  terms effective_date  \\\n",
                            "0             0           0     PAIDOFF       1000     30     2016-09-08   \n",
                            "1             2           2     PAIDOFF       1000     30     2016-09-08   \n",
                            "2             3           3     PAIDOFF       1000     15     2016-09-08   \n",
                            "3             4           4     PAIDOFF       1000     30     2016-09-09   \n",
                            "4             6           6     PAIDOFF       1000     30     2016-09-09   \n",
                            "\n",
                            "    due_date  age             education  Gender  \n",
                            "0 2016-10-07   45  High School or Below    male  \n",
                            "1 2016-10-07   33              Bechalor  female  \n",
                            "2 2016-09-22   27               college    male  \n",
                            "3 2016-10-08   28               college  female  \n",
                            "4 2016-10-08   29               college    male  "
                        ]
                    },
                    "execution_count": 5,
                    "metadata": {},
                    "output_type": "execute_result"
                }
            ],
            "source": [
                "df['due_date'] = pd.to_datetime(df['due_date']) #<----- pd.to_datetime\n",
                "df['effective_date'] = pd.to_datetime(df['effective_date'])\n",
                "df.head()"
            ]
        },
        {
            "cell_type": "markdown",
            "metadata": {
                "button": false,
                "new_sheet": false,
                "run_control": {
                    "read_only": false
                }
            },
            "source": [
                "# Data visualization and pre-processing\n"
            ]
        },
        {
            "cell_type": "markdown",
            "metadata": {
                "button": false,
                "new_sheet": false,
                "run_control": {
                    "read_only": false
                }
            },
            "source": [
                "Let’s see how many of each class is in our data set\n"
            ]
        },
        {
            "cell_type": "code",
            "execution_count": 6,
            "metadata": {
                "button": false,
                "new_sheet": false,
                "run_control": {
                    "read_only": false
                }
            },
            "outputs": [
                {
                    "data": {
                        "text/plain": [
                            "PAIDOFF       260\n",
                            "COLLECTION     86\n",
                            "Name: loan_status, dtype: int64"
                        ]
                    },
                    "execution_count": 6,
                    "metadata": {},
                    "output_type": "execute_result"
                }
            ],
            "source": [
                "df['loan_status'].value_counts() #<-----data_frame.value_counts()"
            ]
        },
        {
            "cell_type": "markdown",
            "metadata": {
                "button": false,
                "new_sheet": false,
                "run_control": {
                    "read_only": false
                }
            },
            "source": [
                "260 people have paid off the loan on time while 86 have gone into collection\n"
            ]
        },
        {
            "cell_type": "markdown",
            "metadata": {},
            "source": [
                "Let's plot some columns to underestand data better:\n"
            ]
        },
        {
            "cell_type": "code",
            "execution_count": 7,
            "metadata": {},
            "outputs": [
                {
                    "name": "stderr",
                    "output_type": "stream",
                    "text": [
                        "'conda' ���O�����Υ~���R�O�B�i���檺�{���Χ妸�ɡC\n"
                    ]
                }
            ],
            "source": [
                "# notice: installing seaborn might takes a few minutes\n",
                "!conda install -c anaconda seaborn -y"
            ]
        },
        {
            "cell_type": "code",
            "execution_count": 8,
            "metadata": {},
            "outputs": [
                {
                    "data": {
                        "image/png": "[encoded data removed]",
                        "text/plain": [
                            "<Figure size 432x216 with 2 Axes>"
                        ]
                    },
                    "metadata": {
                        "needs_background": "light"
                    },
                    "output_type": "display_data"
                }
            ],
            "source": [
                "import seaborn as sns\n",
                "\n",
                "bins = np.linspace(df.Principal.min(), df.Principal.max(), 10)\n",
                "g = sns.FacetGrid(df, col=\"Gender\", hue=\"loan_status\", palette=\"Set1\", col_wrap=2)\n",
                "g.map(plt.hist, 'Principal', bins=bins, ec=\"k\")\n",
                "\n",
                "g.axes[-1].legend()\n",
                "plt.show()"
            ]
        },
        {
            "cell_type": "code",
            "execution_count": 9,
            "metadata": {
                "button": false,
                "new_sheet": false,
                "run_control": {
                    "read_only": false
                }
            },
            "outputs": [
                {
                    "data": {
                        "image/png": "[encoded data removed]",
                        "text/plain": [
                            "<Figure size 432x216 with 2 Axes>"
                        ]
                    },
                    "metadata": {
                        "needs_background": "light"
                    },
                    "output_type": "display_data"
                }
            ],
            "source": [
                "bins = np.linspace(df.age.min(), df.age.max(), 10)\n",
                "g = sns.FacetGrid(df, col=\"Gender\", hue=\"loan_status\", palette=\"Set1\", col_wrap=2)\n",
                "g.map(plt.hist, 'age', bins=bins, ec=\"k\")\n",
                "\n",
                "g.axes[-1].legend()\n",
                "plt.show()"
            ]
        },
        {
            "cell_type": "markdown",
            "metadata": {
                "button": false,
                "new_sheet": false,
                "run_control": {
                    "read_only": false
                }
            },
            "source": [
                "# Pre-processing:  Feature selection/extraction\n"
            ]
        },
        {
            "cell_type": "markdown",
            "metadata": {
                "button": false,
                "new_sheet": false,
                "run_control": {
                    "read_only": false
                }
            },
            "source": [
                "### Let's look at the day of the week people get the loan\n"
            ]
        },
        {
            "cell_type": "code",
            "execution_count": 10,
            "metadata": {
                "button": false,
                "new_sheet": false,
                "run_control": {
                    "read_only": false
                }
            },
            "outputs": [
                {
                    "data": {
                        "image/png": "[encoded data removed]",
                        "text/plain": [
                            "<Figure size 432x216 with 2 Axes>"
                        ]
                    },
                    "metadata": {
                        "needs_background": "light"
                    },
                    "output_type": "display_data"
                }
            ],
            "source": [
                "df['dayofweek'] = df['effective_date'].dt.dayofweek\n",
                "bins = np.linspace(df.dayofweek.min(), df.dayofweek.max(), 10)\n",
                "g = sns.FacetGrid(df, col=\"Gender\", hue=\"loan_status\", palette=\"Set1\", col_wrap=2)\n",
                "g.map(plt.hist, 'dayofweek', bins=bins, ec=\"k\")\n",
                "g.axes[-1].legend()\n",
                "plt.show()\n"
            ]
        },
        {
            "cell_type": "markdown",
            "metadata": {
                "button": false,
                "new_sheet": false,
                "run_control": {
                    "read_only": false
                }
            },
            "source": [
                "We see that people who get the loan at the end of the week don't pay it off, so let's use Feature binarization to set a threshold value less than day 4\n"
            ]
        },
        {
            "cell_type": "code",
            "execution_count": 11,
            "metadata": {
                "button": false,
                "new_sheet": false,
                "run_control": {
                    "read_only": false
                }
            },
            "outputs": [
                {
                    "data": {
                        "text/html": [
                            "<div>\n",
                            "<style scoped>\n",
                            "    .dataframe tbody tr th:only-of-type {\n",
                            "        vertical-align: middle;\n",
                            "    }\n",
                            "\n",
                            "    .dataframe tbody tr th {\n",
                            "        vertical-align: top;\n",
                            "    }\n",
                            "\n",
                            "    .dataframe thead th {\n",
                            "        text-align: right;\n",
                            "    }\n",
                            "</style>\n",
                            "<table border=\"1\" class=\"dataframe\">\n",
                            "  <thead>\n",
                            "    <tr style=\"text-align: right;\">\n",
                            "      <th></th>\n",
                            "      <th>Unnamed: 0.1</th>\n",
                            "      <th>Unnamed: 0</th>\n",
                            "      <th>loan_status</th>\n",
                            "      <th>Principal</th>\n",
                            "      <th>terms</th>\n",
                            "      <th>effective_date</th>\n",
                            "      <th>due_date</th>\n",
                            "      <th>age</th>\n",
                            "      <th>education</th>\n",
                            "      <th>Gender</th>\n",
                            "      <th>dayofweek</th>\n",
                            "      <th>weekend</th>\n",
                            "    </tr>\n",
                            "  </thead>\n",
                            "  <tbody>\n",
                            "    <tr>\n",
                            "      <th>0</th>\n",
                            "      <td>0</td>\n",
                            "      <td>0</td>\n",
                            "      <td>PAIDOFF</td>\n",
                            "      <td>1000</td>\n",
                            "      <td>30</td>\n",
                            "      <td>2016-09-08</td>\n",
                            "      <td>2016-10-07</td>\n",
                            "      <td>45</td>\n",
                            "      <td>High School or Below</td>\n",
                            "      <td>male</td>\n",
                            "      <td>3</td>\n",
                            "      <td>0</td>\n",
                            "    </tr>\n",
                            "    <tr>\n",
                            "      <th>1</th>\n",
                            "      <td>2</td>\n",
                            "      <td>2</td>\n",
                            "      <td>PAIDOFF</td>\n",
                            "      <td>1000</td>\n",
                            "      <td>30</td>\n",
                            "      <td>2016-09-08</td>\n",
                            "      <td>2016-10-07</td>\n",
                            "      <td>33</td>\n",
                            "      <td>Bechalor</td>\n",
                            "      <td>female</td>\n",
                            "      <td>3</td>\n",
                            "      <td>0</td>\n",
                            "    </tr>\n",
                            "    <tr>\n",
                            "      <th>2</th>\n",
                            "      <td>3</td>\n",
                            "      <td>3</td>\n",
                            "      <td>PAIDOFF</td>\n",
                            "      <td>1000</td>\n",
                            "      <td>15</td>\n",
                            "      <td>2016-09-08</td>\n",
                            "      <td>2016-09-22</td>\n",
                            "      <td>27</td>\n",
                            "      <td>college</td>\n",
                            "      <td>male</td>\n",
                            "      <td>3</td>\n",
                            "      <td>0</td>\n",
                            "    </tr>\n",
                            "    <tr>\n",
                            "      <th>3</th>\n",
                            "      <td>4</td>\n",
                            "      <td>4</td>\n",
                            "      <td>PAIDOFF</td>\n",
                            "      <td>1000</td>\n",
                            "      <td>30</td>\n",
                            "      <td>2016-09-09</td>\n",
                            "      <td>2016-10-08</td>\n",
                            "      <td>28</td>\n",
                            "      <td>college</td>\n",
                            "      <td>female</td>\n",
                            "      <td>4</td>\n",
                            "      <td>1</td>\n",
                            "    </tr>\n",
                            "    <tr>\n",
                            "      <th>4</th>\n",
                            "      <td>6</td>\n",
                            "      <td>6</td>\n",
                            "      <td>PAIDOFF</td>\n",
                            "      <td>1000</td>\n",
                            "      <td>30</td>\n",
                            "      <td>2016-09-09</td>\n",
                            "      <td>2016-10-08</td>\n",
                            "      <td>29</td>\n",
                            "      <td>college</td>\n",
                            "      <td>male</td>\n",
                            "      <td>4</td>\n",
                            "      <td>1</td>\n",
                            "    </tr>\n",
                            "  </tbody>\n",
                            "</table>\n",
                            "</div>"
                        ],
                        "text/plain": [
                            "   Unnamed: 0.1  Unnamed: 0 loan_status  Principal  terms effective_date  \\\n",
                            "0             0           0     PAIDOFF       1000     30     2016-09-08   \n",
                            "1             2           2     PAIDOFF       1000     30     2016-09-08   \n",
                            "2             3           3     PAIDOFF       1000     15     2016-09-08   \n",
                            "3             4           4     PAIDOFF       1000     30     2016-09-09   \n",
                            "4             6           6     PAIDOFF       1000     30     2016-09-09   \n",
                            "\n",
                            "    due_date  age             education  Gender  dayofweek  weekend  \n",
                            "0 2016-10-07   45  High School or Below    male          3        0  \n",
                            "1 2016-10-07   33              Bechalor  female          3        0  \n",
                            "2 2016-09-22   27               college    male          3        0  \n",
                            "3 2016-10-08   28               college  female          4        1  \n",
                            "4 2016-10-08   29               college    male          4        1  "
                        ]
                    },
                    "execution_count": 11,
                    "metadata": {},
                    "output_type": "execute_result"
                }
            ],
            "source": [
                "df['weekend'] = df['dayofweek'].apply(lambda x: 1 if (x>3)  else 0)\n",
                "df.head()"
            ]
        },
        {
            "cell_type": "markdown",
            "metadata": {
                "button": false,
                "new_sheet": false,
                "run_control": {
                    "read_only": false
                }
            },
            "source": [
                "## Convert Categorical features to numerical values\n"
            ]
        },
        {
            "cell_type": "markdown",
            "metadata": {
                "button": false,
                "new_sheet": false,
                "run_control": {
                    "read_only": false
                }
            },
            "source": [
                "Let's look at gender:\n"
            ]
        },
        {
            "cell_type": "code",
            "execution_count": 12,
            "metadata": {
                "button": false,
                "new_sheet": false,
                "run_control": {
                    "read_only": false
                }
            },
            "outputs": [
                {
                    "data": {
                        "text/plain": [
                            "Gender  loan_status\n",
                            "female  PAIDOFF        0.865385\n",
                            "        COLLECTION     0.134615\n",
                            "male    PAIDOFF        0.731293\n",
                            "        COLLECTION     0.268707\n",
                            "Name: loan_status, dtype: float64"
                        ]
                    },
                    "execution_count": 12,
                    "metadata": {},
                    "output_type": "execute_result"
                }
            ],
            "source": [
                "df.groupby(['Gender'])['loan_status'].value_counts(normalize=True)"
            ]
        },
        {
            "cell_type": "markdown",
            "metadata": {
                "button": false,
                "new_sheet": false,
                "run_control": {
                    "read_only": false
                }
            },
            "source": [
                "86 % of female pay there loans while only 73 % of males pay there loan\n"
            ]
        },
        {
            "cell_type": "markdown",
            "metadata": {
                "button": false,
                "new_sheet": false,
                "run_control": {
                    "read_only": false
                }
            },
            "source": [
                "Let's convert male to 0 and female to 1:\n"
            ]
        },
        {
            "cell_type": "code",
            "execution_count": 13,
            "metadata": {
                "button": false,
                "new_sheet": false,
                "run_control": {
                    "read_only": false
                }
            },
            "outputs": [
                {
                    "data": {
                        "text/html": [
                            "<div>\n",
                            "<style scoped>\n",
                            "    .dataframe tbody tr th:only-of-type {\n",
                            "        vertical-align: middle;\n",
                            "    }\n",
                            "\n",
                            "    .dataframe tbody tr th {\n",
                            "        vertical-align: top;\n",
                            "    }\n",
                            "\n",
                            "    .dataframe thead th {\n",
                            "        text-align: right;\n",
                            "    }\n",
                            "</style>\n",
                            "<table border=\"1\" class=\"dataframe\">\n",
                            "  <thead>\n",
                            "    <tr style=\"text-align: right;\">\n",
                            "      <th></th>\n",
                            "      <th>Unnamed: 0.1</th>\n",
                            "      <th>Unnamed: 0</th>\n",
                            "      <th>loan_status</th>\n",
                            "      <th>Principal</th>\n",
                            "      <th>terms</th>\n",
                            "      <th>effective_date</th>\n",
                            "      <th>due_date</th>\n",
                            "      <th>age</th>\n",
                            "      <th>education</th>\n",
                            "      <th>Gender</th>\n",
                            "      <th>dayofweek</th>\n",
                            "      <th>weekend</th>\n",
                            "    </tr>\n",
                            "  </thead>\n",
                            "  <tbody>\n",
                            "    <tr>\n",
                            "      <th>0</th>\n",
                            "      <td>0</td>\n",
                            "      <td>0</td>\n",
                            "      <td>PAIDOFF</td>\n",
                            "      <td>1000</td>\n",
                            "      <td>30</td>\n",
                            "      <td>2016-09-08</td>\n",
                            "      <td>2016-10-07</td>\n",
                            "      <td>45</td>\n",
                            "      <td>High School or Below</td>\n",
                            "      <td>0</td>\n",
                            "      <td>3</td>\n",
                            "      <td>0</td>\n",
                            "    </tr>\n",
                            "    <tr>\n",
                            "      <th>1</th>\n",
                            "      <td>2</td>\n",
                            "      <td>2</td>\n",
                            "      <td>PAIDOFF</td>\n",
                            "      <td>1000</td>\n",
                            "      <td>30</td>\n",
                            "      <td>2016-09-08</td>\n",
                            "      <td>2016-10-07</td>\n",
                            "      <td>33</td>\n",
                            "      <td>Bechalor</td>\n",
                            "      <td>1</td>\n",
                            "      <td>3</td>\n",
                            "      <td>0</td>\n",
                            "    </tr>\n",
                            "    <tr>\n",
                            "      <th>2</th>\n",
                            "      <td>3</td>\n",
                            "      <td>3</td>\n",
                            "      <td>PAIDOFF</td>\n",
                            "      <td>1000</td>\n",
                            "      <td>15</td>\n",
                            "      <td>2016-09-08</td>\n",
                            "      <td>2016-09-22</td>\n",
                            "      <td>27</td>\n",
                            "      <td>college</td>\n",
                            "      <td>0</td>\n",
                            "      <td>3</td>\n",
                            "      <td>0</td>\n",
                            "    </tr>\n",
                            "    <tr>\n",
                            "      <th>3</th>\n",
                            "      <td>4</td>\n",
                            "      <td>4</td>\n",
                            "      <td>PAIDOFF</td>\n",
                            "      <td>1000</td>\n",
                            "      <td>30</td>\n",
                            "      <td>2016-09-09</td>\n",
                            "      <td>2016-10-08</td>\n",
                            "      <td>28</td>\n",
                            "      <td>college</td>\n",
                            "      <td>1</td>\n",
                            "      <td>4</td>\n",
                            "      <td>1</td>\n",
                            "    </tr>\n",
                            "    <tr>\n",
                            "      <th>4</th>\n",
                            "      <td>6</td>\n",
                            "      <td>6</td>\n",
                            "      <td>PAIDOFF</td>\n",
                            "      <td>1000</td>\n",
                            "      <td>30</td>\n",
                            "      <td>2016-09-09</td>\n",
                            "      <td>2016-10-08</td>\n",
                            "      <td>29</td>\n",
                            "      <td>college</td>\n",
                            "      <td>0</td>\n",
                            "      <td>4</td>\n",
                            "      <td>1</td>\n",
                            "    </tr>\n",
                            "  </tbody>\n",
                            "</table>\n",
                            "</div>"
                        ],
                        "text/plain": [
                            "   Unnamed: 0.1  Unnamed: 0 loan_status  Principal  terms effective_date  \\\n",
                            "0             0           0     PAIDOFF       1000     30     2016-09-08   \n",
                            "1             2           2     PAIDOFF       1000     30     2016-09-08   \n",
                            "2             3           3     PAIDOFF       1000     15     2016-09-08   \n",
                            "3             4           4     PAIDOFF       1000     30     2016-09-09   \n",
                            "4             6           6     PAIDOFF       1000     30     2016-09-09   \n",
                            "\n",
                            "    due_date  age             education  Gender  dayofweek  weekend  \n",
                            "0 2016-10-07   45  High School or Below       0          3        0  \n",
                            "1 2016-10-07   33              Bechalor       1          3        0  \n",
                            "2 2016-09-22   27               college       0          3        0  \n",
                            "3 2016-10-08   28               college       1          4        1  \n",
                            "4 2016-10-08   29               college       0          4        1  "
                        ]
                    },
                    "execution_count": 13,
                    "metadata": {},
                    "output_type": "execute_result"
                }
            ],
            "source": [
                "df['Gender'].replace(to_replace=['male','female'], value=[0,1],inplace=True)\n",
                "df.head()"
            ]
        },
        {
            "cell_type": "markdown",
            "metadata": {
                "button": false,
                "new_sheet": false,
                "run_control": {
                    "read_only": false
                }
            },
            "source": [
                "## One Hot Encoding\n",
                "\n",
                "#### How about education?\n"
            ]
        },
        {
            "cell_type": "code",
            "execution_count": 14,
            "metadata": {
                "button": false,
                "new_sheet": false,
                "run_control": {
                    "read_only": false
                }
            },
            "outputs": [
                {
                    "data": {
                        "text/plain": [
                            "education             loan_status\n",
                            "Bechalor              PAIDOFF        0.750000\n",
                            "                      COLLECTION     0.250000\n",
                            "High School or Below  PAIDOFF        0.741722\n",
                            "                      COLLECTION     0.258278\n",
                            "Master or Above       COLLECTION     0.500000\n",
                            "                      PAIDOFF        0.500000\n",
                            "college               PAIDOFF        0.765101\n",
                            "                      COLLECTION     0.234899\n",
                            "Name: loan_status, dtype: float64"
                        ]
                    },
                    "execution_count": 14,
                    "metadata": {},
                    "output_type": "execute_result"
                }
            ],
            "source": [
                "df.groupby(['education'])['loan_status'].value_counts(normalize=True)"
            ]
        },
        {
            "cell_type": "markdown",
            "metadata": {
                "button": false,
                "new_sheet": false,
                "run_control": {
                    "read_only": false
                }
            },
            "source": [
                "#### Features before One Hot Encoding\n"
            ]
        },
        {
            "cell_type": "code",
            "execution_count": 15,
            "metadata": {
                "button": false,
                "new_sheet": false,
                "run_control": {
                    "read_only": false
                }
            },
            "outputs": [
                {
                    "data": {
                        "text/html": [
                            "<div>\n",
                            "<style scoped>\n",
                            "    .dataframe tbody tr th:only-of-type {\n",
                            "        vertical-align: middle;\n",
                            "    }\n",
                            "\n",
                            "    .dataframe tbody tr th {\n",
                            "        vertical-align: top;\n",
                            "    }\n",
                            "\n",
                            "    .dataframe thead th {\n",
                            "        text-align: right;\n",
                            "    }\n",
                            "</style>\n",
                            "<table border=\"1\" class=\"dataframe\">\n",
                            "  <thead>\n",
                            "    <tr style=\"text-align: right;\">\n",
                            "      <th></th>\n",
                            "      <th>Principal</th>\n",
                            "      <th>terms</th>\n",
                            "      <th>age</th>\n",
                            "      <th>Gender</th>\n",
                            "      <th>education</th>\n",
                            "    </tr>\n",
                            "  </thead>\n",
                            "  <tbody>\n",
                            "    <tr>\n",
                            "      <th>0</th>\n",
                            "      <td>1000</td>\n",
                            "      <td>30</td>\n",
                            "      <td>45</td>\n",
                            "      <td>0</td>\n",
                            "      <td>High School or Below</td>\n",
                            "    </tr>\n",
                            "    <tr>\n",
                            "      <th>1</th>\n",
                            "      <td>1000</td>\n",
                            "      <td>30</td>\n",
                            "      <td>33</td>\n",
                            "      <td>1</td>\n",
                            "      <td>Bechalor</td>\n",
                            "    </tr>\n",
                            "    <tr>\n",
                            "      <th>2</th>\n",
                            "      <td>1000</td>\n",
                            "      <td>15</td>\n",
                            "      <td>27</td>\n",
                            "      <td>0</td>\n",
                            "      <td>college</td>\n",
                            "    </tr>\n",
                            "    <tr>\n",
                            "      <th>3</th>\n",
                            "      <td>1000</td>\n",
                            "      <td>30</td>\n",
                            "      <td>28</td>\n",
                            "      <td>1</td>\n",
                            "      <td>college</td>\n",
                            "    </tr>\n",
                            "    <tr>\n",
                            "      <th>4</th>\n",
                            "      <td>1000</td>\n",
                            "      <td>30</td>\n",
                            "      <td>29</td>\n",
                            "      <td>0</td>\n",
                            "      <td>college</td>\n",
                            "    </tr>\n",
                            "  </tbody>\n",
                            "</table>\n",
                            "</div>"
                        ],
                        "text/plain": [
                            "   Principal  terms  age  Gender             education\n",
                            "0       1000     30   45       0  High School or Below\n",
                            "1       1000     30   33       1              Bechalor\n",
                            "2       1000     15   27       0               college\n",
                            "3       1000     30   28       1               college\n",
                            "4       1000     30   29       0               college"
                        ]
                    },
                    "execution_count": 15,
                    "metadata": {},
                    "output_type": "execute_result"
                }
            ],
            "source": [
                "df[['Principal','terms','age','Gender','education']].head()"
            ]
        },
        {
            "cell_type": "markdown",
            "metadata": {
                "button": false,
                "new_sheet": false,
                "run_control": {
                    "read_only": false
                }
            },
            "source": [
                "#### Use one hot encoding technique to conver categorical varables to binary variables and append them to the feature Data Frame\n"
            ]
        },
        {
            "cell_type": "code",
            "execution_count": 16,
            "metadata": {
                "button": false,
                "new_sheet": false,
                "run_control": {
                    "read_only": false
                }
            },
            "outputs": [
                {
                    "data": {
                        "text/html": [
                            "<div>\n",
                            "<style scoped>\n",
                            "    .dataframe tbody tr th:only-of-type {\n",
                            "        vertical-align: middle;\n",
                            "    }\n",
                            "\n",
                            "    .dataframe tbody tr th {\n",
                            "        vertical-align: top;\n",
                            "    }\n",
                            "\n",
                            "    .dataframe thead th {\n",
                            "        text-align: right;\n",
                            "    }\n",
                            "</style>\n",
                            "<table border=\"1\" class=\"dataframe\">\n",
                            "  <thead>\n",
                            "    <tr style=\"text-align: right;\">\n",
                            "      <th></th>\n",
                            "      <th>Principal</th>\n",
                            "      <th>terms</th>\n",
                            "      <th>age</th>\n",
                            "      <th>Gender</th>\n",
                            "      <th>weekend</th>\n",
                            "      <th>Bechalor</th>\n",
                            "      <th>High School or Below</th>\n",
                            "      <th>college</th>\n",
                            "    </tr>\n",
                            "  </thead>\n",
                            "  <tbody>\n",
                            "    <tr>\n",
                            "      <th>0</th>\n",
                            "      <td>1000</td>\n",
                            "      <td>30</td>\n",
                            "      <td>45</td>\n",
                            "      <td>0</td>\n",
                            "      <td>0</td>\n",
                            "      <td>0</td>\n",
                            "      <td>1</td>\n",
                            "      <td>0</td>\n",
                            "    </tr>\n",
                            "    <tr>\n",
                            "      <th>1</th>\n",
                            "      <td>1000</td>\n",
                            "      <td>30</td>\n",
                            "      <td>33</td>\n",
                            "      <td>1</td>\n",
                            "      <td>0</td>\n",
                            "      <td>1</td>\n",
                            "      <td>0</td>\n",
                            "      <td>0</td>\n",
                            "    </tr>\n",
                            "    <tr>\n",
                            "      <th>2</th>\n",
                            "      <td>1000</td>\n",
                            "      <td>15</td>\n",
                            "      <td>27</td>\n",
                            "      <td>0</td>\n",
                            "      <td>0</td>\n",
                            "      <td>0</td>\n",
                            "      <td>0</td>\n",
                            "      <td>1</td>\n",
                            "    </tr>\n",
                            "    <tr>\n",
                            "      <th>3</th>\n",
                            "      <td>1000</td>\n",
                            "      <td>30</td>\n",
                            "      <td>28</td>\n",
                            "      <td>1</td>\n",
                            "      <td>1</td>\n",
                            "      <td>0</td>\n",
                            "      <td>0</td>\n",
                            "      <td>1</td>\n",
                            "    </tr>\n",
                            "    <tr>\n",
                            "      <th>4</th>\n",
                            "      <td>1000</td>\n",
                            "      <td>30</td>\n",
                            "      <td>29</td>\n",
                            "      <td>0</td>\n",
                            "      <td>1</td>\n",
                            "      <td>0</td>\n",
                            "      <td>0</td>\n",
                            "      <td>1</td>\n",
                            "    </tr>\n",
                            "  </tbody>\n",
                            "</table>\n",
                            "</div>"
                        ],
                        "text/plain": [
                            "   Principal  terms  age  Gender  weekend  Bechalor  High School or Below  \\\n",
                            "0       1000     30   45       0        0         0                     1   \n",
                            "1       1000     30   33       1        0         1                     0   \n",
                            "2       1000     15   27       0        0         0                     0   \n",
                            "3       1000     30   28       1        1         0                     0   \n",
                            "4       1000     30   29       0        1         0                     0   \n",
                            "\n",
                            "   college  \n",
                            "0        0  \n",
                            "1        0  \n",
                            "2        1  \n",
                            "3        1  \n",
                            "4        1  "
                        ]
                    },
                    "execution_count": 16,
                    "metadata": {},
                    "output_type": "execute_result"
                }
            ],
            "source": [
                "Feature = df[['Principal','terms','age','Gender','weekend']]\n",
                "Feature = pd.concat([Feature,pd.get_dummies(df['education'])], axis=1)\n",
                "Feature.drop(['Master or Above'], axis = 1,inplace=True)\n",
                "Feature.head()\n"
            ]
        },
        {
            "cell_type": "markdown",
            "metadata": {
                "button": false,
                "new_sheet": false,
                "run_control": {
                    "read_only": false
                }
            },
            "source": [
                "### Feature Selection\n"
            ]
        },
        {
            "cell_type": "markdown",
            "metadata": {
                "button": false,
                "new_sheet": false,
                "run_control": {
                    "read_only": false
                }
            },
            "source": [
                "Let's define feature sets, X:\n"
            ]
        },
        {
            "cell_type": "code",
            "execution_count": 17,
            "metadata": {
                "button": false,
                "new_sheet": false,
                "run_control": {
                    "read_only": false
                }
            },
            "outputs": [
                {
                    "data": {
                        "text/html": [
                            "<div>\n",
                            "<style scoped>\n",
                            "    .dataframe tbody tr th:only-of-type {\n",
                            "        vertical-align: middle;\n",
                            "    }\n",
                            "\n",
                            "    .dataframe tbody tr th {\n",
                            "        vertical-align: top;\n",
                            "    }\n",
                            "\n",
                            "    .dataframe thead th {\n",
                            "        text-align: right;\n",
                            "    }\n",
                            "</style>\n",
                            "<table border=\"1\" class=\"dataframe\">\n",
                            "  <thead>\n",
                            "    <tr style=\"text-align: right;\">\n",
                            "      <th></th>\n",
                            "      <th>Principal</th>\n",
                            "      <th>terms</th>\n",
                            "      <th>age</th>\n",
                            "      <th>Gender</th>\n",
                            "      <th>weekend</th>\n",
                            "      <th>Bechalor</th>\n",
                            "      <th>High School or Below</th>\n",
                            "      <th>college</th>\n",
                            "    </tr>\n",
                            "  </thead>\n",
                            "  <tbody>\n",
                            "    <tr>\n",
                            "      <th>0</th>\n",
                            "      <td>1000</td>\n",
                            "      <td>30</td>\n",
                            "      <td>45</td>\n",
                            "      <td>0</td>\n",
                            "      <td>0</td>\n",
                            "      <td>0</td>\n",
                            "      <td>1</td>\n",
                            "      <td>0</td>\n",
                            "    </tr>\n",
                            "    <tr>\n",
                            "      <th>1</th>\n",
                            "      <td>1000</td>\n",
                            "      <td>30</td>\n",
                            "      <td>33</td>\n",
                            "      <td>1</td>\n",
                            "      <td>0</td>\n",
                            "      <td>1</td>\n",
                            "      <td>0</td>\n",
                            "      <td>0</td>\n",
                            "    </tr>\n",
                            "    <tr>\n",
                            "      <th>2</th>\n",
                            "      <td>1000</td>\n",
                            "      <td>15</td>\n",
                            "      <td>27</td>\n",
                            "      <td>0</td>\n",
                            "      <td>0</td>\n",
                            "      <td>0</td>\n",
                            "      <td>0</td>\n",
                            "      <td>1</td>\n",
                            "    </tr>\n",
                            "    <tr>\n",
                            "      <th>3</th>\n",
                            "      <td>1000</td>\n",
                            "      <td>30</td>\n",
                            "      <td>28</td>\n",
                            "      <td>1</td>\n",
                            "      <td>1</td>\n",
                            "      <td>0</td>\n",
                            "      <td>0</td>\n",
                            "      <td>1</td>\n",
                            "    </tr>\n",
                            "    <tr>\n",
                            "      <th>4</th>\n",
                            "      <td>1000</td>\n",
                            "      <td>30</td>\n",
                            "      <td>29</td>\n",
                            "      <td>0</td>\n",
                            "      <td>1</td>\n",
                            "      <td>0</td>\n",
                            "      <td>0</td>\n",
                            "      <td>1</td>\n",
                            "    </tr>\n",
                            "  </tbody>\n",
                            "</table>\n",
                            "</div>"
                        ],
                        "text/plain": [
                            "   Principal  terms  age  Gender  weekend  Bechalor  High School or Below  \\\n",
                            "0       1000     30   45       0        0         0                     1   \n",
                            "1       1000     30   33       1        0         1                     0   \n",
                            "2       1000     15   27       0        0         0                     0   \n",
                            "3       1000     30   28       1        1         0                     0   \n",
                            "4       1000     30   29       0        1         0                     0   \n",
                            "\n",
                            "   college  \n",
                            "0        0  \n",
                            "1        0  \n",
                            "2        1  \n",
                            "3        1  \n",
                            "4        1  "
                        ]
                    },
                    "execution_count": 17,
                    "metadata": {},
                    "output_type": "execute_result"
                }
            ],
            "source": [
                "X = Feature\n",
                "X[0:5]"
            ]
        },
        {
            "cell_type": "markdown",
            "metadata": {
                "button": false,
                "new_sheet": false,
                "run_control": {
                    "read_only": false
                }
            },
            "source": [
                "What are our lables?\n"
            ]
        },
        {
            "cell_type": "code",
            "execution_count": 18,
            "metadata": {
                "button": false,
                "new_sheet": false,
                "run_control": {
                    "read_only": false
                }
            },
            "outputs": [
                {
                    "data": {
                        "text/plain": [
                            "array(['PAIDOFF', 'PAIDOFF', 'PAIDOFF', 'PAIDOFF', 'PAIDOFF'],\n",
                            "      dtype=object)"
                        ]
                    },
                    "execution_count": 18,
                    "metadata": {},
                    "output_type": "execute_result"
                }
            ],
            "source": [
                "y = df['loan_status'].values\n",
                "y[0:5]"
            ]
        },
        {
            "cell_type": "markdown",
            "metadata": {
                "button": false,
                "new_sheet": false,
                "run_control": {
                    "read_only": false
                }
            },
            "source": [
                "## Normalize Data\n"
            ]
        },
        {
            "cell_type": "markdown",
            "metadata": {
                "button": false,
                "new_sheet": false,
                "run_control": {
                    "read_only": false
                }
            },
            "source": [
                "Data Standardization give data zero mean and unit variance (technically should be done after train test split)\n"
            ]
        },
        {
            "cell_type": "code",
            "execution_count": 19,
            "metadata": {
                "button": false,
                "new_sheet": false,
                "run_control": {
                    "read_only": false
                }
            },
            "outputs": [
                {
                    "data": {
                        "text/plain": [
                            "array([[ 0.51578458,  0.92071769,  2.33152555, -0.42056004, -1.20577805,\n",
                            "        -0.38170062,  1.13639374, -0.86968108],\n",
                            "       [ 0.51578458,  0.92071769,  0.34170148,  2.37778177, -1.20577805,\n",
                            "         2.61985426, -0.87997669, -0.86968108],\n",
                            "       [ 0.51578458, -0.95911111, -0.65321055, -0.42056004, -1.20577805,\n",
                            "        -0.38170062, -0.87997669,  1.14984679],\n",
                            "       [ 0.51578458,  0.92071769, -0.48739188,  2.37778177,  0.82934003,\n",
                            "        -0.38170062, -0.87997669,  1.14984679],\n",
                            "       [ 0.51578458,  0.92071769, -0.3215732 , -0.42056004,  0.82934003,\n",
                            "        -0.38170062, -0.87997669,  1.14984679]])"
                        ]
                    },
                    "execution_count": 19,
                    "metadata": {},
                    "output_type": "execute_result"
                }
            ],
            "source": [
                "X= preprocessing.StandardScaler().fit(X).transform(X)\n",
                "X[0:5]"
            ]
        },
        {
            "cell_type": "markdown",
            "metadata": {
                "button": false,
                "new_sheet": false,
                "run_control": {
                    "read_only": false
                }
            },
            "source": [
                "# Classification\n"
            ]
        },
        {
            "cell_type": "markdown",
            "metadata": {
                "button": false,
                "new_sheet": false,
                "run_control": {
                    "read_only": false
                }
            },
            "source": [
                "Now, it is your turn, use the training set to build an accurate model. Then use the test set to report the accuracy of the model\n",
                "You should use the following algorithm:\n",
                "\n",
                "*   K Nearest Neighbor(KNN)\n",
                "*   Decision Tree\n",
                "*   Support Vector Machine\n",
                "*   Logistic Regression\n",
                "\n",
                "\\__ Notice:\\__\n",
                "\n",
                "*   You can go above and change the pre-processing, feature selection, feature-extraction, and so on, to make a better model.\n",
                "*   You should use either scikit-learn, Scipy or Numpy libraries for developing the classification algorithms.\n",
                "*   You should include the code of the algorithm in the following cells.\n"
            ]
        },
        {
            "cell_type": "markdown",
            "metadata": {},
            "source": [
                "# K Nearest Neighbor(KNN)\n",
                "\n",
                "Notice: You should find the best k to build the model with the best accuracy.\\\n",
                "**warning:** You should not use the **loan_test.csv** for finding the best k, however, you can split your train_loan.csv into train and test to find the best **k**.\n"
            ]
        },
        {
            "cell_type": "code",
            "execution_count": 20,
            "metadata": {},
            "outputs": [],
            "source": [
                "from sklearn.neighbors import KNeighborsClassifier"
            ]
        },
        {
            "cell_type": "code",
            "execution_count": 21,
            "metadata": {},
            "outputs": [
                {
                    "name": "stdout",
                    "output_type": "stream",
                    "text": [
                        "Train set: (276, 8) (276,)\n",
                        "Test set: (70, 8) (70,)\n"
                    ]
                }
            ],
            "source": [
                "from sklearn.model_selection import train_test_split\n",
                "X_train, X_test, y_train, y_test = train_test_split( X, y, test_size=0.2, random_state=4)\n",
                "print ('Train set:', X_train.shape,  y_train.shape)\n",
                "print ('Test set:', X_test.shape,  y_test.shape)"
            ]
        },
        {
            "cell_type": "code",
            "execution_count": 22,
            "metadata": {},
            "outputs": [
                {
                    "name": "stdout",
                    "output_type": "stream",
                    "text": [
                        "Train set Accuracy:  0.8188405797101449\n",
                        "Test set Accuracy:  0.7\n"
                    ]
                }
            ],
            "source": [
                "k = 4 \n",
                "neigh = KNeighborsClassifier(n_neighbors = k).fit(X_train,y_train)\n",
                "yhat = neigh.predict(X_test)\n",
                "from sklearn import metrics\n",
                "print(\"Train set Accuracy: \", metrics.accuracy_score(y_train, neigh.predict(X_train)))\n",
                "print(\"Test set Accuracy: \", metrics.accuracy_score(y_test, yhat))"
            ]
        },
        {
            "cell_type": "code",
            "execution_count": 23,
            "metadata": {},
            "outputs": [
                {
                    "name": "stdout",
                    "output_type": "stream",
                    "text": [
                        "Train set Accuracy:  0.8188405797101449\n",
                        "Test set Accuracy:  0.7428571428571429\n"
                    ]
                }
            ],
            "source": [
                "k = 5\n",
                "neigh = KNeighborsClassifier(n_neighbors = k).fit(X_train,y_train)\n",
                "yhat = neigh.predict(X_test)\n",
                "from sklearn import metrics\n",
                "print(\"Train set Accuracy: \", metrics.accuracy_score(y_train, neigh.predict(X_train)))\n",
                "print(\"Test set Accuracy: \", metrics.accuracy_score(y_test, yhat))"
            ]
        },
        {
            "cell_type": "code",
            "execution_count": 24,
            "metadata": {},
            "outputs": [
                {
                    "name": "stdout",
                    "output_type": "stream",
                    "text": [
                        "Train set Accuracy:  0.7971014492753623\n",
                        "Test set Accuracy:  0.7142857142857143\n"
                    ]
                }
            ],
            "source": [
                "k = 6\n",
                "neigh = KNeighborsClassifier(n_neighbors = k).fit(X_train,y_train)\n",
                "yhat = neigh.predict(X_test)\n",
                "from sklearn import metrics\n",
                "print(\"Train set Accuracy: \", metrics.accuracy_score(y_train, neigh.predict(X_train)))\n",
                "print(\"Test set Accuracy: \", metrics.accuracy_score(y_test, yhat))"
            ]
        },
        {
            "cell_type": "markdown",
            "metadata": {},
            "source": [
                "# Decision Tree\n"
            ]
        },
        {
            "cell_type": "code",
            "execution_count": 25,
            "metadata": {},
            "outputs": [
                {
                    "data": {
                        "text/html": [
                            "<style>#sk-container-id-1 {color: black;background-color: white;}#sk-container-id-1 pre{padding: 0;}#sk-container-id-1 div.sk-toggleable {background-color: white;}#sk-container-id-1 label.sk-toggleable__label {cursor: pointer;display: block;width: 100%;margin-bottom: 0;padding: 0.3em;box-sizing: border-box;text-align: center;}#sk-container-id-1 label.sk-toggleable__label-arrow:before {content: \"▸\";float: left;margin-right: 0.25em;color: #696969;}#sk-container-id-1 label.sk-toggleable__label-arrow:hover:before {color: black;}#sk-container-id-1 div.sk-estimator:hover label.sk-toggleable__label-arrow:before {color: black;}#sk-container-id-1 div.sk-toggleable__content {max-height: 0;max-width: 0;overflow: hidden;text-align: left;background-color: #f0f8ff;}#sk-container-id-1 div.sk-toggleable__content pre {margin: 0.2em;color: black;border-radius: 0.25em;background-color: #f0f8ff;}#sk-container-id-1 input.sk-toggleable__control:checked~div.sk-toggleable__content {max-height: 200px;max-width: 100%;overflow: auto;}#sk-container-id-1 input.sk-toggleable__control:checked~label.sk-toggleable__label-arrow:before {content: \"▾\";}#sk-container-id-1 div.sk-estimator input.sk-toggleable__control:checked~label.sk-toggleable__label {background-color: #d4ebff;}#sk-container-id-1 div.sk-label input.sk-toggleable__control:checked~label.sk-toggleable__label {background-color: #d4ebff;}#sk-container-id-1 input.sk-hidden--visually {border: 0;clip: rect(1px 1px 1px 1px);clip: rect(1px, 1px, 1px, 1px);height: 1px;margin: -1px;overflow: hidden;padding: 0;position: absolute;width: 1px;}#sk-container-id-1 div.sk-estimator {font-family: monospace;background-color: #f0f8ff;border: 1px dotted black;border-radius: 0.25em;box-sizing: border-box;margin-bottom: 0.5em;}#sk-container-id-1 div.sk-estimator:hover {background-color: #d4ebff;}#sk-container-id-1 div.sk-parallel-item::after {content: \"\";width: 100%;border-bottom: 1px solid gray;flex-grow: 1;}#sk-container-id-1 div.sk-label:hover label.sk-toggleable__label {background-color: #d4ebff;}#sk-container-id-1 div.sk-serial::before {content: \"\";position: absolute;border-left: 1px solid gray;box-sizing: border-box;top: 0;bottom: 0;left: 50%;z-index: 0;}#sk-container-id-1 div.sk-serial {display: flex;flex-direction: column;align-items: center;background-color: white;padding-right: 0.2em;padding-left: 0.2em;position: relative;}#sk-container-id-1 div.sk-item {position: relative;z-index: 1;}#sk-container-id-1 div.sk-parallel {display: flex;align-items: stretch;justify-content: center;background-color: white;position: relative;}#sk-container-id-1 div.sk-item::before, #sk-container-id-1 div.sk-parallel-item::before {content: \"\";position: absolute;border-left: 1px solid gray;box-sizing: border-box;top: 0;bottom: 0;left: 50%;z-index: -1;}#sk-container-id-1 div.sk-parallel-item {display: flex;flex-direction: column;z-index: 1;position: relative;background-color: white;}#sk-container-id-1 div.sk-parallel-item:first-child::after {align-self: flex-end;width: 50%;}#sk-container-id-1 div.sk-parallel-item:last-child::after {align-self: flex-start;width: 50%;}#sk-container-id-1 div.sk-parallel-item:only-child::after {width: 0;}#sk-container-id-1 div.sk-dashed-wrapped {border: 1px dashed gray;margin: 0 0.4em 0.5em 0.4em;box-sizing: border-box;padding-bottom: 0.4em;background-color: white;}#sk-container-id-1 div.sk-label label {font-family: monospace;font-weight: bold;display: inline-block;line-height: 1.2em;}#sk-container-id-1 div.sk-label-container {text-align: center;}#sk-container-id-1 div.sk-container {/* jupyter's `normalize.less` sets `[hidden] { display: none; }` but bootstrap.min.css set `[hidden] { display: none !important; }` so we also need the `!important` here to be able to override the default hidden behavior on the sphinx rendered scikit-learn.org. See: https://github.com/scikit-learn/scikit-learn/issues/21755 */display: inline-block !important;position: relative;}#sk-container-id-1 div.sk-text-repr-fallback {display: none;}</style><div id=\"sk-container-id-1\" class=\"sk-top-container\"><div class=\"sk-text-repr-fallback\"><pre>DecisionTreeClassifier(criterion=&#x27;entropy&#x27;, max_depth=10)</pre><b>In a Jupyter environment, please rerun this cell to show the HTML representation or trust the notebook. <br />On GitHub, the HTML representation is unable to render, please try loading this page with nbviewer.org.</b></div><div class=\"sk-container\" hidden><div class=\"sk-item\"><div class=\"sk-estimator sk-toggleable\"><input class=\"sk-toggleable__control sk-hidden--visually\" id=\"sk-estimator-id-1\" type=\"checkbox\" checked><label for=\"sk-estimator-id-1\" class=\"sk-toggleable__label sk-toggleable__label-arrow\">DecisionTreeClassifier</label><div class=\"sk-toggleable__content\"><pre>DecisionTreeClassifier(criterion=&#x27;entropy&#x27;, max_depth=10)</pre></div></div></div></div></div>"
                        ],
                        "text/plain": [
                            "DecisionTreeClassifier(criterion='entropy', max_depth=10)"
                        ]
                    },
                    "execution_count": 25,
                    "metadata": {},
                    "output_type": "execute_result"
                }
            ],
            "source": [
                "from sklearn.tree import DecisionTreeClassifier\n",
                "import sklearn.tree as tree\n",
                "Tree = DecisionTreeClassifier(criterion=\"entropy\", max_depth = 10)\n",
                "Tree.fit(X_train,y_train)"
            ]
        },
        {
            "cell_type": "code",
            "execution_count": 26,
            "metadata": {},
            "outputs": [],
            "source": [
                "predTree = Tree.predict(X_test)"
            ]
        },
        {
            "cell_type": "code",
            "execution_count": 27,
            "metadata": {},
            "outputs": [
                {
                    "name": "stdout",
                    "output_type": "stream",
                    "text": [
                        "['PAIDOFF' 'PAIDOFF' 'PAIDOFF' 'PAIDOFF' 'PAIDOFF']\n",
                        "['PAIDOFF' 'PAIDOFF' 'PAIDOFF' 'PAIDOFF' 'PAIDOFF']\n"
                    ]
                }
            ],
            "source": [
                "print (predTree [0:5])\n",
                "print (y_test [0:5])"
            ]
        },
        {
            "cell_type": "code",
            "execution_count": 28,
            "metadata": {
                "scrolled": true
            },
            "outputs": [
                {
                    "name": "stdout",
                    "output_type": "stream",
                    "text": [
                        "DecisionTrees's Accuracy:  0.7\n"
                    ]
                }
            ],
            "source": [
                "from sklearn import metrics\n",
                "print(\"DecisionTrees's Accuracy: \", metrics.accuracy_score(y_test, predTree))"
            ]
        },
        {
            "cell_type": "code",
            "execution_count": 29,
            "metadata": {},
            "outputs": [
                {
                    "data": {
                        "image/png": "[encoded data removed]",
                        "text/plain": [
                            "<Figure size 432x288 with 1 Axes>"
                        ]
                    },
                    "metadata": {
                        "needs_background": "light"
                    },
                    "output_type": "display_data"
                }
            ],
            "source": [
                "tree.plot_tree(Tree)\n",
                "plt.show()"
            ]
        },
        {
            "cell_type": "markdown",
            "metadata": {},
            "source": [
                "# Support Vector Machine\n"
            ]
        },
        {
            "cell_type": "code",
            "execution_count": null,
            "metadata": {},
            "outputs": [],
            "source": []
        },
        {
            "cell_type": "code",
            "execution_count": null,
            "metadata": {},
            "outputs": [],
            "source": []
        },
        {
            "cell_type": "code",
            "execution_count": null,
            "metadata": {},
            "outputs": [],
            "source": []
        },
        {
            "cell_type": "markdown",
            "metadata": {},
            "source": [
                "# Logistic Regression\n"
            ]
        },
        {
            "cell_type": "code",
            "execution_count": null,
            "metadata": {},
            "outputs": [],
            "source": []
        },
        {
            "cell_type": "code",
            "execution_count": null,
            "metadata": {},
            "outputs": [],
            "source": []
        },
        {
            "cell_type": "code",
            "execution_count": null,
            "metadata": {},
            "outputs": [],
            "source": []
        },
        {
            "cell_type": "markdown",
            "metadata": {},
            "source": [
                "# Model Evaluation using Test set\n"
            ]
        },
        {
            "cell_type": "code",
            "execution_count": 30,
            "metadata": {},
            "outputs": [],
            "source": [
                "from sklearn.metrics import jaccard_score\n",
                "from sklearn.metrics import f1_score\n",
                "from sklearn.metrics import log_loss\n"
            ]
        },
        {
            "cell_type": "markdown",
            "metadata": {},
            "source": [
                "First, download and load the test set:\n"
            ]
        },
        {
            "cell_type": "code",
            "execution_count": 31,
            "metadata": {},
            "outputs": [
                {
                    "name": "stderr",
                    "output_type": "stream",
                    "text": [
                        "'wget' ���O�����Υ~���R�O�B�i���檺�{���Χ妸�ɡC\n"
                    ]
                }
            ],
            "source": [
                "!wget -O loan_test.csv https://s3-api.us-geo.objectstorage.softlayer.net/cf-courses-data/CognitiveClass/ML0101ENv3/labs/loan_test.csv"
            ]
        },
        {
            "cell_type": "markdown",
            "metadata": {
                "button": false,
                "new_sheet": false,
                "run_control": {
                    "read_only": false
                }
            },
            "source": [
                "### Load Test set for evaluation\n"
            ]
        },
        {
            "cell_type": "code",
            "execution_count": 32,
            "metadata": {
                "button": false,
                "new_sheet": false,
                "run_control": {
                    "read_only": false
                }
            },
            "outputs": [
                {
                    "ename": "FileNotFoundError",
                    "evalue": "[Errno 2] No such file or directory: 'loan_test.csv'",
                    "output_type": "error",
                    "traceback": [
                        "\u001b[1;31m---------------------------------------------------------------------------\u001b[0m",
                        "\u001b[1;31mFileNotFoundError\u001b[0m                         Traceback (most recent call last)",
                        "\u001b[1;32mc:\\IBM_ML_Capstone\\IBM_ML_Capstone\\ML0101EN-Proj-Loan-py-v1.ipynb Cell 73\u001b[0m in \u001b[0;36m<cell line: 1>\u001b[1;34m()\u001b[0m\n\u001b[1;32m----> <a href='vscode-notebook-cell:/c%3A/IBM_ML_Capstone/IBM_ML_Capstone/ML0101EN-Proj-Loan-py-v1.ipynb#ch0000072?line=0'>1</a>\u001b[0m test_df \u001b[39m=\u001b[39m pd\u001b[39m.\u001b[39;49mread_csv(\u001b[39m'\u001b[39;49m\u001b[39mloan_test.csv\u001b[39;49m\u001b[39m'\u001b[39;49m)\n\u001b[0;32m      <a href='vscode-notebook-cell:/c%3A/IBM_ML_Capstone/IBM_ML_Capstone/ML0101EN-Proj-Loan-py-v1.ipynb#ch0000072?line=1'>2</a>\u001b[0m test_df\u001b[39m.\u001b[39mhead()\n",
                        "File \u001b[1;32mc:\\Users\\Tin\\AppData\\Local\\Programs\\Python\\Python310\\lib\\site-packages\\pandas\\util\\_decorators.py:311\u001b[0m, in \u001b[0;36mdeprecate_nonkeyword_arguments.<locals>.decorate.<locals>.wrapper\u001b[1;34m(*args, **kwargs)\u001b[0m\n\u001b[0;32m    305\u001b[0m \u001b[39mif\u001b[39;00m \u001b[39mlen\u001b[39m(args) \u001b[39m>\u001b[39m num_allow_args:\n\u001b[0;32m    306\u001b[0m     warnings\u001b[39m.\u001b[39mwarn(\n\u001b[0;32m    307\u001b[0m         msg\u001b[39m.\u001b[39mformat(arguments\u001b[39m=\u001b[39marguments),\n\u001b[0;32m    308\u001b[0m         \u001b[39mFutureWarning\u001b[39;00m,\n\u001b[0;32m    309\u001b[0m         stacklevel\u001b[39m=\u001b[39mstacklevel,\n\u001b[0;32m    310\u001b[0m     )\n\u001b[1;32m--> 311\u001b[0m \u001b[39mreturn\u001b[39;00m func(\u001b[39m*\u001b[39margs, \u001b[39m*\u001b[39m\u001b[39m*\u001b[39mkwargs)\n",
                        "File \u001b[1;32mc:\\Users\\Tin\\AppData\\Local\\Programs\\Python\\Python310\\lib\\site-packages\\pandas\\io\\parsers\\readers.py:680\u001b[0m, in \u001b[0;36mread_csv\u001b[1;34m(filepath_or_buffer, sep, delimiter, header, names, index_col, usecols, squeeze, prefix, mangle_dupe_cols, dtype, engine, converters, true_values, false_values, skipinitialspace, skiprows, skipfooter, nrows, na_values, keep_default_na, na_filter, verbose, skip_blank_lines, parse_dates, infer_datetime_format, keep_date_col, date_parser, dayfirst, cache_dates, iterator, chunksize, compression, thousands, decimal, lineterminator, quotechar, quoting, doublequote, escapechar, comment, encoding, encoding_errors, dialect, error_bad_lines, warn_bad_lines, on_bad_lines, delim_whitespace, low_memory, memory_map, float_precision, storage_options)\u001b[0m\n\u001b[0;32m    665\u001b[0m kwds_defaults \u001b[39m=\u001b[39m _refine_defaults_read(\n\u001b[0;32m    666\u001b[0m     dialect,\n\u001b[0;32m    667\u001b[0m     delimiter,\n\u001b[1;32m   (...)\u001b[0m\n\u001b[0;32m    676\u001b[0m     defaults\u001b[39m=\u001b[39m{\u001b[39m\"\u001b[39m\u001b[39mdelimiter\u001b[39m\u001b[39m\"\u001b[39m: \u001b[39m\"\u001b[39m\u001b[39m,\u001b[39m\u001b[39m\"\u001b[39m},\n\u001b[0;32m    677\u001b[0m )\n\u001b[0;32m    678\u001b[0m kwds\u001b[39m.\u001b[39mupdate(kwds_defaults)\n\u001b[1;32m--> 680\u001b[0m \u001b[39mreturn\u001b[39;00m _read(filepath_or_buffer, kwds)\n",
                        "File \u001b[1;32mc:\\Users\\Tin\\AppData\\Local\\Programs\\Python\\Python310\\lib\\site-packages\\pandas\\io\\parsers\\readers.py:575\u001b[0m, in \u001b[0;36m_read\u001b[1;34m(filepath_or_buffer, kwds)\u001b[0m\n\u001b[0;32m    572\u001b[0m _validate_names(kwds\u001b[39m.\u001b[39mget(\u001b[39m\"\u001b[39m\u001b[39mnames\u001b[39m\u001b[39m\"\u001b[39m, \u001b[39mNone\u001b[39;00m))\n\u001b[0;32m    574\u001b[0m \u001b[39m# Create the parser.\u001b[39;00m\n\u001b[1;32m--> 575\u001b[0m parser \u001b[39m=\u001b[39m TextFileReader(filepath_or_buffer, \u001b[39m*\u001b[39m\u001b[39m*\u001b[39mkwds)\n\u001b[0;32m    577\u001b[0m \u001b[39mif\u001b[39;00m chunksize \u001b[39mor\u001b[39;00m iterator:\n\u001b[0;32m    578\u001b[0m     \u001b[39mreturn\u001b[39;00m parser\n",
                        "File \u001b[1;32mc:\\Users\\Tin\\AppData\\Local\\Programs\\Python\\Python310\\lib\\site-packages\\pandas\\io\\parsers\\readers.py:934\u001b[0m, in \u001b[0;36mTextFileReader.__init__\u001b[1;34m(self, f, engine, **kwds)\u001b[0m\n\u001b[0;32m    931\u001b[0m     \u001b[39mself\u001b[39m\u001b[39m.\u001b[39moptions[\u001b[39m\"\u001b[39m\u001b[39mhas_index_names\u001b[39m\u001b[39m\"\u001b[39m] \u001b[39m=\u001b[39m kwds[\u001b[39m\"\u001b[39m\u001b[39mhas_index_names\u001b[39m\u001b[39m\"\u001b[39m]\n\u001b[0;32m    933\u001b[0m \u001b[39mself\u001b[39m\u001b[39m.\u001b[39mhandles: IOHandles \u001b[39m|\u001b[39m \u001b[39mNone\u001b[39;00m \u001b[39m=\u001b[39m \u001b[39mNone\u001b[39;00m\n\u001b[1;32m--> 934\u001b[0m \u001b[39mself\u001b[39m\u001b[39m.\u001b[39m_engine \u001b[39m=\u001b[39m \u001b[39mself\u001b[39;49m\u001b[39m.\u001b[39;49m_make_engine(f, \u001b[39mself\u001b[39;49m\u001b[39m.\u001b[39;49mengine)\n",
                        "File \u001b[1;32mc:\\Users\\Tin\\AppData\\Local\\Programs\\Python\\Python310\\lib\\site-packages\\pandas\\io\\parsers\\readers.py:1218\u001b[0m, in \u001b[0;36mTextFileReader._make_engine\u001b[1;34m(self, f, engine)\u001b[0m\n\u001b[0;32m   1214\u001b[0m     mode \u001b[39m=\u001b[39m \u001b[39m\"\u001b[39m\u001b[39mrb\u001b[39m\u001b[39m\"\u001b[39m\n\u001b[0;32m   1215\u001b[0m \u001b[39m# error: No overload variant of \"get_handle\" matches argument types\u001b[39;00m\n\u001b[0;32m   1216\u001b[0m \u001b[39m# \"Union[str, PathLike[str], ReadCsvBuffer[bytes], ReadCsvBuffer[str]]\"\u001b[39;00m\n\u001b[0;32m   1217\u001b[0m \u001b[39m# , \"str\", \"bool\", \"Any\", \"Any\", \"Any\", \"Any\", \"Any\"\u001b[39;00m\n\u001b[1;32m-> 1218\u001b[0m \u001b[39mself\u001b[39m\u001b[39m.\u001b[39mhandles \u001b[39m=\u001b[39m get_handle(  \u001b[39m# type: ignore[call-overload]\u001b[39;49;00m\n\u001b[0;32m   1219\u001b[0m     f,\n\u001b[0;32m   1220\u001b[0m     mode,\n\u001b[0;32m   1221\u001b[0m     encoding\u001b[39m=\u001b[39;49m\u001b[39mself\u001b[39;49m\u001b[39m.\u001b[39;49moptions\u001b[39m.\u001b[39;49mget(\u001b[39m\"\u001b[39;49m\u001b[39mencoding\u001b[39;49m\u001b[39m\"\u001b[39;49m, \u001b[39mNone\u001b[39;49;00m),\n\u001b[0;32m   1222\u001b[0m     compression\u001b[39m=\u001b[39;49m\u001b[39mself\u001b[39;49m\u001b[39m.\u001b[39;49moptions\u001b[39m.\u001b[39;49mget(\u001b[39m\"\u001b[39;49m\u001b[39mcompression\u001b[39;49m\u001b[39m\"\u001b[39;49m, \u001b[39mNone\u001b[39;49;00m),\n\u001b[0;32m   1223\u001b[0m     memory_map\u001b[39m=\u001b[39;49m\u001b[39mself\u001b[39;49m\u001b[39m.\u001b[39;49moptions\u001b[39m.\u001b[39;49mget(\u001b[39m\"\u001b[39;49m\u001b[39mmemory_map\u001b[39;49m\u001b[39m\"\u001b[39;49m, \u001b[39mFalse\u001b[39;49;00m),\n\u001b[0;32m   1224\u001b[0m     is_text\u001b[39m=\u001b[39;49mis_text,\n\u001b[0;32m   1225\u001b[0m     errors\u001b[39m=\u001b[39;49m\u001b[39mself\u001b[39;49m\u001b[39m.\u001b[39;49moptions\u001b[39m.\u001b[39;49mget(\u001b[39m\"\u001b[39;49m\u001b[39mencoding_errors\u001b[39;49m\u001b[39m\"\u001b[39;49m, \u001b[39m\"\u001b[39;49m\u001b[39mstrict\u001b[39;49m\u001b[39m\"\u001b[39;49m),\n\u001b[0;32m   1226\u001b[0m     storage_options\u001b[39m=\u001b[39;49m\u001b[39mself\u001b[39;49m\u001b[39m.\u001b[39;49moptions\u001b[39m.\u001b[39;49mget(\u001b[39m\"\u001b[39;49m\u001b[39mstorage_options\u001b[39;49m\u001b[39m\"\u001b[39;49m, \u001b[39mNone\u001b[39;49;00m),\n\u001b[0;32m   1227\u001b[0m )\n\u001b[0;32m   1228\u001b[0m \u001b[39massert\u001b[39;00m \u001b[39mself\u001b[39m\u001b[39m.\u001b[39mhandles \u001b[39mis\u001b[39;00m \u001b[39mnot\u001b[39;00m \u001b[39mNone\u001b[39;00m\n\u001b[0;32m   1229\u001b[0m f \u001b[39m=\u001b[39m \u001b[39mself\u001b[39m\u001b[39m.\u001b[39mhandles\u001b[39m.\u001b[39mhandle\n",
                        "File \u001b[1;32mc:\\Users\\Tin\\AppData\\Local\\Programs\\Python\\Python310\\lib\\site-packages\\pandas\\io\\common.py:786\u001b[0m, in \u001b[0;36mget_handle\u001b[1;34m(path_or_buf, mode, encoding, compression, memory_map, is_text, errors, storage_options)\u001b[0m\n\u001b[0;32m    781\u001b[0m \u001b[39melif\u001b[39;00m \u001b[39misinstance\u001b[39m(handle, \u001b[39mstr\u001b[39m):\n\u001b[0;32m    782\u001b[0m     \u001b[39m# Check whether the filename is to be opened in binary mode.\u001b[39;00m\n\u001b[0;32m    783\u001b[0m     \u001b[39m# Binary mode does not support 'encoding' and 'newline'.\u001b[39;00m\n\u001b[0;32m    784\u001b[0m     \u001b[39mif\u001b[39;00m ioargs\u001b[39m.\u001b[39mencoding \u001b[39mand\u001b[39;00m \u001b[39m\"\u001b[39m\u001b[39mb\u001b[39m\u001b[39m\"\u001b[39m \u001b[39mnot\u001b[39;00m \u001b[39min\u001b[39;00m ioargs\u001b[39m.\u001b[39mmode:\n\u001b[0;32m    785\u001b[0m         \u001b[39m# Encoding\u001b[39;00m\n\u001b[1;32m--> 786\u001b[0m         handle \u001b[39m=\u001b[39m \u001b[39mopen\u001b[39;49m(\n\u001b[0;32m    787\u001b[0m             handle,\n\u001b[0;32m    788\u001b[0m             ioargs\u001b[39m.\u001b[39;49mmode,\n\u001b[0;32m    789\u001b[0m             encoding\u001b[39m=\u001b[39;49mioargs\u001b[39m.\u001b[39;49mencoding,\n\u001b[0;32m    790\u001b[0m             errors\u001b[39m=\u001b[39;49merrors,\n\u001b[0;32m    791\u001b[0m             newline\u001b[39m=\u001b[39;49m\u001b[39m\"\u001b[39;49m\u001b[39m\"\u001b[39;49m,\n\u001b[0;32m    792\u001b[0m         )\n\u001b[0;32m    793\u001b[0m     \u001b[39melse\u001b[39;00m:\n\u001b[0;32m    794\u001b[0m         \u001b[39m# Binary mode\u001b[39;00m\n\u001b[0;32m    795\u001b[0m         handle \u001b[39m=\u001b[39m \u001b[39mopen\u001b[39m(handle, ioargs\u001b[39m.\u001b[39mmode)\n",
                        "\u001b[1;31mFileNotFoundError\u001b[0m: [Errno 2] No such file or directory: 'loan_test.csv'"
                    ]
                }
            ],
            "source": [
                "test_df = pd.read_csv('loan_test.csv')\n",
                "test_df.head()"
            ]
        },
        {
            "cell_type": "code",
            "execution_count": null,
            "metadata": {},
            "outputs": [],
            "source": []
        },
        {
            "cell_type": "code",
            "execution_count": null,
            "metadata": {},
            "outputs": [],
            "source": []
        },
        {
            "cell_type": "code",
            "execution_count": null,
            "metadata": {},
            "outputs": [],
            "source": []
        },
        {
            "cell_type": "markdown",
            "metadata": {},
            "source": [
                "# Report\n",
                "\n",
                "You should be able to report the accuracy of the built model using different evaluation metrics:\n"
            ]
        },
        {
            "cell_type": "markdown",
            "metadata": {},
            "source": [
                "| Algorithm          | Jaccard | F1-score | LogLoss |\n",
                "| ------------------ | ------- | -------- | ------- |\n",
                "| KNN                | ?       | ?        | NA      |\n",
                "| Decision Tree      | ?       | ?        | NA      |\n",
                "| SVM                | ?       | ?        | NA      |\n",
                "| LogisticRegression | ?       | ?        | ?       |\n"
            ]
        },
        {
            "cell_type": "markdown",
            "metadata": {
                "button": false,
                "new_sheet": false,
                "run_control": {
                    "read_only": false
                }
            },
            "source": [
                "<h2>Want to learn more?</h2>\n",
                "\n",
                "IBM SPSS Modeler is a comprehensive analytics platform that has many machine learning algorithms. It has been designed to bring predictive intelligence to decisions made by individuals, by groups, by systems – by your enterprise as a whole. A free trial is available through this course, available here: <a href=\"http://cocl.us/ML0101EN-SPSSModeler?utm_medium=Exinfluencer&utm_source=Exinfluencer&utm_content=000026UJ&utm_term=10006555&utm_id=NA-SkillsNetwork-Channel-SkillsNetworkCoursesIBMDeveloperSkillsNetworkML0101ENSkillsNetwork20718538-2022-01-01\">SPSS Modeler</a>\n",
                "\n",
                "Also, you can use Watson Studio to run these notebooks faster with bigger datasets. Watson Studio is IBM's leading cloud solution for data scientists, built by data scientists. With Jupyter notebooks, RStudio, Apache Spark and popular libraries pre-packaged in the cloud, Watson Studio enables data scientists to collaborate on their projects without having to install anything. Join the fast-growing community of Watson Studio users today with a free account at <a href=\"https://cocl.us/ML0101EN_DSX?utm_medium=Exinfluencer&utm_source=Exinfluencer&utm_content=000026UJ&utm_term=10006555&utm_id=NA-SkillsNetwork-Channel-SkillsNetworkCoursesIBMDeveloperSkillsNetworkML0101ENSkillsNetwork20718538-2022-01-01\">Watson Studio</a>\n",
                "\n",
                "<h3>Thanks for completing this lesson!</h3>\n",
                "\n",
                "<h4>Author:  <a href=\"https://ca.linkedin.com/in/saeedaghabozorgi?utm_medium=Exinfluencer&utm_source=Exinfluencer&utm_content=000026UJ&utm_term=10006555&utm_id=NA-SkillsNetwork-Channel-SkillsNetworkCoursesIBMDeveloperSkillsNetworkML0101ENSkillsNetwork20718538-2022-01-01?utm_medium=Exinfluencer&utm_source=Exinfluencer&utm_content=000026UJ&utm_term=10006555&utm_id=NA-SkillsNetwork-Channel-SkillsNetworkCoursesIBMDeveloperSkillsNetworkML0101ENSkillsNetwork20718538-2022-01-01\">Saeed Aghabozorgi</a></h4>\n",
                "<p><a href=\"https://ca.linkedin.com/in/saeedaghabozorgi\">Saeed Aghabozorgi</a>, PhD is a Data Scientist in IBM with a track record of developing enterprise level applications that substantially increases clients’ ability to turn data into actionable knowledge. He is a researcher in data mining field and expert in developing advanced analytic methods like machine learning and statistical modelling on large datasets.</p>\n",
                "\n",
                "<hr>\n",
                "\n",
                "## Change Log\n",
                "\n",
                "| Date (YYYY-MM-DD) | Version | Changed By    | Change Description                                                             |\n",
                "| ----------------- | ------- | ------------- | ------------------------------------------------------------------------------ |\n",
                "| 2020-10-27        | 2.1     | Lakshmi Holla | Made changes in import statement due to updates in version of  sklearn library |\n",
                "| 2020-08-27        | 2.0     | Malika Singla | Added lab to GitLab                                                            |\n",
                "\n",
                "<hr>\n",
                "\n",
                "## <h3 align=\"center\"> © IBM Corporation 2020. All rights reserved. <h3/>\n",
                "\n",
                "<p>\n"
            ]
        }
    ],
    "metadata": {
        "kernelspec": {
            "display_name": "Python 3.10.5 64-bit",
            "language": "python",
            "name": "python3"
        },
        "language_info": {
            "codemirror_mode": {
                "name": "ipython",
                "version": 3
            },
            "file_extension": ".py",
            "mimetype": "text/x-python",
            "name": "python",
            "nbconvert_exporter": "python",
            "pygments_lexer": "ipython3",
            "version": "3.10.5"
        },
        "vscode": {
            "interpreter": {
                "hash": "b2943380585d3ab4282a0037c10de2f77c3475033d1c2131b82f758ab2610fbf"
            }
        }
    },
    "nbformat": 4,
    "nbformat_minor": 2
}
