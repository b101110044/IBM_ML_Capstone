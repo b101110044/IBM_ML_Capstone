{
    "cells": [
        {
            "cell_type": "markdown",
            "metadata": {
                "button": false,
                "new_sheet": false,
                "run_control": {
                    "read_only": false
                }
            },
            "source": [
                "<p style=\"text-align:center\">\n",
                "    <a href=\"https://skills.network/?utm_medium=Exinfluencer&utm_source=Exinfluencer&utm_content=000026UJ&utm_term=10006555&utm_id=NA-SkillsNetwork-Channel-SkillsNetworkCoursesIBMDeveloperSkillsNetworkML0101ENSkillsNetwork20718538-2022-01-01\" target=\"_blank\">\n",
                "    <img src=\"https://cf-courses-data.s3.us.cloud-object-storage.appdomain.cloud/assets/logos/SN_web_lightmode.png\" width=\"200\" alt=\"Skills Network Logo\"  />\n",
                "    </a>\n",
                "</p>\n",
                "\n",
                "<h1 align=\"center\"><font size=\"5\">Classification with Python</font></h1>\n"
            ]
        },
        {
            "cell_type": "markdown",
            "metadata": {
                "button": false,
                "new_sheet": false,
                "run_control": {
                    "read_only": false
                }
            },
            "source": [
                "In this notebook we try to practice all the classification algorithms that we have learned in this course.\n",
                "\n",
                "We load a dataset using Pandas library, and apply the following algorithms, and find the best one for this specific dataset by accuracy evaluation methods.\n",
                "\n",
                "Let's first load required libraries:\n"
            ]
        },
        {
            "cell_type": "code",
            "execution_count": 1,
            "metadata": {
                "button": false,
                "new_sheet": false,
                "run_control": {
                    "read_only": false
                }
            },
            "outputs": [],
            "source": [
                "import itertools\n",
                "import scipy.optimize as opt\n",
                "import numpy as np\n",
                "import matplotlib.pyplot as plt\n",
                "import matplotlib.pyplot as plt\n",
                "from matplotlib.ticker import NullFormatter\n",
                "import pandas as pd\n",
                "import pylab as pl\n",
                "import numpy as np\n",
                "import matplotlib.ticker as ticker\n",
                "from sklearn import preprocessing\n",
                "%matplotlib inline"
            ]
        },
        {
            "cell_type": "markdown",
            "metadata": {
                "button": false,
                "new_sheet": false,
                "run_control": {
                    "read_only": false
                }
            },
            "source": [
                "### About dataset\n"
            ]
        },
        {
            "cell_type": "markdown",
            "metadata": {
                "button": false,
                "new_sheet": false,
                "run_control": {
                    "read_only": false
                }
            },
            "source": [
                "This dataset is about past loans. The **Loan_train.csv** data set includes details of 346 customers whose loan are already paid off or defaulted. It includes following fields:\n",
                "\n",
                "| Field          | Description                                                                           |\n",
                "| -------------- | ------------------------------------------------------------------------------------- |\n",
                "| Loan_status    | Whether a loan is paid off on in collection                                           |\n",
                "| Principal      | Basic principal loan amount at the                                                    |\n",
                "| Terms          | Origination terms which can be weekly (7 days), biweekly, and monthly payoff schedule |\n",
                "| Effective_date | When the loan got originated and took effects                                         |\n",
                "| Due_date       | Since it’s one-time payoff schedule, each loan has one single due date                |\n",
                "| Age            | Age of applicant                                                                      |\n",
                "| Education      | Education of applicant                                                                |\n",
                "| Gender         | The gender of applicant                                                               |\n"
            ]
        },
        {
            "cell_type": "markdown",
            "metadata": {
                "button": false,
                "new_sheet": false,
                "run_control": {
                    "read_only": false
                }
            },
            "source": [
                "Let's download the dataset\n"
            ]
        },
        {
            "cell_type": "code",
            "execution_count": 2,
            "metadata": {
                "button": false,
                "new_sheet": false,
                "run_control": {
                    "read_only": false
                },
                "vscode": {
                    "languageId": "powershell"
                }
            },
            "outputs": [
                {
                    "name": "stderr",
                    "output_type": "stream",
                    "text": [
                        "'wget' ���O�����Υ~���R�O�B�i���檺�{���Χ妸�ɡC\n"
                    ]
                }
            ],
            "source": [
                "!wget -O loan_train.csv https://cf-courses-data.s3.us.cloud-object-storage.appdomain.cloud/IBMDeveloperSkillsNetwork-ML0101EN-SkillsNetwork/labs/FinalModule_Coursera/data/loan_train.csv"
            ]
        },
        {
            "cell_type": "markdown",
            "metadata": {
                "button": false,
                "new_sheet": false,
                "run_control": {
                    "read_only": false
                }
            },
            "source": [
                "### Load Data From CSV File\n"
            ]
        },
        {
            "cell_type": "code",
            "execution_count": 3,
            "metadata": {
                "button": false,
                "new_sheet": false,
                "run_control": {
                    "read_only": false
                }
            },
            "outputs": [
                {
                    "data": {
                        "text/html": [
                            "<div>\n",
                            "<style scoped>\n",
                            "    .dataframe tbody tr th:only-of-type {\n",
                            "        vertical-align: middle;\n",
                            "    }\n",
                            "\n",
                            "    .dataframe tbody tr th {\n",
                            "        vertical-align: top;\n",
                            "    }\n",
                            "\n",
                            "    .dataframe thead th {\n",
                            "        text-align: right;\n",
                            "    }\n",
                            "</style>\n",
                            "<table border=\"1\" class=\"dataframe\">\n",
                            "  <thead>\n",
                            "    <tr style=\"text-align: right;\">\n",
                            "      <th></th>\n",
                            "      <th>Unnamed: 0.1</th>\n",
                            "      <th>Unnamed: 0</th>\n",
                            "      <th>loan_status</th>\n",
                            "      <th>Principal</th>\n",
                            "      <th>terms</th>\n",
                            "      <th>effective_date</th>\n",
                            "      <th>due_date</th>\n",
                            "      <th>age</th>\n",
                            "      <th>education</th>\n",
                            "      <th>Gender</th>\n",
                            "    </tr>\n",
                            "  </thead>\n",
                            "  <tbody>\n",
                            "    <tr>\n",
                            "      <th>0</th>\n",
                            "      <td>0</td>\n",
                            "      <td>0</td>\n",
                            "      <td>PAIDOFF</td>\n",
                            "      <td>1000</td>\n",
                            "      <td>30</td>\n",
                            "      <td>9/8/2016</td>\n",
                            "      <td>10/7/2016</td>\n",
                            "      <td>45</td>\n",
                            "      <td>High School or Below</td>\n",
                            "      <td>male</td>\n",
                            "    </tr>\n",
                            "    <tr>\n",
                            "      <th>1</th>\n",
                            "      <td>2</td>\n",
                            "      <td>2</td>\n",
                            "      <td>PAIDOFF</td>\n",
                            "      <td>1000</td>\n",
                            "      <td>30</td>\n",
                            "      <td>9/8/2016</td>\n",
                            "      <td>10/7/2016</td>\n",
                            "      <td>33</td>\n",
                            "      <td>Bechalor</td>\n",
                            "      <td>female</td>\n",
                            "    </tr>\n",
                            "    <tr>\n",
                            "      <th>2</th>\n",
                            "      <td>3</td>\n",
                            "      <td>3</td>\n",
                            "      <td>PAIDOFF</td>\n",
                            "      <td>1000</td>\n",
                            "      <td>15</td>\n",
                            "      <td>9/8/2016</td>\n",
                            "      <td>9/22/2016</td>\n",
                            "      <td>27</td>\n",
                            "      <td>college</td>\n",
                            "      <td>male</td>\n",
                            "    </tr>\n",
                            "    <tr>\n",
                            "      <th>3</th>\n",
                            "      <td>4</td>\n",
                            "      <td>4</td>\n",
                            "      <td>PAIDOFF</td>\n",
                            "      <td>1000</td>\n",
                            "      <td>30</td>\n",
                            "      <td>9/9/2016</td>\n",
                            "      <td>10/8/2016</td>\n",
                            "      <td>28</td>\n",
                            "      <td>college</td>\n",
                            "      <td>female</td>\n",
                            "    </tr>\n",
                            "    <tr>\n",
                            "      <th>4</th>\n",
                            "      <td>6</td>\n",
                            "      <td>6</td>\n",
                            "      <td>PAIDOFF</td>\n",
                            "      <td>1000</td>\n",
                            "      <td>30</td>\n",
                            "      <td>9/9/2016</td>\n",
                            "      <td>10/8/2016</td>\n",
                            "      <td>29</td>\n",
                            "      <td>college</td>\n",
                            "      <td>male</td>\n",
                            "    </tr>\n",
                            "  </tbody>\n",
                            "</table>\n",
                            "</div>"
                        ],
                        "text/plain": [
                            "   Unnamed: 0.1  Unnamed: 0 loan_status  Principal  terms effective_date  \\\n",
                            "0             0           0     PAIDOFF       1000     30       9/8/2016   \n",
                            "1             2           2     PAIDOFF       1000     30       9/8/2016   \n",
                            "2             3           3     PAIDOFF       1000     15       9/8/2016   \n",
                            "3             4           4     PAIDOFF       1000     30       9/9/2016   \n",
                            "4             6           6     PAIDOFF       1000     30       9/9/2016   \n",
                            "\n",
                            "    due_date  age             education  Gender  \n",
                            "0  10/7/2016   45  High School or Below    male  \n",
                            "1  10/7/2016   33              Bechalor  female  \n",
                            "2  9/22/2016   27               college    male  \n",
                            "3  10/8/2016   28               college  female  \n",
                            "4  10/8/2016   29               college    male  "
                        ]
                    },
                    "execution_count": 3,
                    "metadata": {},
                    "output_type": "execute_result"
                }
            ],
            "source": [
                "df = pd.read_csv('loan_train.csv')\n",
                "df.head()"
            ]
        },
        {
            "cell_type": "code",
            "execution_count": 4,
            "metadata": {},
            "outputs": [
                {
                    "data": {
                        "text/plain": [
                            "(346, 10)"
                        ]
                    },
                    "execution_count": 4,
                    "metadata": {},
                    "output_type": "execute_result"
                }
            ],
            "source": [
                "df.shape"
            ]
        },
        {
            "cell_type": "markdown",
            "metadata": {
                "button": false,
                "new_sheet": false,
                "run_control": {
                    "read_only": false
                }
            },
            "source": [
                "### Convert to date time object\n"
            ]
        },
        {
            "cell_type": "code",
            "execution_count": 5,
            "metadata": {
                "button": false,
                "new_sheet": false,
                "run_control": {
                    "read_only": false
                }
            },
            "outputs": [
                {
                    "data": {
                        "text/html": [
                            "<div>\n",
                            "<style scoped>\n",
                            "    .dataframe tbody tr th:only-of-type {\n",
                            "        vertical-align: middle;\n",
                            "    }\n",
                            "\n",
                            "    .dataframe tbody tr th {\n",
                            "        vertical-align: top;\n",
                            "    }\n",
                            "\n",
                            "    .dataframe thead th {\n",
                            "        text-align: right;\n",
                            "    }\n",
                            "</style>\n",
                            "<table border=\"1\" class=\"dataframe\">\n",
                            "  <thead>\n",
                            "    <tr style=\"text-align: right;\">\n",
                            "      <th></th>\n",
                            "      <th>Unnamed: 0.1</th>\n",
                            "      <th>Unnamed: 0</th>\n",
                            "      <th>loan_status</th>\n",
                            "      <th>Principal</th>\n",
                            "      <th>terms</th>\n",
                            "      <th>effective_date</th>\n",
                            "      <th>due_date</th>\n",
                            "      <th>age</th>\n",
                            "      <th>education</th>\n",
                            "      <th>Gender</th>\n",
                            "    </tr>\n",
                            "  </thead>\n",
                            "  <tbody>\n",
                            "    <tr>\n",
                            "      <th>0</th>\n",
                            "      <td>0</td>\n",
                            "      <td>0</td>\n",
                            "      <td>PAIDOFF</td>\n",
                            "      <td>1000</td>\n",
                            "      <td>30</td>\n",
                            "      <td>2016-09-08</td>\n",
                            "      <td>2016-10-07</td>\n",
                            "      <td>45</td>\n",
                            "      <td>High School or Below</td>\n",
                            "      <td>male</td>\n",
                            "    </tr>\n",
                            "    <tr>\n",
                            "      <th>1</th>\n",
                            "      <td>2</td>\n",
                            "      <td>2</td>\n",
                            "      <td>PAIDOFF</td>\n",
                            "      <td>1000</td>\n",
                            "      <td>30</td>\n",
                            "      <td>2016-09-08</td>\n",
                            "      <td>2016-10-07</td>\n",
                            "      <td>33</td>\n",
                            "      <td>Bechalor</td>\n",
                            "      <td>female</td>\n",
                            "    </tr>\n",
                            "    <tr>\n",
                            "      <th>2</th>\n",
                            "      <td>3</td>\n",
                            "      <td>3</td>\n",
                            "      <td>PAIDOFF</td>\n",
                            "      <td>1000</td>\n",
                            "      <td>15</td>\n",
                            "      <td>2016-09-08</td>\n",
                            "      <td>2016-09-22</td>\n",
                            "      <td>27</td>\n",
                            "      <td>college</td>\n",
                            "      <td>male</td>\n",
                            "    </tr>\n",
                            "    <tr>\n",
                            "      <th>3</th>\n",
                            "      <td>4</td>\n",
                            "      <td>4</td>\n",
                            "      <td>PAIDOFF</td>\n",
                            "      <td>1000</td>\n",
                            "      <td>30</td>\n",
                            "      <td>2016-09-09</td>\n",
                            "      <td>2016-10-08</td>\n",
                            "      <td>28</td>\n",
                            "      <td>college</td>\n",
                            "      <td>female</td>\n",
                            "    </tr>\n",
                            "    <tr>\n",
                            "      <th>4</th>\n",
                            "      <td>6</td>\n",
                            "      <td>6</td>\n",
                            "      <td>PAIDOFF</td>\n",
                            "      <td>1000</td>\n",
                            "      <td>30</td>\n",
                            "      <td>2016-09-09</td>\n",
                            "      <td>2016-10-08</td>\n",
                            "      <td>29</td>\n",
                            "      <td>college</td>\n",
                            "      <td>male</td>\n",
                            "    </tr>\n",
                            "  </tbody>\n",
                            "</table>\n",
                            "</div>"
                        ],
                        "text/plain": [
                            "   Unnamed: 0.1  Unnamed: 0 loan_status  Principal  terms effective_date  \\\n",
                            "0             0           0     PAIDOFF       1000     30     2016-09-08   \n",
                            "1             2           2     PAIDOFF       1000     30     2016-09-08   \n",
                            "2             3           3     PAIDOFF       1000     15     2016-09-08   \n",
                            "3             4           4     PAIDOFF       1000     30     2016-09-09   \n",
                            "4             6           6     PAIDOFF       1000     30     2016-09-09   \n",
                            "\n",
                            "    due_date  age             education  Gender  \n",
                            "0 2016-10-07   45  High School or Below    male  \n",
                            "1 2016-10-07   33              Bechalor  female  \n",
                            "2 2016-09-22   27               college    male  \n",
                            "3 2016-10-08   28               college  female  \n",
                            "4 2016-10-08   29               college    male  "
                        ]
                    },
                    "execution_count": 5,
                    "metadata": {},
                    "output_type": "execute_result"
                }
            ],
            "source": [
                "df['due_date'] = pd.to_datetime(df['due_date']) #<----- pd.to_datetime\n",
                "df['effective_date'] = pd.to_datetime(df['effective_date'])\n",
                "df.head()"
            ]
        },
        {
            "cell_type": "markdown",
            "metadata": {
                "button": false,
                "new_sheet": false,
                "run_control": {
                    "read_only": false
                }
            },
            "source": [
                "# Data visualization and pre-processing\n"
            ]
        },
        {
            "cell_type": "markdown",
            "metadata": {
                "button": false,
                "new_sheet": false,
                "run_control": {
                    "read_only": false
                }
            },
            "source": [
                "Let’s see how many of each class is in our data set\n"
            ]
        },
        {
            "cell_type": "code",
            "execution_count": 6,
            "metadata": {
                "button": false,
                "new_sheet": false,
                "run_control": {
                    "read_only": false
                }
            },
            "outputs": [
                {
                    "data": {
                        "text/plain": [
                            "PAIDOFF       260\n",
                            "COLLECTION     86\n",
                            "Name: loan_status, dtype: int64"
                        ]
                    },
                    "execution_count": 6,
                    "metadata": {},
                    "output_type": "execute_result"
                }
            ],
            "source": [
                "df['loan_status'].value_counts() #<-----data_frame.value_counts()"
            ]
        },
        {
            "cell_type": "markdown",
            "metadata": {
                "button": false,
                "new_sheet": false,
                "run_control": {
                    "read_only": false
                }
            },
            "source": [
                "260 people have paid off the loan on time while 86 have gone into collection\n"
            ]
        },
        {
            "cell_type": "markdown",
            "metadata": {},
            "source": [
                "Let's plot some columns to underestand data better:\n"
            ]
        },
        {
            "cell_type": "code",
            "execution_count": 7,
            "metadata": {},
            "outputs": [
                {
                    "name": "stderr",
                    "output_type": "stream",
                    "text": [
                        "'conda' ���O�����Υ~���R�O�B�i���檺�{���Χ妸�ɡC\n"
                    ]
                }
            ],
            "source": [
                "# notice: installing seaborn might takes a few minutes\n",
                "!conda install -c anaconda seaborn -y"
            ]
        },
        {
            "cell_type": "code",
            "execution_count": 8,
            "metadata": {},
            "outputs": [
                {
                    "data": {
                        "image/png": "[encoded data removed]",
                        "text/plain": [
                            "<Figure size 432x216 with 2 Axes>"
                        ]
                    },
                    "metadata": {
                        "needs_background": "light"
                    },
                    "output_type": "display_data"
                }
            ],
            "source": [
                "import seaborn as sns\n",
                "\n",
                "bins = np.linspace(df.Principal.min(), df.Principal.max(), 10)\n",
                "g = sns.FacetGrid(df, col=\"Gender\", hue=\"loan_status\", palette=\"Set1\", col_wrap=2)\n",
                "g.map(plt.hist, 'Principal', bins=bins, ec=\"k\")\n",
                "\n",
                "g.axes[-1].legend()\n",
                "plt.show()"
            ]
        },
        {
            "cell_type": "code",
            "execution_count": 9,
            "metadata": {
                "button": false,
                "new_sheet": false,
                "run_control": {
                    "read_only": false
                }
            },
            "outputs": [
                {
                    "data": {
                        "image/png": "[encoded data removed]",
                        "text/plain": [
                            "<Figure size 432x216 with 2 Axes>"
                        ]
                    },
                    "metadata": {
                        "needs_background": "light"
                    },
                    "output_type": "display_data"
                }
            ],
            "source": [
                "bins = np.linspace(df.age.min(), df.age.max(), 10)\n",
                "g = sns.FacetGrid(df, col=\"Gender\", hue=\"loan_status\", palette=\"Set1\", col_wrap=2)\n",
                "g.map(plt.hist, 'age', bins=bins, ec=\"k\")\n",
                "\n",
                "g.axes[-1].legend()\n",
                "plt.show()"
            ]
        },
        {
            "cell_type": "markdown",
            "metadata": {
                "button": false,
                "new_sheet": false,
                "run_control": {
                    "read_only": false
                }
            },
            "source": [
                "# Pre-processing:  Feature selection/extraction\n"
            ]
        },
        {
            "cell_type": "markdown",
            "metadata": {
                "button": false,
                "new_sheet": false,
                "run_control": {
                    "read_only": false
                }
            },
            "source": [
                "### Let's look at the day of the week people get the loan\n"
            ]
        },
        {
            "cell_type": "code",
            "execution_count": 10,
            "metadata": {
                "button": false,
                "new_sheet": false,
                "run_control": {
                    "read_only": false
                }
            },
            "outputs": [
                {
                    "data": {
                        "image/png": "[encoded data removed]",
                        "text/plain": [
                            "<Figure size 432x216 with 2 Axes>"
                        ]
                    },
                    "metadata": {
                        "needs_background": "light"
                    },
                    "output_type": "display_data"
                }
            ],
            "source": [
                "df['dayofweek'] = df['effective_date'].dt.dayofweek\n",
                "bins = np.linspace(df.dayofweek.min(), df.dayofweek.max(), 10)\n",
                "g = sns.FacetGrid(df, col=\"Gender\", hue=\"loan_status\", palette=\"Set1\", col_wrap=2)\n",
                "g.map(plt.hist, 'dayofweek', bins=bins, ec=\"k\")\n",
                "g.axes[-1].legend()\n",
                "plt.show()\n"
            ]
        },
        {
            "cell_type": "markdown",
            "metadata": {
                "button": false,
                "new_sheet": false,
                "run_control": {
                    "read_only": false
                }
            },
            "source": [
                "We see that people who get the loan at the end of the week don't pay it off, so let's use Feature binarization to set a threshold value less than day 4\n"
            ]
        },
        {
            "cell_type": "code",
            "execution_count": 11,
            "metadata": {
                "button": false,
                "new_sheet": false,
                "run_control": {
                    "read_only": false
                }
            },
            "outputs": [
                {
                    "data": {
                        "text/html": [
                            "<div>\n",
                            "<style scoped>\n",
                            "    .dataframe tbody tr th:only-of-type {\n",
                            "        vertical-align: middle;\n",
                            "    }\n",
                            "\n",
                            "    .dataframe tbody tr th {\n",
                            "        vertical-align: top;\n",
                            "    }\n",
                            "\n",
                            "    .dataframe thead th {\n",
                            "        text-align: right;\n",
                            "    }\n",
                            "</style>\n",
                            "<table border=\"1\" class=\"dataframe\">\n",
                            "  <thead>\n",
                            "    <tr style=\"text-align: right;\">\n",
                            "      <th></th>\n",
                            "      <th>Unnamed: 0.1</th>\n",
                            "      <th>Unnamed: 0</th>\n",
                            "      <th>loan_status</th>\n",
                            "      <th>Principal</th>\n",
                            "      <th>terms</th>\n",
                            "      <th>effective_date</th>\n",
                            "      <th>due_date</th>\n",
                            "      <th>age</th>\n",
                            "      <th>education</th>\n",
                            "      <th>Gender</th>\n",
                            "      <th>dayofweek</th>\n",
                            "      <th>weekend</th>\n",
                            "    </tr>\n",
                            "  </thead>\n",
                            "  <tbody>\n",
                            "    <tr>\n",
                            "      <th>0</th>\n",
                            "      <td>0</td>\n",
                            "      <td>0</td>\n",
                            "      <td>PAIDOFF</td>\n",
                            "      <td>1000</td>\n",
                            "      <td>30</td>\n",
                            "      <td>2016-09-08</td>\n",
                            "      <td>2016-10-07</td>\n",
                            "      <td>45</td>\n",
                            "      <td>High School or Below</td>\n",
                            "      <td>male</td>\n",
                            "      <td>3</td>\n",
                            "      <td>0</td>\n",
                            "    </tr>\n",
                            "    <tr>\n",
                            "      <th>1</th>\n",
                            "      <td>2</td>\n",
                            "      <td>2</td>\n",
                            "      <td>PAIDOFF</td>\n",
                            "      <td>1000</td>\n",
                            "      <td>30</td>\n",
                            "      <td>2016-09-08</td>\n",
                            "      <td>2016-10-07</td>\n",
                            "      <td>33</td>\n",
                            "      <td>Bechalor</td>\n",
                            "      <td>female</td>\n",
                            "      <td>3</td>\n",
                            "      <td>0</td>\n",
                            "    </tr>\n",
                            "    <tr>\n",
                            "      <th>2</th>\n",
                            "      <td>3</td>\n",
                            "      <td>3</td>\n",
                            "      <td>PAIDOFF</td>\n",
                            "      <td>1000</td>\n",
                            "      <td>15</td>\n",
                            "      <td>2016-09-08</td>\n",
                            "      <td>2016-09-22</td>\n",
                            "      <td>27</td>\n",
                            "      <td>college</td>\n",
                            "      <td>male</td>\n",
                            "      <td>3</td>\n",
                            "      <td>0</td>\n",
                            "    </tr>\n",
                            "    <tr>\n",
                            "      <th>3</th>\n",
                            "      <td>4</td>\n",
                            "      <td>4</td>\n",
                            "      <td>PAIDOFF</td>\n",
                            "      <td>1000</td>\n",
                            "      <td>30</td>\n",
                            "      <td>2016-09-09</td>\n",
                            "      <td>2016-10-08</td>\n",
                            "      <td>28</td>\n",
                            "      <td>college</td>\n",
                            "      <td>female</td>\n",
                            "      <td>4</td>\n",
                            "      <td>1</td>\n",
                            "    </tr>\n",
                            "    <tr>\n",
                            "      <th>4</th>\n",
                            "      <td>6</td>\n",
                            "      <td>6</td>\n",
                            "      <td>PAIDOFF</td>\n",
                            "      <td>1000</td>\n",
                            "      <td>30</td>\n",
                            "      <td>2016-09-09</td>\n",
                            "      <td>2016-10-08</td>\n",
                            "      <td>29</td>\n",
                            "      <td>college</td>\n",
                            "      <td>male</td>\n",
                            "      <td>4</td>\n",
                            "      <td>1</td>\n",
                            "    </tr>\n",
                            "  </tbody>\n",
                            "</table>\n",
                            "</div>"
                        ],
                        "text/plain": [
                            "   Unnamed: 0.1  Unnamed: 0 loan_status  Principal  terms effective_date  \\\n",
                            "0             0           0     PAIDOFF       1000     30     2016-09-08   \n",
                            "1             2           2     PAIDOFF       1000     30     2016-09-08   \n",
                            "2             3           3     PAIDOFF       1000     15     2016-09-08   \n",
                            "3             4           4     PAIDOFF       1000     30     2016-09-09   \n",
                            "4             6           6     PAIDOFF       1000     30     2016-09-09   \n",
                            "\n",
                            "    due_date  age             education  Gender  dayofweek  weekend  \n",
                            "0 2016-10-07   45  High School or Below    male          3        0  \n",
                            "1 2016-10-07   33              Bechalor  female          3        0  \n",
                            "2 2016-09-22   27               college    male          3        0  \n",
                            "3 2016-10-08   28               college  female          4        1  \n",
                            "4 2016-10-08   29               college    male          4        1  "
                        ]
                    },
                    "execution_count": 11,
                    "metadata": {},
                    "output_type": "execute_result"
                }
            ],
            "source": [
                "df['weekend'] = df['dayofweek'].apply(lambda x: 1 if (x>3)  else 0)\n",
                "df.head()"
            ]
        },
        {
            "cell_type": "markdown",
            "metadata": {
                "button": false,
                "new_sheet": false,
                "run_control": {
                    "read_only": false
                }
            },
            "source": [
                "## Convert Categorical features to numerical values\n"
            ]
        },
        {
            "cell_type": "markdown",
            "metadata": {
                "button": false,
                "new_sheet": false,
                "run_control": {
                    "read_only": false
                }
            },
            "source": [
                "Let's look at gender:\n"
            ]
        },
        {
            "cell_type": "code",
            "execution_count": 12,
            "metadata": {
                "button": false,
                "new_sheet": false,
                "run_control": {
                    "read_only": false
                }
            },
            "outputs": [
                {
                    "data": {
                        "text/plain": [
                            "Gender  loan_status\n",
                            "female  PAIDOFF        0.865385\n",
                            "        COLLECTION     0.134615\n",
                            "male    PAIDOFF        0.731293\n",
                            "        COLLECTION     0.268707\n",
                            "Name: loan_status, dtype: float64"
                        ]
                    },
                    "execution_count": 12,
                    "metadata": {},
                    "output_type": "execute_result"
                }
            ],
            "source": [
                "df.groupby(['Gender'])['loan_status'].value_counts(normalize=True)"
            ]
        },
        {
            "cell_type": "markdown",
            "metadata": {
                "button": false,
                "new_sheet": false,
                "run_control": {
                    "read_only": false
                }
            },
            "source": [
                "86 % of female pay there loans while only 73 % of males pay there loan\n"
            ]
        },
        {
            "cell_type": "markdown",
            "metadata": {
                "button": false,
                "new_sheet": false,
                "run_control": {
                    "read_only": false
                }
            },
            "source": [
                "Let's convert male to 0 and female to 1:\n"
            ]
        },
        {
            "cell_type": "code",
            "execution_count": 13,
            "metadata": {
                "button": false,
                "new_sheet": false,
                "run_control": {
                    "read_only": false
                }
            },
            "outputs": [
                {
                    "data": {
                        "text/html": [
                            "<div>\n",
                            "<style scoped>\n",
                            "    .dataframe tbody tr th:only-of-type {\n",
                            "        vertical-align: middle;\n",
                            "    }\n",
                            "\n",
                            "    .dataframe tbody tr th {\n",
                            "        vertical-align: top;\n",
                            "    }\n",
                            "\n",
                            "    .dataframe thead th {\n",
                            "        text-align: right;\n",
                            "    }\n",
                            "</style>\n",
                            "<table border=\"1\" class=\"dataframe\">\n",
                            "  <thead>\n",
                            "    <tr style=\"text-align: right;\">\n",
                            "      <th></th>\n",
                            "      <th>Unnamed: 0.1</th>\n",
                            "      <th>Unnamed: 0</th>\n",
                            "      <th>loan_status</th>\n",
                            "      <th>Principal</th>\n",
                            "      <th>terms</th>\n",
                            "      <th>effective_date</th>\n",
                            "      <th>due_date</th>\n",
                            "      <th>age</th>\n",
                            "      <th>education</th>\n",
                            "      <th>Gender</th>\n",
                            "      <th>dayofweek</th>\n",
                            "      <th>weekend</th>\n",
                            "    </tr>\n",
                            "  </thead>\n",
                            "  <tbody>\n",
                            "    <tr>\n",
                            "      <th>0</th>\n",
                            "      <td>0</td>\n",
                            "      <td>0</td>\n",
                            "      <td>PAIDOFF</td>\n",
                            "      <td>1000</td>\n",
                            "      <td>30</td>\n",
                            "      <td>2016-09-08</td>\n",
                            "      <td>2016-10-07</td>\n",
                            "      <td>45</td>\n",
                            "      <td>High School or Below</td>\n",
                            "      <td>0</td>\n",
                            "      <td>3</td>\n",
                            "      <td>0</td>\n",
                            "    </tr>\n",
                            "    <tr>\n",
                            "      <th>1</th>\n",
                            "      <td>2</td>\n",
                            "      <td>2</td>\n",
                            "      <td>PAIDOFF</td>\n",
                            "      <td>1000</td>\n",
                            "      <td>30</td>\n",
                            "      <td>2016-09-08</td>\n",
                            "      <td>2016-10-07</td>\n",
                            "      <td>33</td>\n",
                            "      <td>Bechalor</td>\n",
                            "      <td>1</td>\n",
                            "      <td>3</td>\n",
                            "      <td>0</td>\n",
                            "    </tr>\n",
                            "    <tr>\n",
                            "      <th>2</th>\n",
                            "      <td>3</td>\n",
                            "      <td>3</td>\n",
                            "      <td>PAIDOFF</td>\n",
                            "      <td>1000</td>\n",
                            "      <td>15</td>\n",
                            "      <td>2016-09-08</td>\n",
                            "      <td>2016-09-22</td>\n",
                            "      <td>27</td>\n",
                            "      <td>college</td>\n",
                            "      <td>0</td>\n",
                            "      <td>3</td>\n",
                            "      <td>0</td>\n",
                            "    </tr>\n",
                            "    <tr>\n",
                            "      <th>3</th>\n",
                            "      <td>4</td>\n",
                            "      <td>4</td>\n",
                            "      <td>PAIDOFF</td>\n",
                            "      <td>1000</td>\n",
                            "      <td>30</td>\n",
                            "      <td>2016-09-09</td>\n",
                            "      <td>2016-10-08</td>\n",
                            "      <td>28</td>\n",
                            "      <td>college</td>\n",
                            "      <td>1</td>\n",
                            "      <td>4</td>\n",
                            "      <td>1</td>\n",
                            "    </tr>\n",
                            "    <tr>\n",
                            "      <th>4</th>\n",
                            "      <td>6</td>\n",
                            "      <td>6</td>\n",
                            "      <td>PAIDOFF</td>\n",
                            "      <td>1000</td>\n",
                            "      <td>30</td>\n",
                            "      <td>2016-09-09</td>\n",
                            "      <td>2016-10-08</td>\n",
                            "      <td>29</td>\n",
                            "      <td>college</td>\n",
                            "      <td>0</td>\n",
                            "      <td>4</td>\n",
                            "      <td>1</td>\n",
                            "    </tr>\n",
                            "  </tbody>\n",
                            "</table>\n",
                            "</div>"
                        ],
                        "text/plain": [
                            "   Unnamed: 0.1  Unnamed: 0 loan_status  Principal  terms effective_date  \\\n",
                            "0             0           0     PAIDOFF       1000     30     2016-09-08   \n",
                            "1             2           2     PAIDOFF       1000     30     2016-09-08   \n",
                            "2             3           3     PAIDOFF       1000     15     2016-09-08   \n",
                            "3             4           4     PAIDOFF       1000     30     2016-09-09   \n",
                            "4             6           6     PAIDOFF       1000     30     2016-09-09   \n",
                            "\n",
                            "    due_date  age             education  Gender  dayofweek  weekend  \n",
                            "0 2016-10-07   45  High School or Below       0          3        0  \n",
                            "1 2016-10-07   33              Bechalor       1          3        0  \n",
                            "2 2016-09-22   27               college       0          3        0  \n",
                            "3 2016-10-08   28               college       1          4        1  \n",
                            "4 2016-10-08   29               college       0          4        1  "
                        ]
                    },
                    "execution_count": 13,
                    "metadata": {},
                    "output_type": "execute_result"
                }
            ],
            "source": [
                "df['Gender'].replace(to_replace=['male','female'], value=[0,1],inplace=True)\n",
                "df.head()"
            ]
        },
        {
            "cell_type": "markdown",
            "metadata": {
                "button": false,
                "new_sheet": false,
                "run_control": {
                    "read_only": false
                }
            },
            "source": [
                "## One Hot Encoding\n",
                "\n",
                "#### How about education?\n"
            ]
        },
        {
            "cell_type": "code",
            "execution_count": 14,
            "metadata": {
                "button": false,
                "new_sheet": false,
                "run_control": {
                    "read_only": false
                }
            },
            "outputs": [
                {
                    "data": {
                        "text/plain": [
                            "education             loan_status\n",
                            "Bechalor              PAIDOFF        0.750000\n",
                            "                      COLLECTION     0.250000\n",
                            "High School or Below  PAIDOFF        0.741722\n",
                            "                      COLLECTION     0.258278\n",
                            "Master or Above       COLLECTION     0.500000\n",
                            "                      PAIDOFF        0.500000\n",
                            "college               PAIDOFF        0.765101\n",
                            "                      COLLECTION     0.234899\n",
                            "Name: loan_status, dtype: float64"
                        ]
                    },
                    "execution_count": 14,
                    "metadata": {},
                    "output_type": "execute_result"
                }
            ],
            "source": [
                "df.groupby(['education'])['loan_status'].value_counts(normalize=True)"
            ]
        },
        {
            "cell_type": "markdown",
            "metadata": {
                "button": false,
                "new_sheet": false,
                "run_control": {
                    "read_only": false
                }
            },
            "source": [
                "#### Features before One Hot Encoding\n"
            ]
        },
        {
            "cell_type": "code",
            "execution_count": 15,
            "metadata": {
                "button": false,
                "new_sheet": false,
                "run_control": {
                    "read_only": false
                }
            },
            "outputs": [
                {
                    "data": {
                        "text/html": [
                            "<div>\n",
                            "<style scoped>\n",
                            "    .dataframe tbody tr th:only-of-type {\n",
                            "        vertical-align: middle;\n",
                            "    }\n",
                            "\n",
                            "    .dataframe tbody tr th {\n",
                            "        vertical-align: top;\n",
                            "    }\n",
                            "\n",
                            "    .dataframe thead th {\n",
                            "        text-align: right;\n",
                            "    }\n",
                            "</style>\n",
                            "<table border=\"1\" class=\"dataframe\">\n",
                            "  <thead>\n",
                            "    <tr style=\"text-align: right;\">\n",
                            "      <th></th>\n",
                            "      <th>Principal</th>\n",
                            "      <th>terms</th>\n",
                            "      <th>age</th>\n",
                            "      <th>Gender</th>\n",
                            "      <th>education</th>\n",
                            "    </tr>\n",
                            "  </thead>\n",
                            "  <tbody>\n",
                            "    <tr>\n",
                            "      <th>0</th>\n",
                            "      <td>1000</td>\n",
                            "      <td>30</td>\n",
                            "      <td>45</td>\n",
                            "      <td>0</td>\n",
                            "      <td>High School or Below</td>\n",
                            "    </tr>\n",
                            "    <tr>\n",
                            "      <th>1</th>\n",
                            "      <td>1000</td>\n",
                            "      <td>30</td>\n",
                            "      <td>33</td>\n",
                            "      <td>1</td>\n",
                            "      <td>Bechalor</td>\n",
                            "    </tr>\n",
                            "    <tr>\n",
                            "      <th>2</th>\n",
                            "      <td>1000</td>\n",
                            "      <td>15</td>\n",
                            "      <td>27</td>\n",
                            "      <td>0</td>\n",
                            "      <td>college</td>\n",
                            "    </tr>\n",
                            "    <tr>\n",
                            "      <th>3</th>\n",
                            "      <td>1000</td>\n",
                            "      <td>30</td>\n",
                            "      <td>28</td>\n",
                            "      <td>1</td>\n",
                            "      <td>college</td>\n",
                            "    </tr>\n",
                            "    <tr>\n",
                            "      <th>4</th>\n",
                            "      <td>1000</td>\n",
                            "      <td>30</td>\n",
                            "      <td>29</td>\n",
                            "      <td>0</td>\n",
                            "      <td>college</td>\n",
                            "    </tr>\n",
                            "  </tbody>\n",
                            "</table>\n",
                            "</div>"
                        ],
                        "text/plain": [
                            "   Principal  terms  age  Gender             education\n",
                            "0       1000     30   45       0  High School or Below\n",
                            "1       1000     30   33       1              Bechalor\n",
                            "2       1000     15   27       0               college\n",
                            "3       1000     30   28       1               college\n",
                            "4       1000     30   29       0               college"
                        ]
                    },
                    "execution_count": 15,
                    "metadata": {},
                    "output_type": "execute_result"
                }
            ],
            "source": [
                "df[['Principal','terms','age','Gender','education']].head()"
            ]
        },
        {
            "cell_type": "markdown",
            "metadata": {
                "button": false,
                "new_sheet": false,
                "run_control": {
                    "read_only": false
                }
            },
            "source": [
                "#### Use one hot encoding technique to conver categorical varables to binary variables and append them to the feature Data Frame\n"
            ]
        },
        {
            "cell_type": "code",
            "execution_count": 16,
            "metadata": {
                "button": false,
                "new_sheet": false,
                "run_control": {
                    "read_only": false
                }
            },
            "outputs": [
                {
                    "data": {
                        "text/html": [
                            "<div>\n",
                            "<style scoped>\n",
                            "    .dataframe tbody tr th:only-of-type {\n",
                            "        vertical-align: middle;\n",
                            "    }\n",
                            "\n",
                            "    .dataframe tbody tr th {\n",
                            "        vertical-align: top;\n",
                            "    }\n",
                            "\n",
                            "    .dataframe thead th {\n",
                            "        text-align: right;\n",
                            "    }\n",
                            "</style>\n",
                            "<table border=\"1\" class=\"dataframe\">\n",
                            "  <thead>\n",
                            "    <tr style=\"text-align: right;\">\n",
                            "      <th></th>\n",
                            "      <th>Principal</th>\n",
                            "      <th>terms</th>\n",
                            "      <th>age</th>\n",
                            "      <th>Gender</th>\n",
                            "      <th>weekend</th>\n",
                            "      <th>Bechalor</th>\n",
                            "      <th>High School or Below</th>\n",
                            "      <th>college</th>\n",
                            "    </tr>\n",
                            "  </thead>\n",
                            "  <tbody>\n",
                            "    <tr>\n",
                            "      <th>0</th>\n",
                            "      <td>1000</td>\n",
                            "      <td>30</td>\n",
                            "      <td>45</td>\n",
                            "      <td>0</td>\n",
                            "      <td>0</td>\n",
                            "      <td>0</td>\n",
                            "      <td>1</td>\n",
                            "      <td>0</td>\n",
                            "    </tr>\n",
                            "    <tr>\n",
                            "      <th>1</th>\n",
                            "      <td>1000</td>\n",
                            "      <td>30</td>\n",
                            "      <td>33</td>\n",
                            "      <td>1</td>\n",
                            "      <td>0</td>\n",
                            "      <td>1</td>\n",
                            "      <td>0</td>\n",
                            "      <td>0</td>\n",
                            "    </tr>\n",
                            "    <tr>\n",
                            "      <th>2</th>\n",
                            "      <td>1000</td>\n",
                            "      <td>15</td>\n",
                            "      <td>27</td>\n",
                            "      <td>0</td>\n",
                            "      <td>0</td>\n",
                            "      <td>0</td>\n",
                            "      <td>0</td>\n",
                            "      <td>1</td>\n",
                            "    </tr>\n",
                            "    <tr>\n",
                            "      <th>3</th>\n",
                            "      <td>1000</td>\n",
                            "      <td>30</td>\n",
                            "      <td>28</td>\n",
                            "      <td>1</td>\n",
                            "      <td>1</td>\n",
                            "      <td>0</td>\n",
                            "      <td>0</td>\n",
                            "      <td>1</td>\n",
                            "    </tr>\n",
                            "    <tr>\n",
                            "      <th>4</th>\n",
                            "      <td>1000</td>\n",
                            "      <td>30</td>\n",
                            "      <td>29</td>\n",
                            "      <td>0</td>\n",
                            "      <td>1</td>\n",
                            "      <td>0</td>\n",
                            "      <td>0</td>\n",
                            "      <td>1</td>\n",
                            "    </tr>\n",
                            "  </tbody>\n",
                            "</table>\n",
                            "</div>"
                        ],
                        "text/plain": [
                            "   Principal  terms  age  Gender  weekend  Bechalor  High School or Below  \\\n",
                            "0       1000     30   45       0        0         0                     1   \n",
                            "1       1000     30   33       1        0         1                     0   \n",
                            "2       1000     15   27       0        0         0                     0   \n",
                            "3       1000     30   28       1        1         0                     0   \n",
                            "4       1000     30   29       0        1         0                     0   \n",
                            "\n",
                            "   college  \n",
                            "0        0  \n",
                            "1        0  \n",
                            "2        1  \n",
                            "3        1  \n",
                            "4        1  "
                        ]
                    },
                    "execution_count": 16,
                    "metadata": {},
                    "output_type": "execute_result"
                }
            ],
            "source": [
                "Feature = df[['Principal','terms','age','Gender','weekend']]\n",
                "Feature = pd.concat([Feature,pd.get_dummies(df['education'])], axis=1)\n",
                "Feature.drop(['Master or Above'], axis = 1,inplace=True)\n",
                "Feature.head()\n"
            ]
        },
        {
            "cell_type": "markdown",
            "metadata": {
                "button": false,
                "new_sheet": false,
                "run_control": {
                    "read_only": false
                }
            },
            "source": [
                "### Feature Selection\n"
            ]
        },
        {
            "cell_type": "markdown",
            "metadata": {
                "button": false,
                "new_sheet": false,
                "run_control": {
                    "read_only": false
                }
            },
            "source": [
                "Let's define feature sets, X:\n"
            ]
        },
        {
            "cell_type": "code",
            "execution_count": 17,
            "metadata": {
                "button": false,
                "new_sheet": false,
                "run_control": {
                    "read_only": false
                }
            },
            "outputs": [
                {
                    "data": {
                        "text/html": [
                            "<div>\n",
                            "<style scoped>\n",
                            "    .dataframe tbody tr th:only-of-type {\n",
                            "        vertical-align: middle;\n",
                            "    }\n",
                            "\n",
                            "    .dataframe tbody tr th {\n",
                            "        vertical-align: top;\n",
                            "    }\n",
                            "\n",
                            "    .dataframe thead th {\n",
                            "        text-align: right;\n",
                            "    }\n",
                            "</style>\n",
                            "<table border=\"1\" class=\"dataframe\">\n",
                            "  <thead>\n",
                            "    <tr style=\"text-align: right;\">\n",
                            "      <th></th>\n",
                            "      <th>Principal</th>\n",
                            "      <th>terms</th>\n",
                            "      <th>age</th>\n",
                            "      <th>Gender</th>\n",
                            "      <th>weekend</th>\n",
                            "      <th>Bechalor</th>\n",
                            "      <th>High School or Below</th>\n",
                            "      <th>college</th>\n",
                            "    </tr>\n",
                            "  </thead>\n",
                            "  <tbody>\n",
                            "    <tr>\n",
                            "      <th>0</th>\n",
                            "      <td>1000</td>\n",
                            "      <td>30</td>\n",
                            "      <td>45</td>\n",
                            "      <td>0</td>\n",
                            "      <td>0</td>\n",
                            "      <td>0</td>\n",
                            "      <td>1</td>\n",
                            "      <td>0</td>\n",
                            "    </tr>\n",
                            "    <tr>\n",
                            "      <th>1</th>\n",
                            "      <td>1000</td>\n",
                            "      <td>30</td>\n",
                            "      <td>33</td>\n",
                            "      <td>1</td>\n",
                            "      <td>0</td>\n",
                            "      <td>1</td>\n",
                            "      <td>0</td>\n",
                            "      <td>0</td>\n",
                            "    </tr>\n",
                            "    <tr>\n",
                            "      <th>2</th>\n",
                            "      <td>1000</td>\n",
                            "      <td>15</td>\n",
                            "      <td>27</td>\n",
                            "      <td>0</td>\n",
                            "      <td>0</td>\n",
                            "      <td>0</td>\n",
                            "      <td>0</td>\n",
                            "      <td>1</td>\n",
                            "    </tr>\n",
                            "    <tr>\n",
                            "      <th>3</th>\n",
                            "      <td>1000</td>\n",
                            "      <td>30</td>\n",
                            "      <td>28</td>\n",
                            "      <td>1</td>\n",
                            "      <td>1</td>\n",
                            "      <td>0</td>\n",
                            "      <td>0</td>\n",
                            "      <td>1</td>\n",
                            "    </tr>\n",
                            "    <tr>\n",
                            "      <th>4</th>\n",
                            "      <td>1000</td>\n",
                            "      <td>30</td>\n",
                            "      <td>29</td>\n",
                            "      <td>0</td>\n",
                            "      <td>1</td>\n",
                            "      <td>0</td>\n",
                            "      <td>0</td>\n",
                            "      <td>1</td>\n",
                            "    </tr>\n",
                            "  </tbody>\n",
                            "</table>\n",
                            "</div>"
                        ],
                        "text/plain": [
                            "   Principal  terms  age  Gender  weekend  Bechalor  High School or Below  \\\n",
                            "0       1000     30   45       0        0         0                     1   \n",
                            "1       1000     30   33       1        0         1                     0   \n",
                            "2       1000     15   27       0        0         0                     0   \n",
                            "3       1000     30   28       1        1         0                     0   \n",
                            "4       1000     30   29       0        1         0                     0   \n",
                            "\n",
                            "   college  \n",
                            "0        0  \n",
                            "1        0  \n",
                            "2        1  \n",
                            "3        1  \n",
                            "4        1  "
                        ]
                    },
                    "execution_count": 17,
                    "metadata": {},
                    "output_type": "execute_result"
                }
            ],
            "source": [
                "X = Feature\n",
                "X[0:5]"
            ]
        },
        {
            "cell_type": "markdown",
            "metadata": {
                "button": false,
                "new_sheet": false,
                "run_control": {
                    "read_only": false
                }
            },
            "source": [
                "What are our lables?\n"
            ]
        },
        {
            "cell_type": "code",
            "execution_count": 18,
            "metadata": {
                "button": false,
                "new_sheet": false,
                "run_control": {
                    "read_only": false
                }
            },
            "outputs": [
                {
                    "data": {
                        "text/plain": [
                            "array([1, 1, 1, 1, 1], dtype=int64)"
                        ]
                    },
                    "execution_count": 18,
                    "metadata": {},
                    "output_type": "execute_result"
                }
            ],
            "source": [
                "df['loan_status'].replace(to_replace=['PAIDOFF','COLLECTION'], value=[1,0],inplace=True)\n",
                "y = df['loan_status'].values\n",
                "y[0:5]"
            ]
        },
        {
            "cell_type": "markdown",
            "metadata": {
                "button": false,
                "new_sheet": false,
                "run_control": {
                    "read_only": false
                }
            },
            "source": [
                "## Normalize Data\n"
            ]
        },
        {
            "cell_type": "markdown",
            "metadata": {
                "button": false,
                "new_sheet": false,
                "run_control": {
                    "read_only": false
                }
            },
            "source": [
                "Data Standardization give data zero mean and unit variance (technically should be done after train test split)\n"
            ]
        },
        {
            "cell_type": "code",
            "execution_count": 19,
            "metadata": {
                "button": false,
                "new_sheet": false,
                "run_control": {
                    "read_only": false
                }
            },
            "outputs": [
                {
                    "data": {
                        "text/plain": [
                            "array([[ 0.51578458,  0.92071769,  2.33152555, -0.42056004, -1.20577805,\n",
                            "        -0.38170062,  1.13639374, -0.86968108],\n",
                            "       [ 0.51578458,  0.92071769,  0.34170148,  2.37778177, -1.20577805,\n",
                            "         2.61985426, -0.87997669, -0.86968108],\n",
                            "       [ 0.51578458, -0.95911111, -0.65321055, -0.42056004, -1.20577805,\n",
                            "        -0.38170062, -0.87997669,  1.14984679],\n",
                            "       [ 0.51578458,  0.92071769, -0.48739188,  2.37778177,  0.82934003,\n",
                            "        -0.38170062, -0.87997669,  1.14984679],\n",
                            "       [ 0.51578458,  0.92071769, -0.3215732 , -0.42056004,  0.82934003,\n",
                            "        -0.38170062, -0.87997669,  1.14984679]])"
                        ]
                    },
                    "execution_count": 19,
                    "metadata": {},
                    "output_type": "execute_result"
                }
            ],
            "source": [
                "X= preprocessing.StandardScaler().fit(X).transform(X)\n",
                "X[0:5]"
            ]
        },
        {
            "cell_type": "markdown",
            "metadata": {
                "button": false,
                "new_sheet": false,
                "run_control": {
                    "read_only": false
                }
            },
            "source": [
                "# Classification\n"
            ]
        },
        {
            "cell_type": "markdown",
            "metadata": {
                "button": false,
                "new_sheet": false,
                "run_control": {
                    "read_only": false
                }
            },
            "source": [
                "Now, it is your turn, use the training set to build an accurate model. Then use the test set to report the accuracy of the model\n",
                "You should use the following algorithm:\n",
                "\n",
                "*   K Nearest Neighbor(KNN)\n",
                "*   Decision Tree\n",
                "*   Support Vector Machine\n",
                "*   Logistic Regression\n",
                "\n",
                "\\__ Notice:\\__\n",
                "\n",
                "*   You can go above and change the pre-processing, feature selection, feature-extraction, and so on, to make a better model.\n",
                "*   You should use either scikit-learn, Scipy or Numpy libraries for developing the classification algorithms.\n",
                "*   You should include the code of the algorithm in the following cells.\n"
            ]
        },
        {
            "cell_type": "markdown",
            "metadata": {},
            "source": [
                "# K Nearest Neighbor(KNN)\n",
                "\n",
                "Notice: You should find the best k to build the model with the best accuracy.\\\n",
                "**warning:** You should not use the **loan_test.csv** for finding the best k, however, you can split your train_loan.csv into train and test to find the best **k**.\n"
            ]
        },
        {
            "cell_type": "code",
            "execution_count": 20,
            "metadata": {},
            "outputs": [],
            "source": [
                "from sklearn.neighbors import KNeighborsClassifier"
            ]
        },
        {
            "cell_type": "code",
            "execution_count": 21,
            "metadata": {},
            "outputs": [
                {
                    "name": "stdout",
                    "output_type": "stream",
                    "text": [
                        "Train set: (276, 8) (276,)\n",
                        "Test set: (70, 8) (70,)\n"
                    ]
                }
            ],
            "source": [
                "from sklearn.model_selection import train_test_split\n",
                "X_train, X_test, y_train, y_test = train_test_split( X, y, test_size=0.2, random_state=4)\n",
                "print ('Train set:', X_train.shape,  y_train.shape)\n",
                "print ('Test set:', X_test.shape,  y_test.shape)"
            ]
        },
        {
            "cell_type": "code",
            "execution_count": 22,
            "metadata": {},
            "outputs": [
                {
                    "name": "stdout",
                    "output_type": "stream",
                    "text": [
                        "Train set Accuracy:  0.8188405797101449\n",
                        "Test set Accuracy:  0.7\n"
                    ]
                }
            ],
            "source": [
                "k = 4 \n",
                "neigh = KNeighborsClassifier(n_neighbors = k).fit(X_train,y_train)\n",
                "yhat = neigh.predict(X_test)\n",
                "from sklearn import metrics\n",
                "print(\"Train set Accuracy: \", metrics.accuracy_score(y_train, neigh.predict(X_train)))\n",
                "print(\"Test set Accuracy: \", metrics.accuracy_score(y_test, yhat))"
            ]
        },
        {
            "cell_type": "code",
            "execution_count": 23,
            "metadata": {},
            "outputs": [
                {
                    "name": "stdout",
                    "output_type": "stream",
                    "text": [
                        "Train set Accuracy:  0.8188405797101449\n",
                        "Test set Accuracy:  0.7428571428571429\n"
                    ]
                }
            ],
            "source": [
                "k = 5\n",
                "neigh = KNeighborsClassifier(n_neighbors = k).fit(X_train,y_train)\n",
                "yhat = neigh.predict(X_test)\n",
                "from sklearn import metrics\n",
                "print(\"Train set Accuracy: \", metrics.accuracy_score(y_train, neigh.predict(X_train)))\n",
                "print(\"Test set Accuracy: \", metrics.accuracy_score(y_test, yhat))"
            ]
        },
        {
            "cell_type": "code",
            "execution_count": 24,
            "metadata": {},
            "outputs": [
                {
                    "name": "stdout",
                    "output_type": "stream",
                    "text": [
                        "Train set Accuracy:  0.7971014492753623\n",
                        "Test set Accuracy:  0.7142857142857143\n"
                    ]
                }
            ],
            "source": [
                "k = 6\n",
                "neigh = KNeighborsClassifier(n_neighbors = k).fit(X_train,y_train)\n",
                "yhat = neigh.predict(X_test)\n",
                "from sklearn import metrics\n",
                "print(\"Train set Accuracy: \", metrics.accuracy_score(y_train, neigh.predict(X_train)))\n",
                "print(\"Test set Accuracy: \", metrics.accuracy_score(y_test, yhat))"
            ]
        },
        {
            "cell_type": "code",
            "execution_count": 25,
            "metadata": {},
            "outputs": [],
            "source": [
                "neigh = KNeighborsClassifier(n_neighbors = k).fit(X_train,y_train)\n",
                "yhat_neigh = neigh.predict(X_train)"
            ]
        },
        {
            "cell_type": "markdown",
            "metadata": {},
            "source": [
                "# Decision Tree\n"
            ]
        },
        {
            "cell_type": "code",
            "execution_count": 26,
            "metadata": {},
            "outputs": [
                {
                    "data": {
                        "text/html": [
                            "<style>#sk-container-id-1 {color: black;background-color: white;}#sk-container-id-1 pre{padding: 0;}#sk-container-id-1 div.sk-toggleable {background-color: white;}#sk-container-id-1 label.sk-toggleable__label {cursor: pointer;display: block;width: 100%;margin-bottom: 0;padding: 0.3em;box-sizing: border-box;text-align: center;}#sk-container-id-1 label.sk-toggleable__label-arrow:before {content: \"▸\";float: left;margin-right: 0.25em;color: #696969;}#sk-container-id-1 label.sk-toggleable__label-arrow:hover:before {color: black;}#sk-container-id-1 div.sk-estimator:hover label.sk-toggleable__label-arrow:before {color: black;}#sk-container-id-1 div.sk-toggleable__content {max-height: 0;max-width: 0;overflow: hidden;text-align: left;background-color: #f0f8ff;}#sk-container-id-1 div.sk-toggleable__content pre {margin: 0.2em;color: black;border-radius: 0.25em;background-color: #f0f8ff;}#sk-container-id-1 input.sk-toggleable__control:checked~div.sk-toggleable__content {max-height: 200px;max-width: 100%;overflow: auto;}#sk-container-id-1 input.sk-toggleable__control:checked~label.sk-toggleable__label-arrow:before {content: \"▾\";}#sk-container-id-1 div.sk-estimator input.sk-toggleable__control:checked~label.sk-toggleable__label {background-color: #d4ebff;}#sk-container-id-1 div.sk-label input.sk-toggleable__control:checked~label.sk-toggleable__label {background-color: #d4ebff;}#sk-container-id-1 input.sk-hidden--visually {border: 0;clip: rect(1px 1px 1px 1px);clip: rect(1px, 1px, 1px, 1px);height: 1px;margin: -1px;overflow: hidden;padding: 0;position: absolute;width: 1px;}#sk-container-id-1 div.sk-estimator {font-family: monospace;background-color: #f0f8ff;border: 1px dotted black;border-radius: 0.25em;box-sizing: border-box;margin-bottom: 0.5em;}#sk-container-id-1 div.sk-estimator:hover {background-color: #d4ebff;}#sk-container-id-1 div.sk-parallel-item::after {content: \"\";width: 100%;border-bottom: 1px solid gray;flex-grow: 1;}#sk-container-id-1 div.sk-label:hover label.sk-toggleable__label {background-color: #d4ebff;}#sk-container-id-1 div.sk-serial::before {content: \"\";position: absolute;border-left: 1px solid gray;box-sizing: border-box;top: 0;bottom: 0;left: 50%;z-index: 0;}#sk-container-id-1 div.sk-serial {display: flex;flex-direction: column;align-items: center;background-color: white;padding-right: 0.2em;padding-left: 0.2em;position: relative;}#sk-container-id-1 div.sk-item {position: relative;z-index: 1;}#sk-container-id-1 div.sk-parallel {display: flex;align-items: stretch;justify-content: center;background-color: white;position: relative;}#sk-container-id-1 div.sk-item::before, #sk-container-id-1 div.sk-parallel-item::before {content: \"\";position: absolute;border-left: 1px solid gray;box-sizing: border-box;top: 0;bottom: 0;left: 50%;z-index: -1;}#sk-container-id-1 div.sk-parallel-item {display: flex;flex-direction: column;z-index: 1;position: relative;background-color: white;}#sk-container-id-1 div.sk-parallel-item:first-child::after {align-self: flex-end;width: 50%;}#sk-container-id-1 div.sk-parallel-item:last-child::after {align-self: flex-start;width: 50%;}#sk-container-id-1 div.sk-parallel-item:only-child::after {width: 0;}#sk-container-id-1 div.sk-dashed-wrapped {border: 1px dashed gray;margin: 0 0.4em 0.5em 0.4em;box-sizing: border-box;padding-bottom: 0.4em;background-color: white;}#sk-container-id-1 div.sk-label label {font-family: monospace;font-weight: bold;display: inline-block;line-height: 1.2em;}#sk-container-id-1 div.sk-label-container {text-align: center;}#sk-container-id-1 div.sk-container {/* jupyter's `normalize.less` sets `[hidden] { display: none; }` but bootstrap.min.css set `[hidden] { display: none !important; }` so we also need the `!important` here to be able to override the default hidden behavior on the sphinx rendered scikit-learn.org. See: https://github.com/scikit-learn/scikit-learn/issues/21755 */display: inline-block !important;position: relative;}#sk-container-id-1 div.sk-text-repr-fallback {display: none;}</style><div id=\"sk-container-id-1\" class=\"sk-top-container\"><div class=\"sk-text-repr-fallback\"><pre>DecisionTreeClassifier(criterion=&#x27;entropy&#x27;, max_depth=10)</pre><b>In a Jupyter environment, please rerun this cell to show the HTML representation or trust the notebook. <br />On GitHub, the HTML representation is unable to render, please try loading this page with nbviewer.org.</b></div><div class=\"sk-container\" hidden><div class=\"sk-item\"><div class=\"sk-estimator sk-toggleable\"><input class=\"sk-toggleable__control sk-hidden--visually\" id=\"sk-estimator-id-1\" type=\"checkbox\" checked><label for=\"sk-estimator-id-1\" class=\"sk-toggleable__label sk-toggleable__label-arrow\">DecisionTreeClassifier</label><div class=\"sk-toggleable__content\"><pre>DecisionTreeClassifier(criterion=&#x27;entropy&#x27;, max_depth=10)</pre></div></div></div></div></div>"
                        ],
                        "text/plain": [
                            "DecisionTreeClassifier(criterion='entropy', max_depth=10)"
                        ]
                    },
                    "execution_count": 26,
                    "metadata": {},
                    "output_type": "execute_result"
                }
            ],
            "source": [
                "from sklearn.tree import DecisionTreeClassifier\n",
                "import sklearn.tree as tree\n",
                "Tree = DecisionTreeClassifier(criterion=\"entropy\", max_depth = 10)\n",
                "Tree.fit(X_train,y_train)"
            ]
        },
        {
            "cell_type": "code",
            "execution_count": 27,
            "metadata": {},
            "outputs": [],
            "source": [
                "predTree = Tree.predict(X)"
            ]
        },
        {
            "cell_type": "code",
            "execution_count": 28,
            "metadata": {},
            "outputs": [
                {
                    "name": "stdout",
                    "output_type": "stream",
                    "text": [
                        "[1 1 1 1 1]\n",
                        "[1 1 1 1 1]\n"
                    ]
                }
            ],
            "source": [
                "print (predTree [0:5])\n",
                "print (y [0:5])"
            ]
        },
        {
            "cell_type": "code",
            "execution_count": 29,
            "metadata": {
                "scrolled": true
            },
            "outputs": [
                {
                    "name": "stdout",
                    "output_type": "stream",
                    "text": [
                        "DecisionTrees's Accuracy:  0.8092485549132948\n"
                    ]
                }
            ],
            "source": [
                "from sklearn import metrics\n",
                "print(\"DecisionTrees's Accuracy: \", metrics.accuracy_score(y, predTree))"
            ]
        },
        {
            "cell_type": "code",
            "execution_count": 30,
            "metadata": {},
            "outputs": [
                {
                    "data": {
                        "image/png": "[encoded data removed]",
                        "text/plain": [
                            "<Figure size 432x288 with 1 Axes>"
                        ]
                    },
                    "metadata": {
                        "needs_background": "light"
                    },
                    "output_type": "display_data"
                }
            ],
            "source": [
                "tree.plot_tree(Tree)\n",
                "plt.show()"
            ]
        },
        {
            "cell_type": "markdown",
            "metadata": {},
            "source": [
                "# Support Vector Machine\n"
            ]
        },
        {
            "cell_type": "code",
            "execution_count": 31,
            "metadata": {},
            "outputs": [
                {
                    "data": {
                        "text/plain": [
                            "array([1, 1, 1, 1, 1], dtype=int64)"
                        ]
                    },
                    "execution_count": 31,
                    "metadata": {},
                    "output_type": "execute_result"
                }
            ],
            "source": [
                "from sklearn import svm\n",
                "clf = svm.SVC(kernel='rbf')\n",
                "clf.fit(X, y)\n",
                "yhat_SVM = clf.predict(X)\n",
                "yhat_SVM [0:5] "
            ]
        },
        {
            "cell_type": "code",
            "execution_count": 32,
            "metadata": {},
            "outputs": [
                {
                    "data": {
                        "text/plain": [
                            "0.6647688577527595"
                        ]
                    },
                    "execution_count": 32,
                    "metadata": {},
                    "output_type": "execute_result"
                }
            ],
            "source": [
                "from sklearn.metrics import classification_report, confusion_matrix\n",
                "import itertools\n",
                "from sklearn.metrics import f1_score\n",
                "f1_score(y, yhat_SVM, average='weighted') "
            ]
        },
        {
            "cell_type": "code",
            "execution_count": 33,
            "metadata": {},
            "outputs": [
                {
                    "data": {
                        "text/plain": [
                            "0.7580174927113703"
                        ]
                    },
                    "execution_count": 33,
                    "metadata": {},
                    "output_type": "execute_result"
                }
            ],
            "source": [
                "from sklearn.metrics import jaccard_score\n",
                "jaccard_score(y, yhat_SVM,pos_label= 1)"
            ]
        },
        {
            "cell_type": "markdown",
            "metadata": {},
            "source": [
                "# Logistic Regression\n"
            ]
        },
        {
            "cell_type": "code",
            "execution_count": 75,
            "metadata": {},
            "outputs": [
                {
                    "data": {
                        "text/plain": [
                            "array([1, 1, 1, 1, 1, 1, 1, 1, 1, 1, 1, 1, 1, 1, 1, 1, 1, 1, 1, 0, 1, 0,\n",
                            "       1, 1, 1, 1, 1, 1, 1, 1, 1, 0, 0, 1, 1, 1, 1, 1, 1, 0, 1, 1, 1, 1,\n",
                            "       1, 0, 1, 0, 1, 1, 1, 1, 1, 1, 1, 1, 1, 1, 1, 1, 1, 1, 1, 1, 1, 1,\n",
                            "       0, 1, 1, 1, 1, 1, 1, 1, 1, 1, 1, 1, 1, 0, 1, 1, 1, 1, 1, 1, 1, 1,\n",
                            "       1, 1, 1, 1, 1, 1, 1, 1, 0, 1, 1, 1, 0, 1, 1, 1, 1, 1, 1, 1, 1, 1,\n",
                            "       1, 0, 1, 1, 1, 1, 1, 1, 0, 0, 1, 1, 1, 1, 1, 1, 1, 1, 1, 1, 1, 1,\n",
                            "       1, 1, 1, 1, 1, 1, 1, 1, 1, 1, 1, 1, 1, 1, 1, 1, 1, 1, 1, 1, 1, 1,\n",
                            "       1, 1, 1, 1, 1, 1, 1, 1, 1, 1, 1, 1, 1, 1, 1, 1, 1, 1, 1, 1, 1, 1,\n",
                            "       1, 1, 1, 1, 1, 1, 1, 1, 1, 1, 1, 1, 1, 1, 1, 1, 1, 1, 1, 1, 1, 1,\n",
                            "       1, 1, 1, 1, 1, 1, 1, 1, 1, 1, 1, 1, 1, 1, 1, 1, 1, 1, 1, 1, 1, 1,\n",
                            "       1, 1, 1, 1, 1, 1, 1, 1, 1, 1, 1, 1, 1, 1, 1, 1, 1, 1, 1, 1, 1, 1,\n",
                            "       1, 1, 1, 1, 1, 1, 1, 1, 1, 1, 1, 1, 1, 1, 1, 1, 1, 1, 1, 1, 1, 1,\n",
                            "       1, 1, 1, 0, 1, 1, 1, 1, 1, 1, 0, 1, 1, 1, 1, 1, 1, 1, 1, 0, 1, 1,\n",
                            "       1, 1, 0, 1, 1, 1, 1, 1, 0, 1, 0, 1, 1, 0, 1, 1, 1, 1, 1, 1, 1, 1,\n",
                            "       0, 1, 1, 0, 1, 1, 1, 1, 1, 1, 1, 1, 1, 1, 1, 1, 1, 1, 1, 0, 1, 1,\n",
                            "       0, 0, 0, 1, 1, 1, 1, 1, 1, 1, 1, 1, 0, 1, 1, 1], dtype=int64)"
                        ]
                    },
                    "execution_count": 75,
                    "metadata": {},
                    "output_type": "execute_result"
                }
            ],
            "source": [
                "from sklearn.linear_model import LogisticRegression\n",
                "from sklearn.metrics import confusion_matrix\n",
                "LR = LogisticRegression(C=0.001, solver='liblinear').fit(X,y)\n",
                "yhat_LR = LR.predict(X)\n",
                "yhat_LR"
            ]
        },
        {
            "cell_type": "code",
            "execution_count": 76,
            "metadata": {},
            "outputs": [
                {
                    "data": {
                        "text/plain": [
                            "array([[0.46719432, 0.53280568],\n",
                            "       [0.45754876, 0.54245124],\n",
                            "       [0.46057033, 0.53942967],\n",
                            "       [0.4865692 , 0.5134308 ],\n",
                            "       [0.49679848, 0.50320152],\n",
                            "       [0.49571395, 0.50428605],\n",
                            "       [0.49695342, 0.50304658],\n",
                            "       [0.48673011, 0.51326989],\n",
                            "       [0.47211818, 0.52788182],\n",
                            "       [0.49232343, 0.50767657],\n",
                            "       [0.49726329, 0.50273671],\n",
                            "       [0.47523477, 0.52476523],\n",
                            "       [0.49088342, 0.50911658],\n",
                            "       [0.48673011, 0.51326989],\n",
                            "       [0.49835489, 0.50164511],\n",
                            "       [0.49340781, 0.50659219],\n",
                            "       [0.49959442, 0.50040558],\n",
                            "       [0.49291446, 0.50708554],\n",
                            "       [0.49726329, 0.50273671],\n",
                            "       [0.50067901, 0.49932099],\n",
                            "       [0.49107722, 0.50892278],\n",
                            "       [0.50005924, 0.49994076],\n",
                            "       [0.48680392, 0.51319608],\n",
                            "       [0.49192555, 0.50807445],\n",
                            "       [0.49648861, 0.50351139],\n",
                            "       [0.49617875, 0.50382125],\n",
                            "       [0.48890502, 0.51109498],\n",
                            "       [0.49555902, 0.50444098],\n",
                            "       [0.49710836, 0.50289164],\n",
                            "       [0.49555902, 0.50444098],\n",
                            "       [0.48564634, 0.51435366],\n",
                            "       [0.50036913, 0.49963087],\n",
                            "       [0.50012608, 0.49987392],\n",
                            "       [0.47977026, 0.52022974],\n",
                            "       [0.4861108 , 0.5138892 ],\n",
                            "       [0.48909167, 0.51090833],\n",
                            "       [0.49045766, 0.50954234],\n",
                            "       [0.4830933 , 0.5169067 ],\n",
                            "       [0.48529783, 0.51470217],\n",
                            "       [0.50114384, 0.49885616],\n",
                            "       [0.49633368, 0.50366632],\n",
                            "       [0.48627264, 0.51372736],\n",
                            "       [0.48757204, 0.51242796],\n",
                            "       [0.47704934, 0.52295066],\n",
                            "       [0.49928453, 0.50071547],\n",
                            "       [0.50129878, 0.49870122],\n",
                            "       [0.49123211, 0.50876789],\n",
                            "       [0.50036913, 0.49963087],\n",
                            "       [0.49935137, 0.50064863],\n",
                            "       [0.47682803, 0.52317197],\n",
                            "       [0.48663489, 0.51336511],\n",
                            "       [0.49811184, 0.50188816],\n",
                            "       [0.49928453, 0.50071547],\n",
                            "       [0.49431961, 0.50568039],\n",
                            "       [0.48859373, 0.51140627],\n",
                            "       [0.49904149, 0.50095851],\n",
                            "       [0.49881971, 0.50118029],\n",
                            "       [0.4967174 , 0.5032826 ],\n",
                            "       [0.48626562, 0.51373438],\n",
                            "       [0.4895245 , 0.5104755 ],\n",
                            "       [0.48788174, 0.51211826],\n",
                            "       [0.48983814, 0.51016186],\n",
                            "       [0.49123211, 0.50876789],\n",
                            "       [0.4999043 , 0.5000957 ],\n",
                            "       [0.49586888, 0.50413112],\n",
                            "       [0.4873504 , 0.5126496 ],\n",
                            "       [0.50021418, 0.49978582],\n",
                            "       [0.48793383, 0.51206617],\n",
                            "       [0.49061255, 0.50938745],\n",
                            "       [0.48564634, 0.51435366],\n",
                            "       [0.4904477 , 0.5095523 ],\n",
                            "       [0.48672403, 0.51327597],\n",
                            "       [0.47651882, 0.52348118],\n",
                            "       [0.4751206 , 0.5248794 ],\n",
                            "       [0.48813072, 0.51186928],\n",
                            "       [0.48983425, 0.51016575],\n",
                            "       [0.49943947, 0.50056053],\n",
                            "       [0.49571395, 0.50428605],\n",
                            "       [0.49602381, 0.50397619],\n",
                            "       [0.50114384, 0.49885616],\n",
                            "       [0.48819144, 0.51180856],\n",
                            "       [0.4848723 , 0.5151277 ],\n",
                            "       [0.49664355, 0.50335645],\n",
                            "       [0.49139403, 0.50860597],\n",
                            "       [0.48968326, 0.51031674],\n",
                            "       [0.49974936, 0.50025064],\n",
                            "       [0.49974936, 0.50025064],\n",
                            "       [0.49695342, 0.50304658],\n",
                            "       [0.48731444, 0.51268556],\n",
                            "       [0.48626562, 0.51373438],\n",
                            "       [0.48672403, 0.51327597],\n",
                            "       [0.49710836, 0.50289164],\n",
                            "       [0.49617875, 0.50382125],\n",
                            "       [0.49695342, 0.50304658],\n",
                            "       [0.49449224, 0.50550776],\n",
                            "       [0.49509423, 0.50490577],\n",
                            "       [0.50098889, 0.49901111],\n",
                            "       [0.4979569 , 0.5020431 ],\n",
                            "       [0.48703978, 0.51296022],\n",
                            "       [0.49602381, 0.50397619],\n",
                            "       [0.50114384, 0.49885616],\n",
                            "       [0.49200661, 0.50799339],\n",
                            "       [0.49154191, 0.50845809],\n",
                            "       [0.49617875, 0.50382125],\n",
                            "       [0.49726329, 0.50273671],\n",
                            "       [0.49402748, 0.50597252],\n",
                            "       [0.48735647, 0.51264353],\n",
                            "       [0.49192555, 0.50807445],\n",
                            "       [0.49749209, 0.50250791],\n",
                            "       [0.49433732, 0.50566268],\n",
                            "       [0.48735647, 0.51264353],\n",
                            "       [0.50052407, 0.49947593],\n",
                            "       [0.48579508, 0.51420492],\n",
                            "       [0.48703978, 0.51296022],\n",
                            "       [0.4999043 , 0.5000957 ],\n",
                            "       [0.47868365, 0.52131635],\n",
                            "       [0.49169681, 0.50830319],\n",
                            "       [0.49108424, 0.50891576],\n",
                            "       [0.50145372, 0.49854628],\n",
                            "       [0.50021418, 0.49978582],\n",
                            "       [0.48533672, 0.51466328],\n",
                            "       [0.47527516, 0.52472484],\n",
                            "       [0.4999043 , 0.5000957 ],\n",
                            "       [0.49030278, 0.50969722],\n",
                            "       [0.48687886, 0.51312114],\n",
                            "       [0.4628002 , 0.5371998 ],\n",
                            "       [0.45709336, 0.54290664],\n",
                            "       [0.45686625, 0.54313375],\n",
                            "       [0.44013596, 0.55986404],\n",
                            "       [0.46010843, 0.53989157],\n",
                            "       [0.4656449 , 0.5343551 ],\n",
                            "       [0.45825162, 0.54174838],\n",
                            "       [0.45918097, 0.54081903],\n",
                            "       [0.45011247, 0.54988753],\n",
                            "       [0.46997226, 0.53002774],\n",
                            "       [0.4642749 , 0.5357251 ],\n",
                            "       [0.45770863, 0.54229137],\n",
                            "       [0.46981788, 0.53018212],\n",
                            "       [0.45026587, 0.54973413],\n",
                            "       [0.46412075, 0.53587925],\n",
                            "       [0.47043544, 0.52956456],\n",
                            "       [0.46657028, 0.53342972],\n",
                            "       [0.46257966, 0.53742034],\n",
                            "       [0.46211747, 0.53788253],\n",
                            "       [0.46641604, 0.53358396],\n",
                            "       [0.45825766, 0.54174234],\n",
                            "       [0.46718733, 0.53281267],\n",
                            "       [0.45764227, 0.54235773],\n",
                            "       [0.45655869, 0.54344131],\n",
                            "       [0.4682744 , 0.5317256 ],\n",
                            "       [0.4662618 , 0.5337382 ],\n",
                            "       [0.47089866, 0.52910134],\n",
                            "       [0.45288213, 0.54711787],\n",
                            "       [0.44513875, 0.55486125],\n",
                            "       [0.46873738, 0.53126262],\n",
                            "       [0.45902706, 0.54097294],\n",
                            "       [0.46997226, 0.53002774],\n",
                            "       [0.45902102, 0.54097898],\n",
                            "       [0.46273373, 0.53726627],\n",
                            "       [0.45609741, 0.54390259],\n",
                            "       [0.45394578, 0.54605422],\n",
                            "       [0.46595334, 0.53404666],\n",
                            "       [0.46950914, 0.53049086],\n",
                            "       [0.45380369, 0.54619631],\n",
                            "       [0.45963669, 0.54036331],\n",
                            "       [0.45717385, 0.54282615],\n",
                            "       [0.46718733, 0.53281267],\n",
                            "       [0.45856925, 0.54143075],\n",
                            "       [0.46966351, 0.53033649],\n",
                            "       [0.46010843, 0.53989157],\n",
                            "       [0.45979063, 0.54020937],\n",
                            "       [0.45625116, 0.54374884],\n",
                            "       [0.46780448, 0.53219552],\n",
                            "       [0.44921987, 0.55078013],\n",
                            "       [0.46687879, 0.53312121],\n",
                            "       [0.46672454, 0.53327546],\n",
                            "       [0.44605739, 0.55394261],\n",
                            "       [0.46812008, 0.53187992],\n",
                            "       [0.46381248, 0.53618752],\n",
                            "       [0.46950914, 0.53049086],\n",
                            "       [0.45871324, 0.54128676],\n",
                            "       [0.46997226, 0.53002774],\n",
                            "       [0.46873738, 0.53126262],\n",
                            "       [0.45609138, 0.54390862],\n",
                            "       [0.46026936, 0.53973064],\n",
                            "       [0.44857511, 0.55142489],\n",
                            "       [0.46319601, 0.53680399],\n",
                            "       [0.46966351, 0.53033649],\n",
                            "       [0.45933874, 0.54066126],\n",
                            "       [0.46487393, 0.53512607],\n",
                            "       [0.46335012, 0.53664988],\n",
                            "       [0.46787803, 0.53212197],\n",
                            "       [0.47012665, 0.52987335],\n",
                            "       [0.46412075, 0.53587925],\n",
                            "       [0.45678578, 0.54321422],\n",
                            "       [0.45964273, 0.54035727],\n",
                            "       [0.45640492, 0.54359508],\n",
                            "       [0.46057033, 0.53942967],\n",
                            "       [0.44592882, 0.55407118],\n",
                            "       [0.4651823 , 0.5348177 ],\n",
                            "       [0.46858305, 0.53141695],\n",
                            "       [0.4585654 , 0.5414346 ],\n",
                            "       [0.46950914, 0.53049086],\n",
                            "       [0.4581038 , 0.5418962 ],\n",
                            "       [0.46026239, 0.53973761],\n",
                            "       [0.46920042, 0.53079958],\n",
                            "       [0.45318928, 0.54681072],\n",
                            "       [0.45693956, 0.54306044],\n",
                            "       [0.44872842, 0.55127158],\n",
                            "       [0.45667769, 0.54332231],\n",
                            "       [0.46086839, 0.53913161],\n",
                            "       [0.45640492, 0.54359508],\n",
                            "       [0.45841152, 0.54158848],\n",
                            "       [0.46873738, 0.53126262],\n",
                            "       [0.45110619, 0.54889381],\n",
                            "       [0.45456036, 0.54543964],\n",
                            "       [0.4505134 , 0.5494866 ],\n",
                            "       [0.46595334, 0.53404666],\n",
                            "       [0.46610756, 0.53389244],\n",
                            "       [0.45609741, 0.54390259],\n",
                            "       [0.44873226, 0.55126774],\n",
                            "       [0.45760051, 0.54239949],\n",
                            "       [0.47120751, 0.52879249],\n",
                            "       [0.45256349, 0.54743651],\n",
                            "       [0.46350423, 0.53649577],\n",
                            "       [0.45270021, 0.54729979],\n",
                            "       [0.46335012, 0.53664988],\n",
                            "       [0.45125965, 0.54874035],\n",
                            "       [0.4474151 , 0.5525849 ],\n",
                            "       [0.4642749 , 0.5357251 ],\n",
                            "       [0.46765718, 0.53234282],\n",
                            "       [0.45009109, 0.54990891],\n",
                            "       [0.46966351, 0.53033649],\n",
                            "       [0.45563017, 0.54436983],\n",
                            "       [0.46657028, 0.53342972],\n",
                            "       [0.46873738, 0.53126262],\n",
                            "       [0.46834097, 0.53165903],\n",
                            "       [0.45363854, 0.54636146],\n",
                            "       [0.45794995, 0.54205005],\n",
                            "       [0.46610756, 0.53389244],\n",
                            "       [0.4548677 , 0.5451323 ],\n",
                            "       [0.46178092, 0.53821908],\n",
                            "       [0.45718082, 0.54281918],\n",
                            "       [0.46249205, 0.53750795],\n",
                            "       [0.4662618 , 0.5337382 ],\n",
                            "       [0.46950914, 0.53049086],\n",
                            "       [0.46310838, 0.53689162],\n",
                            "       [0.46772374, 0.53227626],\n",
                            "       [0.46641604, 0.53358396],\n",
                            "       [0.46772374, 0.53227626],\n",
                            "       [0.45933488, 0.54066512],\n",
                            "       [0.44980569, 0.55019431],\n",
                            "       [0.46781147, 0.53218853],\n",
                            "       [0.46641604, 0.53358396],\n",
                            "       [0.46842872, 0.53157128],\n",
                            "       [0.46741515, 0.53258485],\n",
                            "       [0.45625116, 0.54374884],\n",
                            "       [0.46966351, 0.53033649],\n",
                            "       [0.46796577, 0.53203423],\n",
                            "       [0.46657028, 0.53342972],\n",
                            "       [0.49061255, 0.50938745],\n",
                            "       [0.49881971, 0.50118029],\n",
                            "       [0.48657528, 0.51342472],\n",
                            "       [0.4891267 , 0.5108733 ],\n",
                            "       [0.48642045, 0.51357955],\n",
                            "       [0.49835489, 0.50164511],\n",
                            "       [0.49617875, 0.50382125],\n",
                            "       [0.50036913, 0.49963087],\n",
                            "       [0.49757317, 0.50242683],\n",
                            "       [0.4999043 , 0.5000957 ],\n",
                            "       [0.49387256, 0.50612744],\n",
                            "       [0.49997114, 0.50002886],\n",
                            "       [0.49347463, 0.50652537],\n",
                            "       [0.49741823, 0.50258177],\n",
                            "       [0.50021418, 0.49978582],\n",
                            "       [0.49555902, 0.50444098],\n",
                            "       [0.48580116, 0.51419884],\n",
                            "       [0.48983814, 0.51016186],\n",
                            "       [0.49904149, 0.50095851],\n",
                            "       [0.48742327, 0.51257673],\n",
                            "       [0.49710836, 0.50289164],\n",
                            "       [0.49656247, 0.50343753],\n",
                            "       [0.49030278, 0.50969722],\n",
                            "       [0.50129878, 0.49870122],\n",
                            "       [0.48951842, 0.51048158],\n",
                            "       [0.48502103, 0.51497897],\n",
                            "       [0.49928453, 0.50071547],\n",
                            "       [0.49648861, 0.50351139],\n",
                            "       [0.50098889, 0.49901111],\n",
                            "       [0.48054375, 0.51945625],\n",
                            "       [0.49232343, 0.50767657],\n",
                            "       [0.48951842, 0.51048158],\n",
                            "       [0.49741823, 0.50258177],\n",
                            "       [0.48927827, 0.51072173],\n",
                            "       [0.50098889, 0.49901111],\n",
                            "       [0.48695875, 0.51304125],\n",
                            "       [0.50036913, 0.49963087],\n",
                            "       [0.49974936, 0.50025064],\n",
                            "       [0.48456271, 0.51543729],\n",
                            "       [0.50052407, 0.49947593],\n",
                            "       [0.49123211, 0.50876789],\n",
                            "       [0.49912959, 0.50087041],\n",
                            "       [0.49819995, 0.50180005],\n",
                            "       [0.49881971, 0.50118029],\n",
                            "       [0.48983814, 0.51016186],\n",
                            "       [0.49758019, 0.50241981],\n",
                            "       [0.49935137, 0.50064863],\n",
                            "       [0.49633368, 0.50366632],\n",
                            "       [0.50021418, 0.49978582],\n",
                            "       [0.49602381, 0.50397619],\n",
                            "       [0.4895245 , 0.5104755 ],\n",
                            "       [0.50052407, 0.49947593],\n",
                            "       [0.49107722, 0.50892278],\n",
                            "       [0.48734946, 0.51265054],\n",
                            "       [0.48998305, 0.51001695],\n",
                            "       [0.49509035, 0.50490965],\n",
                            "       [0.48850724, 0.51149276],\n",
                            "       [0.49757317, 0.50242683],\n",
                            "       [0.49850281, 0.50149719],\n",
                            "       [0.49014401, 0.50985599],\n",
                            "       [0.49216853, 0.50783147],\n",
                            "       [0.49679848, 0.50320152],\n",
                            "       [0.47961169, 0.52038831],\n",
                            "       [0.49045766, 0.50954234],\n",
                            "       [0.49617875, 0.50382125],\n",
                            "       [0.49664355, 0.50335645],\n",
                            "       [0.49633368, 0.50366632],\n",
                            "       [0.50067901, 0.49932099],\n",
                            "       [0.48859529, 0.51140471],\n",
                            "       [0.49254516, 0.50745484],\n",
                            "       [0.50052407, 0.49947593],\n",
                            "       [0.50005924, 0.49994076],\n",
                            "       [0.50052407, 0.49947593],\n",
                            "       [0.48689196, 0.51310804],\n",
                            "       [0.49897465, 0.50102535],\n",
                            "       [0.49130595, 0.50869405],\n",
                            "       [0.49340781, 0.50659219],\n",
                            "       [0.49045766, 0.50954234],\n",
                            "       [0.48859529, 0.51140471],\n",
                            "       [0.48641437, 0.51358563],\n",
                            "       [0.49726329, 0.50273671],\n",
                            "       [0.48905989, 0.51094011],\n",
                            "       [0.50067901, 0.49932099],\n",
                            "       [0.4544067 , 0.5455933 ],\n",
                            "       [0.46657028, 0.53342972],\n",
                            "       [0.46687879, 0.53312121]])"
                        ]
                    },
                    "execution_count": 76,
                    "metadata": {},
                    "output_type": "execute_result"
                }
            ],
            "source": [
                "yhat_LR_prob = LR.predict_proba(X)\n",
                "yhat_LR_prob"
            ]
        },
        {
            "cell_type": "markdown",
            "metadata": {},
            "source": [
                "# Model Evaluation using Test set\n"
            ]
        },
        {
            "cell_type": "code",
            "execution_count": 77,
            "metadata": {},
            "outputs": [],
            "source": [
                "from sklearn.metrics import jaccard_score\n",
                "from sklearn.metrics import f1_score\n",
                "from sklearn.metrics import log_loss"
            ]
        },
        {
            "cell_type": "markdown",
            "metadata": {},
            "source": [
                "First, download and load the test set:\n"
            ]
        },
        {
            "cell_type": "code",
            "execution_count": 78,
            "metadata": {
                "vscode": {
                    "languageId": "powershell"
                }
            },
            "outputs": [
                {
                    "name": "stderr",
                    "output_type": "stream",
                    "text": [
                        "'wget' ���O�����Υ~���R�O�B�i���檺�{���Χ妸�ɡC\n"
                    ]
                }
            ],
            "source": [
                "!wget -O loan_test.csv https://s3-api.us-geo.objectstorage.softlayer.net/cf-courses-data/CognitiveClass/ML0101ENv3/labs/loan_test.csv"
            ]
        },
        {
            "cell_type": "markdown",
            "metadata": {
                "button": false,
                "new_sheet": false,
                "run_control": {
                    "read_only": false
                }
            },
            "source": [
                "### Load Test set for evaluation\n"
            ]
        },
        {
            "cell_type": "code",
            "execution_count": 79,
            "metadata": {
                "button": false,
                "new_sheet": false,
                "run_control": {
                    "read_only": false
                }
            },
            "outputs": [
                {
                    "data": {
                        "text/html": [
                            "<div>\n",
                            "<style scoped>\n",
                            "    .dataframe tbody tr th:only-of-type {\n",
                            "        vertical-align: middle;\n",
                            "    }\n",
                            "\n",
                            "    .dataframe tbody tr th {\n",
                            "        vertical-align: top;\n",
                            "    }\n",
                            "\n",
                            "    .dataframe thead th {\n",
                            "        text-align: right;\n",
                            "    }\n",
                            "</style>\n",
                            "<table border=\"1\" class=\"dataframe\">\n",
                            "  <thead>\n",
                            "    <tr style=\"text-align: right;\">\n",
                            "      <th></th>\n",
                            "      <th>Unnamed: 0.1</th>\n",
                            "      <th>Unnamed: 0</th>\n",
                            "      <th>loan_status</th>\n",
                            "      <th>Principal</th>\n",
                            "      <th>terms</th>\n",
                            "      <th>effective_date</th>\n",
                            "      <th>due_date</th>\n",
                            "      <th>age</th>\n",
                            "      <th>education</th>\n",
                            "      <th>Gender</th>\n",
                            "    </tr>\n",
                            "  </thead>\n",
                            "  <tbody>\n",
                            "    <tr>\n",
                            "      <th>0</th>\n",
                            "      <td>1</td>\n",
                            "      <td>1</td>\n",
                            "      <td>PAIDOFF</td>\n",
                            "      <td>1000</td>\n",
                            "      <td>30</td>\n",
                            "      <td>9/8/2016</td>\n",
                            "      <td>10/7/2016</td>\n",
                            "      <td>50</td>\n",
                            "      <td>Bechalor</td>\n",
                            "      <td>female</td>\n",
                            "    </tr>\n",
                            "    <tr>\n",
                            "      <th>1</th>\n",
                            "      <td>5</td>\n",
                            "      <td>5</td>\n",
                            "      <td>PAIDOFF</td>\n",
                            "      <td>300</td>\n",
                            "      <td>7</td>\n",
                            "      <td>9/9/2016</td>\n",
                            "      <td>9/15/2016</td>\n",
                            "      <td>35</td>\n",
                            "      <td>Master or Above</td>\n",
                            "      <td>male</td>\n",
                            "    </tr>\n",
                            "    <tr>\n",
                            "      <th>2</th>\n",
                            "      <td>21</td>\n",
                            "      <td>21</td>\n",
                            "      <td>PAIDOFF</td>\n",
                            "      <td>1000</td>\n",
                            "      <td>30</td>\n",
                            "      <td>9/10/2016</td>\n",
                            "      <td>10/9/2016</td>\n",
                            "      <td>43</td>\n",
                            "      <td>High School or Below</td>\n",
                            "      <td>female</td>\n",
                            "    </tr>\n",
                            "    <tr>\n",
                            "      <th>3</th>\n",
                            "      <td>24</td>\n",
                            "      <td>24</td>\n",
                            "      <td>PAIDOFF</td>\n",
                            "      <td>1000</td>\n",
                            "      <td>30</td>\n",
                            "      <td>9/10/2016</td>\n",
                            "      <td>10/9/2016</td>\n",
                            "      <td>26</td>\n",
                            "      <td>college</td>\n",
                            "      <td>male</td>\n",
                            "    </tr>\n",
                            "    <tr>\n",
                            "      <th>4</th>\n",
                            "      <td>35</td>\n",
                            "      <td>35</td>\n",
                            "      <td>PAIDOFF</td>\n",
                            "      <td>800</td>\n",
                            "      <td>15</td>\n",
                            "      <td>9/11/2016</td>\n",
                            "      <td>9/25/2016</td>\n",
                            "      <td>29</td>\n",
                            "      <td>Bechalor</td>\n",
                            "      <td>male</td>\n",
                            "    </tr>\n",
                            "  </tbody>\n",
                            "</table>\n",
                            "</div>"
                        ],
                        "text/plain": [
                            "   Unnamed: 0.1  Unnamed: 0 loan_status  Principal  terms effective_date  \\\n",
                            "0             1           1     PAIDOFF       1000     30       9/8/2016   \n",
                            "1             5           5     PAIDOFF        300      7       9/9/2016   \n",
                            "2            21          21     PAIDOFF       1000     30      9/10/2016   \n",
                            "3            24          24     PAIDOFF       1000     30      9/10/2016   \n",
                            "4            35          35     PAIDOFF        800     15      9/11/2016   \n",
                            "\n",
                            "    due_date  age             education  Gender  \n",
                            "0  10/7/2016   50              Bechalor  female  \n",
                            "1  9/15/2016   35       Master or Above    male  \n",
                            "2  10/9/2016   43  High School or Below  female  \n",
                            "3  10/9/2016   26               college    male  \n",
                            "4  9/25/2016   29              Bechalor    male  "
                        ]
                    },
                    "execution_count": 79,
                    "metadata": {},
                    "output_type": "execute_result"
                }
            ],
            "source": [
                "test_df = pd.read_csv('loan_test.csv')\n",
                "test_df.head()"
            ]
        },
        {
            "cell_type": "code",
            "execution_count": 80,
            "metadata": {},
            "outputs": [
                {
                    "name": "stdout",
                    "output_type": "stream",
                    "text": [
                        "Jascard Score for Logistic Regression:  0.7409638554216867\n",
                        "Confusion matrix for Logistic Regression  \n",
                        " [[246  14]\n",
                        " [ 72  14]]\n",
                        "Confusion matrix, without normalization\n",
                        "[[246  14]\n",
                        " [ 72  14]]\n"
                    ]
                },
                {
                    "data": {
                        "image/png": "[encoded data removed]",
                        "text/plain": [
                            "<Figure size 432x288 with 2 Axes>"
                        ]
                    },
                    "metadata": {
                        "needs_background": "light"
                    },
                    "output_type": "display_data"
                }
            ],
            "source": [
                "from sklearn.metrics import jaccard_score\n",
                "LR_JS = jaccard_score(y, yhat_LR,pos_label=1)\n",
                "print(\"Jascard Score for Logistic Regression: \", LR_JS)\n",
                "\n",
                "from sklearn.metrics import classification_report, confusion_matrix\n",
                "import itertools\n",
                "def plot_confusion_matrix(cm, classes,\n",
                "                          normalize=True,\n",
                "                          title='Confusion matrix',\n",
                "                          cmap=plt.cm.Blues):\n",
                "    \"\"\"\n",
                "    This function prints and plots the confusion matrix.\n",
                "    Normalization can be applied by setting `normalize=True`.\n",
                "    \"\"\"\n",
                "    if normalize:\n",
                "        cm = cm.astype('float') / cm.sum(axis=1)[:, np.newaxis]\n",
                "        print(\"Normalized confusion matrix\")\n",
                "    else:\n",
                "        print('Confusion matrix, without normalization')\n",
                "\n",
                "    print(cm)\n",
                "\n",
                "    plt.imshow(cm, interpolation='nearest', cmap=cmap)\n",
                "    plt.title(title)\n",
                "    plt.colorbar()\n",
                "    tick_marks = np.arange(len(classes))\n",
                "    plt.xticks(tick_marks, classes, rotation=45)\n",
                "    plt.yticks(tick_marks, classes)\n",
                "\n",
                "    fmt = '.2f' if normalize else 'd'\n",
                "    thresh = cm.max() / 2.\n",
                "    for i, j in itertools.product(range(cm.shape[0]), range(cm.shape[1])):\n",
                "        plt.text(j, i, format(cm[i, j], fmt),\n",
                "                 horizontalalignment=\"center\",\n",
                "                 color=\"white\" if cm[i, j] > thresh else \"black\")\n",
                "\n",
                "    plt.tight_layout()\n",
                "    plt.ylabel('True label')\n",
                "    plt.xlabel('Predicted label')\n",
                "print(\"Confusion matrix for Logistic Regression \", \"\\n\", confusion_matrix(y, yhat_LR, labels=[1, 0]))\n",
                "\n",
                "# Compute confusion matrix\n",
                "cnf_matrix = confusion_matrix(y, yhat_LR, labels=[1,0])\n",
                "# Plot non-normalized confusion matrix\n",
                "plt.figure()\n",
                "plot_confusion_matrix(cnf_matrix, classes=['paidoff=1','collection=0'],normalize= False,  title='Confusion matrix for Logistic Regression')"
            ]
        },
        {
            "cell_type": "code",
            "execution_count": 81,
            "metadata": {},
            "outputs": [
                {
                    "name": "stdout",
                    "output_type": "stream",
                    "text": [
                        "              precision    recall  f1-score   support\n",
                        "\n",
                        "           0       0.50      0.16      0.25        86\n",
                        "           1       0.77      0.95      0.85       260\n",
                        "\n",
                        "    accuracy                           0.75       346\n",
                        "   macro avg       0.64      0.55      0.55       346\n",
                        "weighted avg       0.71      0.75      0.70       346\n",
                        "\n"
                    ]
                }
            ],
            "source": [
                "print (classification_report(y , yhat_LR))"
            ]
        },
        {
            "cell_type": "code",
            "execution_count": null,
            "metadata": {},
            "outputs": [],
            "source": []
        },
        {
            "cell_type": "code",
            "execution_count": null,
            "metadata": {},
            "outputs": [],
            "source": []
        },
        {
            "cell_type": "markdown",
            "metadata": {},
            "source": [
                "# Report\n",
                "\n",
                "You should be able to report the accuracy of the built model using different evaluation metrics:\n"
            ]
        },
        {
            "cell_type": "markdown",
            "metadata": {},
            "source": [
                "| Algorithm          | Jaccard | F1-score | LogLoss |\n",
                "| ------------------ | ------- | -------- | ------- |\n",
                "| KNN                | ?       | ?        | NA      |\n",
                "| Decision Tree      | ?       | ?        | NA      |\n",
                "| SVM                | ?       | ?        | NA      |\n",
                "| LogisticRegression | ?       | ?        | ?       |\n"
            ]
        },
        {
            "cell_type": "markdown",
            "metadata": {
                "button": false,
                "new_sheet": false,
                "run_control": {
                    "read_only": false
                }
            },
            "source": [
                "<h2>Want to learn more?</h2>\n",
                "\n",
                "IBM SPSS Modeler is a comprehensive analytics platform that has many machine learning algorithms. It has been designed to bring predictive intelligence to decisions made by individuals, by groups, by systems – by your enterprise as a whole. A free trial is available through this course, available here: <a href=\"http://cocl.us/ML0101EN-SPSSModeler?utm_medium=Exinfluencer&utm_source=Exinfluencer&utm_content=000026UJ&utm_term=10006555&utm_id=NA-SkillsNetwork-Channel-SkillsNetworkCoursesIBMDeveloperSkillsNetworkML0101ENSkillsNetwork20718538-2022-01-01\">SPSS Modeler</a>\n",
                "\n",
                "Also, you can use Watson Studio to run these notebooks faster with bigger datasets. Watson Studio is IBM's leading cloud solution for data scientists, built by data scientists. With Jupyter notebooks, RStudio, Apache Spark and popular libraries pre-packaged in the cloud, Watson Studio enables data scientists to collaborate on their projects without having to install anything. Join the fast-growing community of Watson Studio users today with a free account at <a href=\"https://cocl.us/ML0101EN_DSX?utm_medium=Exinfluencer&utm_source=Exinfluencer&utm_content=000026UJ&utm_term=10006555&utm_id=NA-SkillsNetwork-Channel-SkillsNetworkCoursesIBMDeveloperSkillsNetworkML0101ENSkillsNetwork20718538-2022-01-01\">Watson Studio</a>\n",
                "\n",
                "<h3>Thanks for completing this lesson!</h3>\n",
                "\n",
                "<h4>Author:  <a href=\"https://ca.linkedin.com/in/saeedaghabozorgi?utm_medium=Exinfluencer&utm_source=Exinfluencer&utm_content=000026UJ&utm_term=10006555&utm_id=NA-SkillsNetwork-Channel-SkillsNetworkCoursesIBMDeveloperSkillsNetworkML0101ENSkillsNetwork20718538-2022-01-01?utm_medium=Exinfluencer&utm_source=Exinfluencer&utm_content=000026UJ&utm_term=10006555&utm_id=NA-SkillsNetwork-Channel-SkillsNetworkCoursesIBMDeveloperSkillsNetworkML0101ENSkillsNetwork20718538-2022-01-01\">Saeed Aghabozorgi</a></h4>\n",
                "<p><a href=\"https://ca.linkedin.com/in/saeedaghabozorgi\">Saeed Aghabozorgi</a>, PhD is a Data Scientist in IBM with a track record of developing enterprise level applications that substantially increases clients’ ability to turn data into actionable knowledge. He is a researcher in data mining field and expert in developing advanced analytic methods like machine learning and statistical modelling on large datasets.</p>\n",
                "\n",
                "<hr>\n",
                "\n",
                "## Change Log\n",
                "\n",
                "| Date (YYYY-MM-DD) | Version | Changed By    | Change Description                                                             |\n",
                "| ----------------- | ------- | ------------- | ------------------------------------------------------------------------------ |\n",
                "| 2020-10-27        | 2.1     | Lakshmi Holla | Made changes in import statement due to updates in version of  sklearn library |\n",
                "| 2020-08-27        | 2.0     | Malika Singla | Added lab to GitLab                                                            |\n",
                "\n",
                "<hr>\n",
                "\n",
                "## <h3 align=\"center\"> © IBM Corporation 2020. All rights reserved. <h3/>\n",
                "\n",
                "<p>\n"
            ]
        }
    ],
    "metadata": {
        "kernelspec": {
            "display_name": "Python 3.10.5 64-bit",
            "language": "python",
            "name": "python3"
        },
        "language_info": {
            "codemirror_mode": {
                "name": "ipython",
                "version": 3
            },
            "file_extension": ".py",
            "mimetype": "text/x-python",
            "name": "python",
            "nbconvert_exporter": "python",
            "pygments_lexer": "ipython3",
            "version": "3.10.5"
        },
        "vscode": {
            "interpreter": {
                "hash": "b2943380585d3ab4282a0037c10de2f77c3475033d1c2131b82f758ab2610fbf"
            }
        }
    },
    "nbformat": 4,
    "nbformat_minor": 2
}
