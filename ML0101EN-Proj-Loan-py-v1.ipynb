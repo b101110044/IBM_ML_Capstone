{
    "cells": [
        {
            "cell_type": "markdown",
            "metadata": {
                "button": false,
                "new_sheet": false,
                "run_control": {
                    "read_only": false
                }
            },
            "source": [
                "<p style=\"text-align:center\">\n",
                "    <a href=\"https://skills.network/?utm_medium=Exinfluencer&utm_source=Exinfluencer&utm_content=000026UJ&utm_term=10006555&utm_id=NA-SkillsNetwork-Channel-SkillsNetworkCoursesIBMDeveloperSkillsNetworkML0101ENSkillsNetwork20718538-2022-01-01\" target=\"_blank\">\n",
                "    <img src=\"https://cf-courses-data.s3.us.cloud-object-storage.appdomain.cloud/assets/logos/SN_web_lightmode.png\" width=\"200\" alt=\"Skills Network Logo\"  />\n",
                "    </a>\n",
                "</p>\n",
                "\n",
                "<h1 align=\"center\"><font size=\"5\">Classification with Python</font></h1>\n"
            ]
        },
        {
            "cell_type": "markdown",
            "metadata": {
                "button": false,
                "new_sheet": false,
                "run_control": {
                    "read_only": false
                }
            },
            "source": [
                "In this notebook we try to practice all the classification algorithms that we have learned in this course.\n",
                "\n",
                "We load a dataset using Pandas library, and apply the following algorithms, and find the best one for this specific dataset by accuracy evaluation methods.\n",
                "\n",
                "Let's first load required libraries:\n"
            ]
        },
        {
            "cell_type": "code",
            "execution_count": 2,
            "metadata": {
                "button": false,
                "new_sheet": false,
                "run_control": {
                    "read_only": false
                }
            },
            "outputs": [],
            "source": [
                "import itertools\n",
                "import scipy.optimize as opt\n",
                "import numpy as np\n",
                "import matplotlib.pyplot as plt\n",
                "import matplotlib.pyplot as plt\n",
                "from matplotlib.ticker import NullFormatter\n",
                "import pandas as pd\n",
                "import pylab as pl\n",
                "import numpy as np\n",
                "import matplotlib.ticker as ticker\n",
                "from sklearn import preprocessing\n",
                "%matplotlib inline"
            ]
        },
        {
            "cell_type": "markdown",
            "metadata": {
                "button": false,
                "new_sheet": false,
                "run_control": {
                    "read_only": false
                }
            },
            "source": [
                "### About dataset\n"
            ]
        },
        {
            "cell_type": "markdown",
            "metadata": {
                "button": false,
                "new_sheet": false,
                "run_control": {
                    "read_only": false
                }
            },
            "source": [
                "This dataset is about past loans. The **Loan_train.csv** data set includes details of 346 customers whose loan are already paid off or defaulted. It includes following fields:\n",
                "\n",
                "| Field          | Description                                                                           |\n",
                "| -------------- | ------------------------------------------------------------------------------------- |\n",
                "| Loan_status    | Whether a loan is paid off on in collection                                           |\n",
                "| Principal      | Basic principal loan amount at the                                                    |\n",
                "| Terms          | Origination terms which can be weekly (7 days), biweekly, and monthly payoff schedule |\n",
                "| Effective_date | When the loan got originated and took effects                                         |\n",
                "| Due_date       | Since it’s one-time payoff schedule, each loan has one single due date                |\n",
                "| Age            | Age of applicant                                                                      |\n",
                "| Education      | Education of applicant                                                                |\n",
                "| Gender         | The gender of applicant                                                               |\n"
            ]
        },
        {
            "cell_type": "markdown",
            "metadata": {
                "button": false,
                "new_sheet": false,
                "run_control": {
                    "read_only": false
                }
            },
            "source": [
                "Let's download the dataset\n"
            ]
        },
        {
            "cell_type": "code",
            "execution_count": 3,
            "metadata": {
                "button": false,
                "new_sheet": false,
                "run_control": {
                    "read_only": false
                },
                "vscode": {
                    "languageId": "powershell"
                }
            },
            "outputs": [
                {
                    "name": "stderr",
                    "output_type": "stream",
                    "text": [
                        "'wget' ���O�����Υ~���R�O�B�i���檺�{���Χ妸�ɡC\n"
                    ]
                }
            ],
            "source": [
                "!wget -O loan_train.csv https://cf-courses-data.s3.us.cloud-object-storage.appdomain.cloud/IBMDeveloperSkillsNetwork-ML0101EN-SkillsNetwork/labs/FinalModule_Coursera/data/loan_train.csv"
            ]
        },
        {
            "cell_type": "markdown",
            "metadata": {
                "button": false,
                "new_sheet": false,
                "run_control": {
                    "read_only": false
                }
            },
            "source": [
                "### Load Data From CSV File\n"
            ]
        },
        {
            "cell_type": "code",
            "execution_count": 4,
            "metadata": {
                "button": false,
                "new_sheet": false,
                "run_control": {
                    "read_only": false
                }
            },
            "outputs": [
                {
                    "data": {
                        "text/html": [
                            "<div>\n",
                            "<style scoped>\n",
                            "    .dataframe tbody tr th:only-of-type {\n",
                            "        vertical-align: middle;\n",
                            "    }\n",
                            "\n",
                            "    .dataframe tbody tr th {\n",
                            "        vertical-align: top;\n",
                            "    }\n",
                            "\n",
                            "    .dataframe thead th {\n",
                            "        text-align: right;\n",
                            "    }\n",
                            "</style>\n",
                            "<table border=\"1\" class=\"dataframe\">\n",
                            "  <thead>\n",
                            "    <tr style=\"text-align: right;\">\n",
                            "      <th></th>\n",
                            "      <th>Unnamed: 0.1</th>\n",
                            "      <th>Unnamed: 0</th>\n",
                            "      <th>loan_status</th>\n",
                            "      <th>Principal</th>\n",
                            "      <th>terms</th>\n",
                            "      <th>effective_date</th>\n",
                            "      <th>due_date</th>\n",
                            "      <th>age</th>\n",
                            "      <th>education</th>\n",
                            "      <th>Gender</th>\n",
                            "    </tr>\n",
                            "  </thead>\n",
                            "  <tbody>\n",
                            "    <tr>\n",
                            "      <th>0</th>\n",
                            "      <td>0</td>\n",
                            "      <td>0</td>\n",
                            "      <td>PAIDOFF</td>\n",
                            "      <td>1000</td>\n",
                            "      <td>30</td>\n",
                            "      <td>9/8/2016</td>\n",
                            "      <td>10/7/2016</td>\n",
                            "      <td>45</td>\n",
                            "      <td>High School or Below</td>\n",
                            "      <td>male</td>\n",
                            "    </tr>\n",
                            "    <tr>\n",
                            "      <th>1</th>\n",
                            "      <td>2</td>\n",
                            "      <td>2</td>\n",
                            "      <td>PAIDOFF</td>\n",
                            "      <td>1000</td>\n",
                            "      <td>30</td>\n",
                            "      <td>9/8/2016</td>\n",
                            "      <td>10/7/2016</td>\n",
                            "      <td>33</td>\n",
                            "      <td>Bechalor</td>\n",
                            "      <td>female</td>\n",
                            "    </tr>\n",
                            "    <tr>\n",
                            "      <th>2</th>\n",
                            "      <td>3</td>\n",
                            "      <td>3</td>\n",
                            "      <td>PAIDOFF</td>\n",
                            "      <td>1000</td>\n",
                            "      <td>15</td>\n",
                            "      <td>9/8/2016</td>\n",
                            "      <td>9/22/2016</td>\n",
                            "      <td>27</td>\n",
                            "      <td>college</td>\n",
                            "      <td>male</td>\n",
                            "    </tr>\n",
                            "    <tr>\n",
                            "      <th>3</th>\n",
                            "      <td>4</td>\n",
                            "      <td>4</td>\n",
                            "      <td>PAIDOFF</td>\n",
                            "      <td>1000</td>\n",
                            "      <td>30</td>\n",
                            "      <td>9/9/2016</td>\n",
                            "      <td>10/8/2016</td>\n",
                            "      <td>28</td>\n",
                            "      <td>college</td>\n",
                            "      <td>female</td>\n",
                            "    </tr>\n",
                            "    <tr>\n",
                            "      <th>4</th>\n",
                            "      <td>6</td>\n",
                            "      <td>6</td>\n",
                            "      <td>PAIDOFF</td>\n",
                            "      <td>1000</td>\n",
                            "      <td>30</td>\n",
                            "      <td>9/9/2016</td>\n",
                            "      <td>10/8/2016</td>\n",
                            "      <td>29</td>\n",
                            "      <td>college</td>\n",
                            "      <td>male</td>\n",
                            "    </tr>\n",
                            "  </tbody>\n",
                            "</table>\n",
                            "</div>"
                        ],
                        "text/plain": [
                            "   Unnamed: 0.1  Unnamed: 0 loan_status  Principal  terms effective_date  \\\n",
                            "0             0           0     PAIDOFF       1000     30       9/8/2016   \n",
                            "1             2           2     PAIDOFF       1000     30       9/8/2016   \n",
                            "2             3           3     PAIDOFF       1000     15       9/8/2016   \n",
                            "3             4           4     PAIDOFF       1000     30       9/9/2016   \n",
                            "4             6           6     PAIDOFF       1000     30       9/9/2016   \n",
                            "\n",
                            "    due_date  age             education  Gender  \n",
                            "0  10/7/2016   45  High School or Below    male  \n",
                            "1  10/7/2016   33              Bechalor  female  \n",
                            "2  9/22/2016   27               college    male  \n",
                            "3  10/8/2016   28               college  female  \n",
                            "4  10/8/2016   29               college    male  "
                        ]
                    },
                    "execution_count": 4,
                    "metadata": {},
                    "output_type": "execute_result"
                }
            ],
            "source": [
                "df = pd.read_csv('loan_train.csv')\n",
                "df.head()"
            ]
        },
        {
            "cell_type": "code",
            "execution_count": 5,
            "metadata": {},
            "outputs": [
                {
                    "data": {
                        "text/plain": [
                            "(346, 10)"
                        ]
                    },
                    "execution_count": 5,
                    "metadata": {},
                    "output_type": "execute_result"
                }
            ],
            "source": [
                "df.shape"
            ]
        },
        {
            "cell_type": "markdown",
            "metadata": {
                "button": false,
                "new_sheet": false,
                "run_control": {
                    "read_only": false
                }
            },
            "source": [
                "### Convert to date time object\n"
            ]
        },
        {
            "cell_type": "code",
            "execution_count": 6,
            "metadata": {
                "button": false,
                "new_sheet": false,
                "run_control": {
                    "read_only": false
                }
            },
            "outputs": [
                {
                    "data": {
                        "text/html": [
                            "<div>\n",
                            "<style scoped>\n",
                            "    .dataframe tbody tr th:only-of-type {\n",
                            "        vertical-align: middle;\n",
                            "    }\n",
                            "\n",
                            "    .dataframe tbody tr th {\n",
                            "        vertical-align: top;\n",
                            "    }\n",
                            "\n",
                            "    .dataframe thead th {\n",
                            "        text-align: right;\n",
                            "    }\n",
                            "</style>\n",
                            "<table border=\"1\" class=\"dataframe\">\n",
                            "  <thead>\n",
                            "    <tr style=\"text-align: right;\">\n",
                            "      <th></th>\n",
                            "      <th>Unnamed: 0.1</th>\n",
                            "      <th>Unnamed: 0</th>\n",
                            "      <th>loan_status</th>\n",
                            "      <th>Principal</th>\n",
                            "      <th>terms</th>\n",
                            "      <th>effective_date</th>\n",
                            "      <th>due_date</th>\n",
                            "      <th>age</th>\n",
                            "      <th>education</th>\n",
                            "      <th>Gender</th>\n",
                            "    </tr>\n",
                            "  </thead>\n",
                            "  <tbody>\n",
                            "    <tr>\n",
                            "      <th>0</th>\n",
                            "      <td>0</td>\n",
                            "      <td>0</td>\n",
                            "      <td>PAIDOFF</td>\n",
                            "      <td>1000</td>\n",
                            "      <td>30</td>\n",
                            "      <td>2016-09-08</td>\n",
                            "      <td>2016-10-07</td>\n",
                            "      <td>45</td>\n",
                            "      <td>High School or Below</td>\n",
                            "      <td>male</td>\n",
                            "    </tr>\n",
                            "    <tr>\n",
                            "      <th>1</th>\n",
                            "      <td>2</td>\n",
                            "      <td>2</td>\n",
                            "      <td>PAIDOFF</td>\n",
                            "      <td>1000</td>\n",
                            "      <td>30</td>\n",
                            "      <td>2016-09-08</td>\n",
                            "      <td>2016-10-07</td>\n",
                            "      <td>33</td>\n",
                            "      <td>Bechalor</td>\n",
                            "      <td>female</td>\n",
                            "    </tr>\n",
                            "    <tr>\n",
                            "      <th>2</th>\n",
                            "      <td>3</td>\n",
                            "      <td>3</td>\n",
                            "      <td>PAIDOFF</td>\n",
                            "      <td>1000</td>\n",
                            "      <td>15</td>\n",
                            "      <td>2016-09-08</td>\n",
                            "      <td>2016-09-22</td>\n",
                            "      <td>27</td>\n",
                            "      <td>college</td>\n",
                            "      <td>male</td>\n",
                            "    </tr>\n",
                            "    <tr>\n",
                            "      <th>3</th>\n",
                            "      <td>4</td>\n",
                            "      <td>4</td>\n",
                            "      <td>PAIDOFF</td>\n",
                            "      <td>1000</td>\n",
                            "      <td>30</td>\n",
                            "      <td>2016-09-09</td>\n",
                            "      <td>2016-10-08</td>\n",
                            "      <td>28</td>\n",
                            "      <td>college</td>\n",
                            "      <td>female</td>\n",
                            "    </tr>\n",
                            "    <tr>\n",
                            "      <th>4</th>\n",
                            "      <td>6</td>\n",
                            "      <td>6</td>\n",
                            "      <td>PAIDOFF</td>\n",
                            "      <td>1000</td>\n",
                            "      <td>30</td>\n",
                            "      <td>2016-09-09</td>\n",
                            "      <td>2016-10-08</td>\n",
                            "      <td>29</td>\n",
                            "      <td>college</td>\n",
                            "      <td>male</td>\n",
                            "    </tr>\n",
                            "  </tbody>\n",
                            "</table>\n",
                            "</div>"
                        ],
                        "text/plain": [
                            "   Unnamed: 0.1  Unnamed: 0 loan_status  Principal  terms effective_date  \\\n",
                            "0             0           0     PAIDOFF       1000     30     2016-09-08   \n",
                            "1             2           2     PAIDOFF       1000     30     2016-09-08   \n",
                            "2             3           3     PAIDOFF       1000     15     2016-09-08   \n",
                            "3             4           4     PAIDOFF       1000     30     2016-09-09   \n",
                            "4             6           6     PAIDOFF       1000     30     2016-09-09   \n",
                            "\n",
                            "    due_date  age             education  Gender  \n",
                            "0 2016-10-07   45  High School or Below    male  \n",
                            "1 2016-10-07   33              Bechalor  female  \n",
                            "2 2016-09-22   27               college    male  \n",
                            "3 2016-10-08   28               college  female  \n",
                            "4 2016-10-08   29               college    male  "
                        ]
                    },
                    "execution_count": 6,
                    "metadata": {},
                    "output_type": "execute_result"
                }
            ],
            "source": [
                "df['due_date'] = pd.to_datetime(df['due_date']) #<----- pd.to_datetime\n",
                "df['effective_date'] = pd.to_datetime(df['effective_date'])\n",
                "df.head()"
            ]
        },
        {
            "cell_type": "markdown",
            "metadata": {
                "button": false,
                "new_sheet": false,
                "run_control": {
                    "read_only": false
                }
            },
            "source": [
                "# Data visualization and pre-processing\n"
            ]
        },
        {
            "cell_type": "markdown",
            "metadata": {
                "button": false,
                "new_sheet": false,
                "run_control": {
                    "read_only": false
                }
            },
            "source": [
                "Let’s see how many of each class is in our data set\n"
            ]
        },
        {
            "cell_type": "code",
            "execution_count": 7,
            "metadata": {
                "button": false,
                "new_sheet": false,
                "run_control": {
                    "read_only": false
                }
            },
            "outputs": [
                {
                    "data": {
                        "text/plain": [
                            "PAIDOFF       260\n",
                            "COLLECTION     86\n",
                            "Name: loan_status, dtype: int64"
                        ]
                    },
                    "execution_count": 7,
                    "metadata": {},
                    "output_type": "execute_result"
                }
            ],
            "source": [
                "df['loan_status'].value_counts() #<-----data_frame.value_counts()"
            ]
        },
        {
            "cell_type": "markdown",
            "metadata": {
                "button": false,
                "new_sheet": false,
                "run_control": {
                    "read_only": false
                }
            },
            "source": [
                "260 people have paid off the loan on time while 86 have gone into collection\n"
            ]
        },
        {
            "cell_type": "markdown",
            "metadata": {},
            "source": [
                "Let's plot some columns to underestand data better:\n"
            ]
        },
        {
            "cell_type": "code",
            "execution_count": 8,
            "metadata": {},
            "outputs": [
                {
                    "name": "stderr",
                    "output_type": "stream",
                    "text": [
                        "'conda' ���O�����Υ~���R�O�B�i���檺�{���Χ妸�ɡC\n"
                    ]
                }
            ],
            "source": [
                "# notice: installing seaborn might takes a few minutes\n",
                "!conda install -c anaconda seaborn -y"
            ]
        },
        {
            "cell_type": "code",
            "execution_count": 9,
            "metadata": {},
            "outputs": [
                {
                    "data": {
                        "image/png": "[encoded data removed]",
                        "text/plain": [
                            "<Figure size 432x216 with 2 Axes>"
                        ]
                    },
                    "metadata": {
                        "needs_background": "light"
                    },
                    "output_type": "display_data"
                }
            ],
            "source": [
                "import seaborn as sns\n",
                "\n",
                "bins = np.linspace(df.Principal.min(), df.Principal.max(), 10)\n",
                "g = sns.FacetGrid(df, col=\"Gender\", hue=\"loan_status\", palette=\"Set1\", col_wrap=2)\n",
                "g.map(plt.hist, 'Principal', bins=bins, ec=\"k\")\n",
                "\n",
                "g.axes[-1].legend()\n",
                "plt.show()"
            ]
        },
        {
            "cell_type": "code",
            "execution_count": 10,
            "metadata": {
                "button": false,
                "new_sheet": false,
                "run_control": {
                    "read_only": false
                }
            },
            "outputs": [
                {
                    "data": {
                        "image/png": "[encoded data removed]",
                        "text/plain": [
                            "<Figure size 432x216 with 2 Axes>"
                        ]
                    },
                    "metadata": {
                        "needs_background": "light"
                    },
                    "output_type": "display_data"
                }
            ],
            "source": [
                "bins = np.linspace(df.age.min(), df.age.max(), 10)\n",
                "g = sns.FacetGrid(df, col=\"Gender\", hue=\"loan_status\", palette=\"Set1\", col_wrap=2)\n",
                "g.map(plt.hist, 'age', bins=bins, ec=\"k\")\n",
                "\n",
                "g.axes[-1].legend()\n",
                "plt.show()"
            ]
        },
        {
            "cell_type": "markdown",
            "metadata": {
                "button": false,
                "new_sheet": false,
                "run_control": {
                    "read_only": false
                }
            },
            "source": [
                "# Pre-processing:  Feature selection/extraction\n"
            ]
        },
        {
            "cell_type": "markdown",
            "metadata": {
                "button": false,
                "new_sheet": false,
                "run_control": {
                    "read_only": false
                }
            },
            "source": [
                "### Let's look at the day of the week people get the loan\n"
            ]
        },
        {
            "cell_type": "code",
            "execution_count": 11,
            "metadata": {
                "button": false,
                "new_sheet": false,
                "run_control": {
                    "read_only": false
                }
            },
            "outputs": [
                {
                    "data": {
                        "image/png": "[encoded data removed]",
                        "text/plain": [
                            "<Figure size 432x216 with 2 Axes>"
                        ]
                    },
                    "metadata": {
                        "needs_background": "light"
                    },
                    "output_type": "display_data"
                }
            ],
            "source": [
                "df['dayofweek'] = df['effective_date'].dt.dayofweek\n",
                "bins = np.linspace(df.dayofweek.min(), df.dayofweek.max(), 10)\n",
                "g = sns.FacetGrid(df, col=\"Gender\", hue=\"loan_status\", palette=\"Set1\", col_wrap=2)\n",
                "g.map(plt.hist, 'dayofweek', bins=bins, ec=\"k\")\n",
                "g.axes[-1].legend()\n",
                "plt.show()\n"
            ]
        },
        {
            "cell_type": "markdown",
            "metadata": {
                "button": false,
                "new_sheet": false,
                "run_control": {
                    "read_only": false
                }
            },
            "source": [
                "We see that people who get the loan at the end of the week don't pay it off, so let's use Feature binarization to set a threshold value less than day 4\n"
            ]
        },
        {
            "cell_type": "code",
            "execution_count": 12,
            "metadata": {
                "button": false,
                "new_sheet": false,
                "run_control": {
                    "read_only": false
                }
            },
            "outputs": [
                {
                    "data": {
                        "text/html": [
                            "<div>\n",
                            "<style scoped>\n",
                            "    .dataframe tbody tr th:only-of-type {\n",
                            "        vertical-align: middle;\n",
                            "    }\n",
                            "\n",
                            "    .dataframe tbody tr th {\n",
                            "        vertical-align: top;\n",
                            "    }\n",
                            "\n",
                            "    .dataframe thead th {\n",
                            "        text-align: right;\n",
                            "    }\n",
                            "</style>\n",
                            "<table border=\"1\" class=\"dataframe\">\n",
                            "  <thead>\n",
                            "    <tr style=\"text-align: right;\">\n",
                            "      <th></th>\n",
                            "      <th>Unnamed: 0.1</th>\n",
                            "      <th>Unnamed: 0</th>\n",
                            "      <th>loan_status</th>\n",
                            "      <th>Principal</th>\n",
                            "      <th>terms</th>\n",
                            "      <th>effective_date</th>\n",
                            "      <th>due_date</th>\n",
                            "      <th>age</th>\n",
                            "      <th>education</th>\n",
                            "      <th>Gender</th>\n",
                            "      <th>dayofweek</th>\n",
                            "      <th>weekend</th>\n",
                            "    </tr>\n",
                            "  </thead>\n",
                            "  <tbody>\n",
                            "    <tr>\n",
                            "      <th>0</th>\n",
                            "      <td>0</td>\n",
                            "      <td>0</td>\n",
                            "      <td>PAIDOFF</td>\n",
                            "      <td>1000</td>\n",
                            "      <td>30</td>\n",
                            "      <td>2016-09-08</td>\n",
                            "      <td>2016-10-07</td>\n",
                            "      <td>45</td>\n",
                            "      <td>High School or Below</td>\n",
                            "      <td>male</td>\n",
                            "      <td>3</td>\n",
                            "      <td>0</td>\n",
                            "    </tr>\n",
                            "    <tr>\n",
                            "      <th>1</th>\n",
                            "      <td>2</td>\n",
                            "      <td>2</td>\n",
                            "      <td>PAIDOFF</td>\n",
                            "      <td>1000</td>\n",
                            "      <td>30</td>\n",
                            "      <td>2016-09-08</td>\n",
                            "      <td>2016-10-07</td>\n",
                            "      <td>33</td>\n",
                            "      <td>Bechalor</td>\n",
                            "      <td>female</td>\n",
                            "      <td>3</td>\n",
                            "      <td>0</td>\n",
                            "    </tr>\n",
                            "    <tr>\n",
                            "      <th>2</th>\n",
                            "      <td>3</td>\n",
                            "      <td>3</td>\n",
                            "      <td>PAIDOFF</td>\n",
                            "      <td>1000</td>\n",
                            "      <td>15</td>\n",
                            "      <td>2016-09-08</td>\n",
                            "      <td>2016-09-22</td>\n",
                            "      <td>27</td>\n",
                            "      <td>college</td>\n",
                            "      <td>male</td>\n",
                            "      <td>3</td>\n",
                            "      <td>0</td>\n",
                            "    </tr>\n",
                            "    <tr>\n",
                            "      <th>3</th>\n",
                            "      <td>4</td>\n",
                            "      <td>4</td>\n",
                            "      <td>PAIDOFF</td>\n",
                            "      <td>1000</td>\n",
                            "      <td>30</td>\n",
                            "      <td>2016-09-09</td>\n",
                            "      <td>2016-10-08</td>\n",
                            "      <td>28</td>\n",
                            "      <td>college</td>\n",
                            "      <td>female</td>\n",
                            "      <td>4</td>\n",
                            "      <td>1</td>\n",
                            "    </tr>\n",
                            "    <tr>\n",
                            "      <th>4</th>\n",
                            "      <td>6</td>\n",
                            "      <td>6</td>\n",
                            "      <td>PAIDOFF</td>\n",
                            "      <td>1000</td>\n",
                            "      <td>30</td>\n",
                            "      <td>2016-09-09</td>\n",
                            "      <td>2016-10-08</td>\n",
                            "      <td>29</td>\n",
                            "      <td>college</td>\n",
                            "      <td>male</td>\n",
                            "      <td>4</td>\n",
                            "      <td>1</td>\n",
                            "    </tr>\n",
                            "  </tbody>\n",
                            "</table>\n",
                            "</div>"
                        ],
                        "text/plain": [
                            "   Unnamed: 0.1  Unnamed: 0 loan_status  Principal  terms effective_date  \\\n",
                            "0             0           0     PAIDOFF       1000     30     2016-09-08   \n",
                            "1             2           2     PAIDOFF       1000     30     2016-09-08   \n",
                            "2             3           3     PAIDOFF       1000     15     2016-09-08   \n",
                            "3             4           4     PAIDOFF       1000     30     2016-09-09   \n",
                            "4             6           6     PAIDOFF       1000     30     2016-09-09   \n",
                            "\n",
                            "    due_date  age             education  Gender  dayofweek  weekend  \n",
                            "0 2016-10-07   45  High School or Below    male          3        0  \n",
                            "1 2016-10-07   33              Bechalor  female          3        0  \n",
                            "2 2016-09-22   27               college    male          3        0  \n",
                            "3 2016-10-08   28               college  female          4        1  \n",
                            "4 2016-10-08   29               college    male          4        1  "
                        ]
                    },
                    "execution_count": 12,
                    "metadata": {},
                    "output_type": "execute_result"
                }
            ],
            "source": [
                "df['weekend'] = df['dayofweek'].apply(lambda x: 1 if (x>3)  else 0)\n",
                "df.head()"
            ]
        },
        {
            "cell_type": "markdown",
            "metadata": {
                "button": false,
                "new_sheet": false,
                "run_control": {
                    "read_only": false
                }
            },
            "source": [
                "## Convert Categorical features to numerical values\n"
            ]
        },
        {
            "cell_type": "markdown",
            "metadata": {
                "button": false,
                "new_sheet": false,
                "run_control": {
                    "read_only": false
                }
            },
            "source": [
                "Let's look at gender:\n"
            ]
        },
        {
            "cell_type": "code",
            "execution_count": 13,
            "metadata": {
                "button": false,
                "new_sheet": false,
                "run_control": {
                    "read_only": false
                }
            },
            "outputs": [
                {
                    "data": {
                        "text/plain": [
                            "Gender  loan_status\n",
                            "female  PAIDOFF        0.865385\n",
                            "        COLLECTION     0.134615\n",
                            "male    PAIDOFF        0.731293\n",
                            "        COLLECTION     0.268707\n",
                            "Name: loan_status, dtype: float64"
                        ]
                    },
                    "execution_count": 13,
                    "metadata": {},
                    "output_type": "execute_result"
                }
            ],
            "source": [
                "df.groupby(['Gender'])['loan_status'].value_counts(normalize=True)"
            ]
        },
        {
            "cell_type": "markdown",
            "metadata": {
                "button": false,
                "new_sheet": false,
                "run_control": {
                    "read_only": false
                }
            },
            "source": [
                "86 % of female pay there loans while only 73 % of males pay there loan\n"
            ]
        },
        {
            "cell_type": "markdown",
            "metadata": {
                "button": false,
                "new_sheet": false,
                "run_control": {
                    "read_only": false
                }
            },
            "source": [
                "Let's convert male to 0 and female to 1:\n"
            ]
        },
        {
            "cell_type": "code",
            "execution_count": 14,
            "metadata": {
                "button": false,
                "new_sheet": false,
                "run_control": {
                    "read_only": false
                }
            },
            "outputs": [
                {
                    "data": {
                        "text/html": [
                            "<div>\n",
                            "<style scoped>\n",
                            "    .dataframe tbody tr th:only-of-type {\n",
                            "        vertical-align: middle;\n",
                            "    }\n",
                            "\n",
                            "    .dataframe tbody tr th {\n",
                            "        vertical-align: top;\n",
                            "    }\n",
                            "\n",
                            "    .dataframe thead th {\n",
                            "        text-align: right;\n",
                            "    }\n",
                            "</style>\n",
                            "<table border=\"1\" class=\"dataframe\">\n",
                            "  <thead>\n",
                            "    <tr style=\"text-align: right;\">\n",
                            "      <th></th>\n",
                            "      <th>Unnamed: 0.1</th>\n",
                            "      <th>Unnamed: 0</th>\n",
                            "      <th>loan_status</th>\n",
                            "      <th>Principal</th>\n",
                            "      <th>terms</th>\n",
                            "      <th>effective_date</th>\n",
                            "      <th>due_date</th>\n",
                            "      <th>age</th>\n",
                            "      <th>education</th>\n",
                            "      <th>Gender</th>\n",
                            "      <th>dayofweek</th>\n",
                            "      <th>weekend</th>\n",
                            "    </tr>\n",
                            "  </thead>\n",
                            "  <tbody>\n",
                            "    <tr>\n",
                            "      <th>0</th>\n",
                            "      <td>0</td>\n",
                            "      <td>0</td>\n",
                            "      <td>PAIDOFF</td>\n",
                            "      <td>1000</td>\n",
                            "      <td>30</td>\n",
                            "      <td>2016-09-08</td>\n",
                            "      <td>2016-10-07</td>\n",
                            "      <td>45</td>\n",
                            "      <td>High School or Below</td>\n",
                            "      <td>0</td>\n",
                            "      <td>3</td>\n",
                            "      <td>0</td>\n",
                            "    </tr>\n",
                            "    <tr>\n",
                            "      <th>1</th>\n",
                            "      <td>2</td>\n",
                            "      <td>2</td>\n",
                            "      <td>PAIDOFF</td>\n",
                            "      <td>1000</td>\n",
                            "      <td>30</td>\n",
                            "      <td>2016-09-08</td>\n",
                            "      <td>2016-10-07</td>\n",
                            "      <td>33</td>\n",
                            "      <td>Bechalor</td>\n",
                            "      <td>1</td>\n",
                            "      <td>3</td>\n",
                            "      <td>0</td>\n",
                            "    </tr>\n",
                            "    <tr>\n",
                            "      <th>2</th>\n",
                            "      <td>3</td>\n",
                            "      <td>3</td>\n",
                            "      <td>PAIDOFF</td>\n",
                            "      <td>1000</td>\n",
                            "      <td>15</td>\n",
                            "      <td>2016-09-08</td>\n",
                            "      <td>2016-09-22</td>\n",
                            "      <td>27</td>\n",
                            "      <td>college</td>\n",
                            "      <td>0</td>\n",
                            "      <td>3</td>\n",
                            "      <td>0</td>\n",
                            "    </tr>\n",
                            "    <tr>\n",
                            "      <th>3</th>\n",
                            "      <td>4</td>\n",
                            "      <td>4</td>\n",
                            "      <td>PAIDOFF</td>\n",
                            "      <td>1000</td>\n",
                            "      <td>30</td>\n",
                            "      <td>2016-09-09</td>\n",
                            "      <td>2016-10-08</td>\n",
                            "      <td>28</td>\n",
                            "      <td>college</td>\n",
                            "      <td>1</td>\n",
                            "      <td>4</td>\n",
                            "      <td>1</td>\n",
                            "    </tr>\n",
                            "    <tr>\n",
                            "      <th>4</th>\n",
                            "      <td>6</td>\n",
                            "      <td>6</td>\n",
                            "      <td>PAIDOFF</td>\n",
                            "      <td>1000</td>\n",
                            "      <td>30</td>\n",
                            "      <td>2016-09-09</td>\n",
                            "      <td>2016-10-08</td>\n",
                            "      <td>29</td>\n",
                            "      <td>college</td>\n",
                            "      <td>0</td>\n",
                            "      <td>4</td>\n",
                            "      <td>1</td>\n",
                            "    </tr>\n",
                            "  </tbody>\n",
                            "</table>\n",
                            "</div>"
                        ],
                        "text/plain": [
                            "   Unnamed: 0.1  Unnamed: 0 loan_status  Principal  terms effective_date  \\\n",
                            "0             0           0     PAIDOFF       1000     30     2016-09-08   \n",
                            "1             2           2     PAIDOFF       1000     30     2016-09-08   \n",
                            "2             3           3     PAIDOFF       1000     15     2016-09-08   \n",
                            "3             4           4     PAIDOFF       1000     30     2016-09-09   \n",
                            "4             6           6     PAIDOFF       1000     30     2016-09-09   \n",
                            "\n",
                            "    due_date  age             education  Gender  dayofweek  weekend  \n",
                            "0 2016-10-07   45  High School or Below       0          3        0  \n",
                            "1 2016-10-07   33              Bechalor       1          3        0  \n",
                            "2 2016-09-22   27               college       0          3        0  \n",
                            "3 2016-10-08   28               college       1          4        1  \n",
                            "4 2016-10-08   29               college       0          4        1  "
                        ]
                    },
                    "execution_count": 14,
                    "metadata": {},
                    "output_type": "execute_result"
                }
            ],
            "source": [
                "df['Gender'].replace(to_replace=['male','female'], value=[0,1],inplace=True)\n",
                "df.head()"
            ]
        },
        {
            "cell_type": "markdown",
            "metadata": {
                "button": false,
                "new_sheet": false,
                "run_control": {
                    "read_only": false
                }
            },
            "source": [
                "## One Hot Encoding\n",
                "\n",
                "#### How about education?\n"
            ]
        },
        {
            "cell_type": "code",
            "execution_count": 15,
            "metadata": {
                "button": false,
                "new_sheet": false,
                "run_control": {
                    "read_only": false
                }
            },
            "outputs": [
                {
                    "data": {
                        "text/plain": [
                            "education             loan_status\n",
                            "Bechalor              PAIDOFF        0.750000\n",
                            "                      COLLECTION     0.250000\n",
                            "High School or Below  PAIDOFF        0.741722\n",
                            "                      COLLECTION     0.258278\n",
                            "Master or Above       COLLECTION     0.500000\n",
                            "                      PAIDOFF        0.500000\n",
                            "college               PAIDOFF        0.765101\n",
                            "                      COLLECTION     0.234899\n",
                            "Name: loan_status, dtype: float64"
                        ]
                    },
                    "execution_count": 15,
                    "metadata": {},
                    "output_type": "execute_result"
                }
            ],
            "source": [
                "df.groupby(['education'])['loan_status'].value_counts(normalize=True)"
            ]
        },
        {
            "cell_type": "markdown",
            "metadata": {
                "button": false,
                "new_sheet": false,
                "run_control": {
                    "read_only": false
                }
            },
            "source": [
                "#### Features before One Hot Encoding\n"
            ]
        },
        {
            "cell_type": "code",
            "execution_count": 16,
            "metadata": {
                "button": false,
                "new_sheet": false,
                "run_control": {
                    "read_only": false
                }
            },
            "outputs": [
                {
                    "data": {
                        "text/html": [
                            "<div>\n",
                            "<style scoped>\n",
                            "    .dataframe tbody tr th:only-of-type {\n",
                            "        vertical-align: middle;\n",
                            "    }\n",
                            "\n",
                            "    .dataframe tbody tr th {\n",
                            "        vertical-align: top;\n",
                            "    }\n",
                            "\n",
                            "    .dataframe thead th {\n",
                            "        text-align: right;\n",
                            "    }\n",
                            "</style>\n",
                            "<table border=\"1\" class=\"dataframe\">\n",
                            "  <thead>\n",
                            "    <tr style=\"text-align: right;\">\n",
                            "      <th></th>\n",
                            "      <th>Principal</th>\n",
                            "      <th>terms</th>\n",
                            "      <th>age</th>\n",
                            "      <th>Gender</th>\n",
                            "      <th>education</th>\n",
                            "    </tr>\n",
                            "  </thead>\n",
                            "  <tbody>\n",
                            "    <tr>\n",
                            "      <th>0</th>\n",
                            "      <td>1000</td>\n",
                            "      <td>30</td>\n",
                            "      <td>45</td>\n",
                            "      <td>0</td>\n",
                            "      <td>High School or Below</td>\n",
                            "    </tr>\n",
                            "    <tr>\n",
                            "      <th>1</th>\n",
                            "      <td>1000</td>\n",
                            "      <td>30</td>\n",
                            "      <td>33</td>\n",
                            "      <td>1</td>\n",
                            "      <td>Bechalor</td>\n",
                            "    </tr>\n",
                            "    <tr>\n",
                            "      <th>2</th>\n",
                            "      <td>1000</td>\n",
                            "      <td>15</td>\n",
                            "      <td>27</td>\n",
                            "      <td>0</td>\n",
                            "      <td>college</td>\n",
                            "    </tr>\n",
                            "    <tr>\n",
                            "      <th>3</th>\n",
                            "      <td>1000</td>\n",
                            "      <td>30</td>\n",
                            "      <td>28</td>\n",
                            "      <td>1</td>\n",
                            "      <td>college</td>\n",
                            "    </tr>\n",
                            "    <tr>\n",
                            "      <th>4</th>\n",
                            "      <td>1000</td>\n",
                            "      <td>30</td>\n",
                            "      <td>29</td>\n",
                            "      <td>0</td>\n",
                            "      <td>college</td>\n",
                            "    </tr>\n",
                            "  </tbody>\n",
                            "</table>\n",
                            "</div>"
                        ],
                        "text/plain": [
                            "   Principal  terms  age  Gender             education\n",
                            "0       1000     30   45       0  High School or Below\n",
                            "1       1000     30   33       1              Bechalor\n",
                            "2       1000     15   27       0               college\n",
                            "3       1000     30   28       1               college\n",
                            "4       1000     30   29       0               college"
                        ]
                    },
                    "execution_count": 16,
                    "metadata": {},
                    "output_type": "execute_result"
                }
            ],
            "source": [
                "df[['Principal','terms','age','Gender','education']].head()"
            ]
        },
        {
            "cell_type": "markdown",
            "metadata": {
                "button": false,
                "new_sheet": false,
                "run_control": {
                    "read_only": false
                }
            },
            "source": [
                "#### Use one hot encoding technique to conver categorical varables to binary variables and append them to the feature Data Frame\n"
            ]
        },
        {
            "cell_type": "code",
            "execution_count": 17,
            "metadata": {
                "button": false,
                "new_sheet": false,
                "run_control": {
                    "read_only": false
                }
            },
            "outputs": [
                {
                    "data": {
                        "text/html": [
                            "<div>\n",
                            "<style scoped>\n",
                            "    .dataframe tbody tr th:only-of-type {\n",
                            "        vertical-align: middle;\n",
                            "    }\n",
                            "\n",
                            "    .dataframe tbody tr th {\n",
                            "        vertical-align: top;\n",
                            "    }\n",
                            "\n",
                            "    .dataframe thead th {\n",
                            "        text-align: right;\n",
                            "    }\n",
                            "</style>\n",
                            "<table border=\"1\" class=\"dataframe\">\n",
                            "  <thead>\n",
                            "    <tr style=\"text-align: right;\">\n",
                            "      <th></th>\n",
                            "      <th>Principal</th>\n",
                            "      <th>terms</th>\n",
                            "      <th>age</th>\n",
                            "      <th>Gender</th>\n",
                            "      <th>weekend</th>\n",
                            "      <th>Bechalor</th>\n",
                            "      <th>High School or Below</th>\n",
                            "      <th>college</th>\n",
                            "    </tr>\n",
                            "  </thead>\n",
                            "  <tbody>\n",
                            "    <tr>\n",
                            "      <th>0</th>\n",
                            "      <td>1000</td>\n",
                            "      <td>30</td>\n",
                            "      <td>45</td>\n",
                            "      <td>0</td>\n",
                            "      <td>0</td>\n",
                            "      <td>0</td>\n",
                            "      <td>1</td>\n",
                            "      <td>0</td>\n",
                            "    </tr>\n",
                            "    <tr>\n",
                            "      <th>1</th>\n",
                            "      <td>1000</td>\n",
                            "      <td>30</td>\n",
                            "      <td>33</td>\n",
                            "      <td>1</td>\n",
                            "      <td>0</td>\n",
                            "      <td>1</td>\n",
                            "      <td>0</td>\n",
                            "      <td>0</td>\n",
                            "    </tr>\n",
                            "    <tr>\n",
                            "      <th>2</th>\n",
                            "      <td>1000</td>\n",
                            "      <td>15</td>\n",
                            "      <td>27</td>\n",
                            "      <td>0</td>\n",
                            "      <td>0</td>\n",
                            "      <td>0</td>\n",
                            "      <td>0</td>\n",
                            "      <td>1</td>\n",
                            "    </tr>\n",
                            "    <tr>\n",
                            "      <th>3</th>\n",
                            "      <td>1000</td>\n",
                            "      <td>30</td>\n",
                            "      <td>28</td>\n",
                            "      <td>1</td>\n",
                            "      <td>1</td>\n",
                            "      <td>0</td>\n",
                            "      <td>0</td>\n",
                            "      <td>1</td>\n",
                            "    </tr>\n",
                            "    <tr>\n",
                            "      <th>4</th>\n",
                            "      <td>1000</td>\n",
                            "      <td>30</td>\n",
                            "      <td>29</td>\n",
                            "      <td>0</td>\n",
                            "      <td>1</td>\n",
                            "      <td>0</td>\n",
                            "      <td>0</td>\n",
                            "      <td>1</td>\n",
                            "    </tr>\n",
                            "  </tbody>\n",
                            "</table>\n",
                            "</div>"
                        ],
                        "text/plain": [
                            "   Principal  terms  age  Gender  weekend  Bechalor  High School or Below  \\\n",
                            "0       1000     30   45       0        0         0                     1   \n",
                            "1       1000     30   33       1        0         1                     0   \n",
                            "2       1000     15   27       0        0         0                     0   \n",
                            "3       1000     30   28       1        1         0                     0   \n",
                            "4       1000     30   29       0        1         0                     0   \n",
                            "\n",
                            "   college  \n",
                            "0        0  \n",
                            "1        0  \n",
                            "2        1  \n",
                            "3        1  \n",
                            "4        1  "
                        ]
                    },
                    "execution_count": 17,
                    "metadata": {},
                    "output_type": "execute_result"
                }
            ],
            "source": [
                "Feature = df[['Principal','terms','age','Gender','weekend']]\n",
                "Feature = pd.concat([Feature,pd.get_dummies(df['education'])], axis=1)\n",
                "Feature.drop(['Master or Above'], axis = 1,inplace=True)\n",
                "Feature.head()\n"
            ]
        },
        {
            "cell_type": "markdown",
            "metadata": {
                "button": false,
                "new_sheet": false,
                "run_control": {
                    "read_only": false
                }
            },
            "source": [
                "### Feature Selection\n"
            ]
        },
        {
            "cell_type": "markdown",
            "metadata": {
                "button": false,
                "new_sheet": false,
                "run_control": {
                    "read_only": false
                }
            },
            "source": [
                "Let's define feature sets, X:\n"
            ]
        },
        {
            "cell_type": "code",
            "execution_count": 18,
            "metadata": {
                "button": false,
                "new_sheet": false,
                "run_control": {
                    "read_only": false
                }
            },
            "outputs": [
                {
                    "data": {
                        "text/html": [
                            "<div>\n",
                            "<style scoped>\n",
                            "    .dataframe tbody tr th:only-of-type {\n",
                            "        vertical-align: middle;\n",
                            "    }\n",
                            "\n",
                            "    .dataframe tbody tr th {\n",
                            "        vertical-align: top;\n",
                            "    }\n",
                            "\n",
                            "    .dataframe thead th {\n",
                            "        text-align: right;\n",
                            "    }\n",
                            "</style>\n",
                            "<table border=\"1\" class=\"dataframe\">\n",
                            "  <thead>\n",
                            "    <tr style=\"text-align: right;\">\n",
                            "      <th></th>\n",
                            "      <th>Principal</th>\n",
                            "      <th>terms</th>\n",
                            "      <th>age</th>\n",
                            "      <th>Gender</th>\n",
                            "      <th>weekend</th>\n",
                            "      <th>Bechalor</th>\n",
                            "      <th>High School or Below</th>\n",
                            "      <th>college</th>\n",
                            "    </tr>\n",
                            "  </thead>\n",
                            "  <tbody>\n",
                            "    <tr>\n",
                            "      <th>0</th>\n",
                            "      <td>1000</td>\n",
                            "      <td>30</td>\n",
                            "      <td>45</td>\n",
                            "      <td>0</td>\n",
                            "      <td>0</td>\n",
                            "      <td>0</td>\n",
                            "      <td>1</td>\n",
                            "      <td>0</td>\n",
                            "    </tr>\n",
                            "    <tr>\n",
                            "      <th>1</th>\n",
                            "      <td>1000</td>\n",
                            "      <td>30</td>\n",
                            "      <td>33</td>\n",
                            "      <td>1</td>\n",
                            "      <td>0</td>\n",
                            "      <td>1</td>\n",
                            "      <td>0</td>\n",
                            "      <td>0</td>\n",
                            "    </tr>\n",
                            "    <tr>\n",
                            "      <th>2</th>\n",
                            "      <td>1000</td>\n",
                            "      <td>15</td>\n",
                            "      <td>27</td>\n",
                            "      <td>0</td>\n",
                            "      <td>0</td>\n",
                            "      <td>0</td>\n",
                            "      <td>0</td>\n",
                            "      <td>1</td>\n",
                            "    </tr>\n",
                            "    <tr>\n",
                            "      <th>3</th>\n",
                            "      <td>1000</td>\n",
                            "      <td>30</td>\n",
                            "      <td>28</td>\n",
                            "      <td>1</td>\n",
                            "      <td>1</td>\n",
                            "      <td>0</td>\n",
                            "      <td>0</td>\n",
                            "      <td>1</td>\n",
                            "    </tr>\n",
                            "    <tr>\n",
                            "      <th>4</th>\n",
                            "      <td>1000</td>\n",
                            "      <td>30</td>\n",
                            "      <td>29</td>\n",
                            "      <td>0</td>\n",
                            "      <td>1</td>\n",
                            "      <td>0</td>\n",
                            "      <td>0</td>\n",
                            "      <td>1</td>\n",
                            "    </tr>\n",
                            "  </tbody>\n",
                            "</table>\n",
                            "</div>"
                        ],
                        "text/plain": [
                            "   Principal  terms  age  Gender  weekend  Bechalor  High School or Below  \\\n",
                            "0       1000     30   45       0        0         0                     1   \n",
                            "1       1000     30   33       1        0         1                     0   \n",
                            "2       1000     15   27       0        0         0                     0   \n",
                            "3       1000     30   28       1        1         0                     0   \n",
                            "4       1000     30   29       0        1         0                     0   \n",
                            "\n",
                            "   college  \n",
                            "0        0  \n",
                            "1        0  \n",
                            "2        1  \n",
                            "3        1  \n",
                            "4        1  "
                        ]
                    },
                    "execution_count": 18,
                    "metadata": {},
                    "output_type": "execute_result"
                }
            ],
            "source": [
                "X = Feature\n",
                "X[0:5]"
            ]
        },
        {
            "cell_type": "markdown",
            "metadata": {
                "button": false,
                "new_sheet": false,
                "run_control": {
                    "read_only": false
                }
            },
            "source": [
                "What are our lables?\n"
            ]
        },
        {
            "cell_type": "code",
            "execution_count": 19,
            "metadata": {
                "button": false,
                "new_sheet": false,
                "run_control": {
                    "read_only": false
                }
            },
            "outputs": [
                {
                    "data": {
                        "text/plain": [
                            "array(['PAIDOFF', 'PAIDOFF', 'PAIDOFF', 'PAIDOFF', 'PAIDOFF'],\n",
                            "      dtype=object)"
                        ]
                    },
                    "execution_count": 19,
                    "metadata": {},
                    "output_type": "execute_result"
                }
            ],
            "source": [
                "y = df['loan_status'].values\n",
                "y[0:5]"
            ]
        },
        {
            "cell_type": "markdown",
            "metadata": {
                "button": false,
                "new_sheet": false,
                "run_control": {
                    "read_only": false
                }
            },
            "source": [
                "## Normalize Data\n"
            ]
        },
        {
            "cell_type": "markdown",
            "metadata": {
                "button": false,
                "new_sheet": false,
                "run_control": {
                    "read_only": false
                }
            },
            "source": [
                "Data Standardization give data zero mean and unit variance (technically should be done after train test split)\n"
            ]
        },
        {
            "cell_type": "code",
            "execution_count": 20,
            "metadata": {
                "button": false,
                "new_sheet": false,
                "run_control": {
                    "read_only": false
                }
            },
            "outputs": [
                {
                    "data": {
                        "text/plain": [
                            "array([[ 0.51578458,  0.92071769,  2.33152555, -0.42056004, -1.20577805,\n",
                            "        -0.38170062,  1.13639374, -0.86968108],\n",
                            "       [ 0.51578458,  0.92071769,  0.34170148,  2.37778177, -1.20577805,\n",
                            "         2.61985426, -0.87997669, -0.86968108],\n",
                            "       [ 0.51578458, -0.95911111, -0.65321055, -0.42056004, -1.20577805,\n",
                            "        -0.38170062, -0.87997669,  1.14984679],\n",
                            "       [ 0.51578458,  0.92071769, -0.48739188,  2.37778177,  0.82934003,\n",
                            "        -0.38170062, -0.87997669,  1.14984679],\n",
                            "       [ 0.51578458,  0.92071769, -0.3215732 , -0.42056004,  0.82934003,\n",
                            "        -0.38170062, -0.87997669,  1.14984679]])"
                        ]
                    },
                    "execution_count": 20,
                    "metadata": {},
                    "output_type": "execute_result"
                }
            ],
            "source": [
                "X= preprocessing.StandardScaler().fit(X).transform(X)\n",
                "X[0:5]"
            ]
        },
        {
            "cell_type": "markdown",
            "metadata": {
                "button": false,
                "new_sheet": false,
                "run_control": {
                    "read_only": false
                }
            },
            "source": [
                "# Classification\n"
            ]
        },
        {
            "cell_type": "markdown",
            "metadata": {
                "button": false,
                "new_sheet": false,
                "run_control": {
                    "read_only": false
                }
            },
            "source": [
                "Now, it is your turn, use the training set to build an accurate model. Then use the test set to report the accuracy of the model\n",
                "You should use the following algorithm:\n",
                "\n",
                "*   K Nearest Neighbor(KNN)\n",
                "*   Decision Tree\n",
                "*   Support Vector Machine\n",
                "*   Logistic Regression\n",
                "\n",
                "\\__ Notice:\\__\n",
                "\n",
                "*   You can go above and change the pre-processing, feature selection, feature-extraction, and so on, to make a better model.\n",
                "*   You should use either scikit-learn, Scipy or Numpy libraries for developing the classification algorithms.\n",
                "*   You should include the code of the algorithm in the following cells.\n"
            ]
        },
        {
            "cell_type": "markdown",
            "metadata": {},
            "source": [
                "# K Nearest Neighbor(KNN)\n",
                "\n",
                "Notice: You should find the best k to build the model with the best accuracy.\\\n",
                "**warning:** You should not use the **loan_test.csv** for finding the best k, however, you can split your train_loan.csv into train and test to find the best **k**.\n"
            ]
        },
        {
            "cell_type": "code",
            "execution_count": 21,
            "metadata": {},
            "outputs": [],
            "source": [
                "from sklearn.neighbors import KNeighborsClassifier"
            ]
        },
        {
            "cell_type": "code",
            "execution_count": 22,
            "metadata": {},
            "outputs": [
                {
                    "name": "stdout",
                    "output_type": "stream",
                    "text": [
                        "Train set: (276, 8) (276,)\n",
                        "Test set: (70, 8) (70,)\n"
                    ]
                }
            ],
            "source": [
                "from sklearn.model_selection import train_test_split\n",
                "X_train, X_test, y_train, y_test = train_test_split( X, y, test_size=0.2, random_state=4)\n",
                "print ('Train set:', X_train.shape,  y_train.shape)\n",
                "print ('Test set:', X_test.shape,  y_test.shape)"
            ]
        },
        {
            "cell_type": "code",
            "execution_count": 23,
            "metadata": {},
            "outputs": [
                {
                    "name": "stdout",
                    "output_type": "stream",
                    "text": [
                        "Train set Accuracy:  0.8188405797101449\n",
                        "Test set Accuracy:  0.7\n"
                    ]
                }
            ],
            "source": [
                "k = 4 \n",
                "neigh = KNeighborsClassifier(n_neighbors = k).fit(X_train,y_train)\n",
                "yhat = neigh.predict(X_test)\n",
                "from sklearn import metrics\n",
                "print(\"Train set Accuracy: \", metrics.accuracy_score(y_train, neigh.predict(X_train)))\n",
                "print(\"Test set Accuracy: \", metrics.accuracy_score(y_test, yhat))"
            ]
        },
        {
            "cell_type": "code",
            "execution_count": 24,
            "metadata": {},
            "outputs": [
                {
                    "name": "stdout",
                    "output_type": "stream",
                    "text": [
                        "Train set Accuracy:  0.8188405797101449\n",
                        "Test set Accuracy:  0.7428571428571429\n"
                    ]
                }
            ],
            "source": [
                "k = 5\n",
                "neigh = KNeighborsClassifier(n_neighbors = k).fit(X_train,y_train)\n",
                "yhat = neigh.predict(X_test)\n",
                "from sklearn import metrics\n",
                "print(\"Train set Accuracy: \", metrics.accuracy_score(y_train, neigh.predict(X_train)))\n",
                "print(\"Test set Accuracy: \", metrics.accuracy_score(y_test, yhat))"
            ]
        },
        {
            "cell_type": "code",
            "execution_count": 25,
            "metadata": {},
            "outputs": [
                {
                    "name": "stdout",
                    "output_type": "stream",
                    "text": [
                        "Train set Accuracy:  0.7971014492753623\n",
                        "Test set Accuracy:  0.7142857142857143\n"
                    ]
                }
            ],
            "source": [
                "k = 6\n",
                "neigh = KNeighborsClassifier(n_neighbors = k).fit(X_train,y_train)\n",
                "yhat = neigh.predict(X_test)\n",
                "from sklearn import metrics\n",
                "print(\"Train set Accuracy: \", metrics.accuracy_score(y_train, neigh.predict(X_train)))\n",
                "print(\"Test set Accuracy: \", metrics.accuracy_score(y_test, yhat))"
            ]
        },
        {
            "cell_type": "code",
            "execution_count": 40,
            "metadata": {},
            "outputs": [],
            "source": [
                "neigh = KNeighborsClassifier(n_neighbors = k).fit(X_train,y_train)\n",
                "yhat_neigh = neigh.predict(X_train)"
            ]
        },
        {
            "cell_type": "markdown",
            "metadata": {},
            "source": [
                "# Decision Tree\n"
            ]
        },
        {
            "cell_type": "code",
            "execution_count": 41,
            "metadata": {},
            "outputs": [
                {
                    "data": {
                        "text/html": [
                            "<style>#sk-container-id-2 {color: black;background-color: white;}#sk-container-id-2 pre{padding: 0;}#sk-container-id-2 div.sk-toggleable {background-color: white;}#sk-container-id-2 label.sk-toggleable__label {cursor: pointer;display: block;width: 100%;margin-bottom: 0;padding: 0.3em;box-sizing: border-box;text-align: center;}#sk-container-id-2 label.sk-toggleable__label-arrow:before {content: \"▸\";float: left;margin-right: 0.25em;color: #696969;}#sk-container-id-2 label.sk-toggleable__label-arrow:hover:before {color: black;}#sk-container-id-2 div.sk-estimator:hover label.sk-toggleable__label-arrow:before {color: black;}#sk-container-id-2 div.sk-toggleable__content {max-height: 0;max-width: 0;overflow: hidden;text-align: left;background-color: #f0f8ff;}#sk-container-id-2 div.sk-toggleable__content pre {margin: 0.2em;color: black;border-radius: 0.25em;background-color: #f0f8ff;}#sk-container-id-2 input.sk-toggleable__control:checked~div.sk-toggleable__content {max-height: 200px;max-width: 100%;overflow: auto;}#sk-container-id-2 input.sk-toggleable__control:checked~label.sk-toggleable__label-arrow:before {content: \"▾\";}#sk-container-id-2 div.sk-estimator input.sk-toggleable__control:checked~label.sk-toggleable__label {background-color: #d4ebff;}#sk-container-id-2 div.sk-label input.sk-toggleable__control:checked~label.sk-toggleable__label {background-color: #d4ebff;}#sk-container-id-2 input.sk-hidden--visually {border: 0;clip: rect(1px 1px 1px 1px);clip: rect(1px, 1px, 1px, 1px);height: 1px;margin: -1px;overflow: hidden;padding: 0;position: absolute;width: 1px;}#sk-container-id-2 div.sk-estimator {font-family: monospace;background-color: #f0f8ff;border: 1px dotted black;border-radius: 0.25em;box-sizing: border-box;margin-bottom: 0.5em;}#sk-container-id-2 div.sk-estimator:hover {background-color: #d4ebff;}#sk-container-id-2 div.sk-parallel-item::after {content: \"\";width: 100%;border-bottom: 1px solid gray;flex-grow: 1;}#sk-container-id-2 div.sk-label:hover label.sk-toggleable__label {background-color: #d4ebff;}#sk-container-id-2 div.sk-serial::before {content: \"\";position: absolute;border-left: 1px solid gray;box-sizing: border-box;top: 0;bottom: 0;left: 50%;z-index: 0;}#sk-container-id-2 div.sk-serial {display: flex;flex-direction: column;align-items: center;background-color: white;padding-right: 0.2em;padding-left: 0.2em;position: relative;}#sk-container-id-2 div.sk-item {position: relative;z-index: 1;}#sk-container-id-2 div.sk-parallel {display: flex;align-items: stretch;justify-content: center;background-color: white;position: relative;}#sk-container-id-2 div.sk-item::before, #sk-container-id-2 div.sk-parallel-item::before {content: \"\";position: absolute;border-left: 1px solid gray;box-sizing: border-box;top: 0;bottom: 0;left: 50%;z-index: -1;}#sk-container-id-2 div.sk-parallel-item {display: flex;flex-direction: column;z-index: 1;position: relative;background-color: white;}#sk-container-id-2 div.sk-parallel-item:first-child::after {align-self: flex-end;width: 50%;}#sk-container-id-2 div.sk-parallel-item:last-child::after {align-self: flex-start;width: 50%;}#sk-container-id-2 div.sk-parallel-item:only-child::after {width: 0;}#sk-container-id-2 div.sk-dashed-wrapped {border: 1px dashed gray;margin: 0 0.4em 0.5em 0.4em;box-sizing: border-box;padding-bottom: 0.4em;background-color: white;}#sk-container-id-2 div.sk-label label {font-family: monospace;font-weight: bold;display: inline-block;line-height: 1.2em;}#sk-container-id-2 div.sk-label-container {text-align: center;}#sk-container-id-2 div.sk-container {/* jupyter's `normalize.less` sets `[hidden] { display: none; }` but bootstrap.min.css set `[hidden] { display: none !important; }` so we also need the `!important` here to be able to override the default hidden behavior on the sphinx rendered scikit-learn.org. See: https://github.com/scikit-learn/scikit-learn/issues/21755 */display: inline-block !important;position: relative;}#sk-container-id-2 div.sk-text-repr-fallback {display: none;}</style><div id=\"sk-container-id-2\" class=\"sk-top-container\"><div class=\"sk-text-repr-fallback\"><pre>DecisionTreeClassifier(criterion=&#x27;entropy&#x27;, max_depth=10)</pre><b>In a Jupyter environment, please rerun this cell to show the HTML representation or trust the notebook. <br />On GitHub, the HTML representation is unable to render, please try loading this page with nbviewer.org.</b></div><div class=\"sk-container\" hidden><div class=\"sk-item\"><div class=\"sk-estimator sk-toggleable\"><input class=\"sk-toggleable__control sk-hidden--visually\" id=\"sk-estimator-id-2\" type=\"checkbox\" checked><label for=\"sk-estimator-id-2\" class=\"sk-toggleable__label sk-toggleable__label-arrow\">DecisionTreeClassifier</label><div class=\"sk-toggleable__content\"><pre>DecisionTreeClassifier(criterion=&#x27;entropy&#x27;, max_depth=10)</pre></div></div></div></div></div>"
                        ],
                        "text/plain": [
                            "DecisionTreeClassifier(criterion='entropy', max_depth=10)"
                        ]
                    },
                    "execution_count": 41,
                    "metadata": {},
                    "output_type": "execute_result"
                }
            ],
            "source": [
                "from sklearn.tree import DecisionTreeClassifier\n",
                "import sklearn.tree as tree\n",
                "Tree = DecisionTreeClassifier(criterion=\"entropy\", max_depth = 10)\n",
                "Tree.fit(X_train,y_train)"
            ]
        },
        {
            "cell_type": "code",
            "execution_count": 42,
            "metadata": {},
            "outputs": [],
            "source": [
                "predTree = Tree.predict(X)"
            ]
        },
        {
            "cell_type": "code",
            "execution_count": 43,
            "metadata": {},
            "outputs": [
                {
                    "name": "stdout",
                    "output_type": "stream",
                    "text": [
                        "['PAIDOFF' 'PAIDOFF' 'PAIDOFF' 'PAIDOFF' 'PAIDOFF']\n",
                        "['PAIDOFF' 'PAIDOFF' 'PAIDOFF' 'PAIDOFF' 'PAIDOFF']\n"
                    ]
                }
            ],
            "source": [
                "print (predTree [0:5])\n",
                "print (y [0:5])"
            ]
        },
        {
            "cell_type": "code",
            "execution_count": 45,
            "metadata": {
                "scrolled": true
            },
            "outputs": [
                {
                    "name": "stdout",
                    "output_type": "stream",
                    "text": [
                        "DecisionTrees's Accuracy:  0.8092485549132948\n"
                    ]
                }
            ],
            "source": [
                "from sklearn import metrics\n",
                "print(\"DecisionTrees's Accuracy: \", metrics.accuracy_score(y, predTree))"
            ]
        },
        {
            "cell_type": "code",
            "execution_count": 46,
            "metadata": {},
            "outputs": [
                {
                    "data": {
                        "image/png": "[encoded data removed]",
                        "text/plain": [
                            "<Figure size 432x288 with 1 Axes>"
                        ]
                    },
                    "metadata": {
                        "needs_background": "light"
                    },
                    "output_type": "display_data"
                }
            ],
            "source": [
                "tree.plot_tree(Tree)\n",
                "plt.show()"
            ]
        },
        {
            "cell_type": "markdown",
            "metadata": {},
            "source": [
                "# Support Vector Machine\n"
            ]
        },
        {
            "cell_type": "code",
            "execution_count": 49,
            "metadata": {},
            "outputs": [
                {
                    "data": {
                        "text/plain": [
                            "array(['PAIDOFF', 'PAIDOFF', 'PAIDOFF', 'PAIDOFF', 'PAIDOFF'],\n",
                            "      dtype=object)"
                        ]
                    },
                    "execution_count": 49,
                    "metadata": {},
                    "output_type": "execute_result"
                }
            ],
            "source": [
                "from sklearn import svm\n",
                "clf = svm.SVC(kernel='rbf')\n",
                "clf.fit(X, y)\n",
                "yhat_SVM = clf.predict(X)\n",
                "yhat_SVM [0:5] "
            ]
        },
        {
            "cell_type": "code",
            "execution_count": 50,
            "metadata": {},
            "outputs": [
                {
                    "data": {
                        "text/plain": [
                            "0.6647688577527595"
                        ]
                    },
                    "execution_count": 50,
                    "metadata": {},
                    "output_type": "execute_result"
                }
            ],
            "source": [
                "from sklearn.metrics import classification_report, confusion_matrix\n",
                "import itertools\n",
                "from sklearn.metrics import f1_score\n",
                "f1_score(y, yhat_SVM, average='weighted') "
            ]
        },
        {
            "cell_type": "code",
            "execution_count": 51,
            "metadata": {},
            "outputs": [
                {
                    "data": {
                        "text/plain": [
                            "0.7580174927113703"
                        ]
                    },
                    "execution_count": 51,
                    "metadata": {},
                    "output_type": "execute_result"
                }
            ],
            "source": [
                "from sklearn.metrics import jaccard_score\n",
                "jaccard_score(y, yhat_SVM,pos_label='PAIDOFF')"
            ]
        },
        {
            "cell_type": "markdown",
            "metadata": {},
            "source": [
                "# Logistic Regression\n"
            ]
        },
        {
            "cell_type": "code",
            "execution_count": 52,
            "metadata": {},
            "outputs": [
                {
                    "data": {
                        "text/plain": [
                            "array(['PAIDOFF', 'PAIDOFF', 'PAIDOFF', 'PAIDOFF', 'PAIDOFF', 'PAIDOFF',\n",
                            "       'PAIDOFF', 'PAIDOFF', 'PAIDOFF', 'PAIDOFF', 'PAIDOFF', 'PAIDOFF',\n",
                            "       'PAIDOFF', 'PAIDOFF', 'PAIDOFF', 'PAIDOFF', 'PAIDOFF', 'PAIDOFF',\n",
                            "       'PAIDOFF', 'PAIDOFF', 'PAIDOFF', 'PAIDOFF', 'PAIDOFF', 'PAIDOFF',\n",
                            "       'PAIDOFF', 'PAIDOFF', 'PAIDOFF', 'PAIDOFF', 'PAIDOFF', 'PAIDOFF',\n",
                            "       'PAIDOFF', 'PAIDOFF', 'PAIDOFF', 'PAIDOFF', 'PAIDOFF', 'PAIDOFF',\n",
                            "       'PAIDOFF', 'PAIDOFF', 'PAIDOFF', 'PAIDOFF', 'PAIDOFF', 'PAIDOFF',\n",
                            "       'PAIDOFF', 'PAIDOFF', 'PAIDOFF', 'PAIDOFF', 'PAIDOFF', 'PAIDOFF',\n",
                            "       'PAIDOFF', 'PAIDOFF', 'PAIDOFF', 'PAIDOFF', 'PAIDOFF', 'PAIDOFF',\n",
                            "       'PAIDOFF', 'PAIDOFF', 'PAIDOFF', 'PAIDOFF', 'PAIDOFF', 'PAIDOFF',\n",
                            "       'PAIDOFF', 'PAIDOFF', 'PAIDOFF', 'PAIDOFF', 'PAIDOFF', 'PAIDOFF',\n",
                            "       'PAIDOFF', 'PAIDOFF', 'PAIDOFF', 'PAIDOFF', 'PAIDOFF', 'PAIDOFF',\n",
                            "       'PAIDOFF', 'PAIDOFF', 'PAIDOFF', 'PAIDOFF', 'PAIDOFF', 'PAIDOFF',\n",
                            "       'PAIDOFF', 'PAIDOFF', 'PAIDOFF', 'PAIDOFF', 'PAIDOFF', 'PAIDOFF',\n",
                            "       'PAIDOFF', 'PAIDOFF', 'PAIDOFF', 'PAIDOFF', 'PAIDOFF', 'PAIDOFF',\n",
                            "       'PAIDOFF', 'PAIDOFF', 'PAIDOFF', 'PAIDOFF', 'PAIDOFF', 'PAIDOFF',\n",
                            "       'PAIDOFF', 'PAIDOFF', 'PAIDOFF', 'PAIDOFF', 'PAIDOFF', 'PAIDOFF',\n",
                            "       'PAIDOFF', 'PAIDOFF', 'PAIDOFF', 'PAIDOFF', 'PAIDOFF', 'PAIDOFF',\n",
                            "       'PAIDOFF', 'PAIDOFF', 'PAIDOFF', 'PAIDOFF', 'PAIDOFF', 'PAIDOFF',\n",
                            "       'PAIDOFF', 'PAIDOFF', 'PAIDOFF', 'PAIDOFF', 'COLLECTION',\n",
                            "       'PAIDOFF', 'PAIDOFF', 'PAIDOFF', 'PAIDOFF', 'PAIDOFF', 'PAIDOFF',\n",
                            "       'PAIDOFF', 'PAIDOFF', 'PAIDOFF', 'PAIDOFF', 'PAIDOFF', 'PAIDOFF',\n",
                            "       'PAIDOFF', 'PAIDOFF', 'PAIDOFF', 'PAIDOFF', 'PAIDOFF', 'PAIDOFF',\n",
                            "       'PAIDOFF', 'PAIDOFF', 'PAIDOFF', 'PAIDOFF', 'PAIDOFF', 'PAIDOFF',\n",
                            "       'PAIDOFF', 'PAIDOFF', 'PAIDOFF', 'PAIDOFF', 'PAIDOFF', 'PAIDOFF',\n",
                            "       'PAIDOFF', 'PAIDOFF', 'PAIDOFF', 'PAIDOFF', 'PAIDOFF', 'PAIDOFF',\n",
                            "       'PAIDOFF', 'PAIDOFF', 'PAIDOFF', 'PAIDOFF', 'PAIDOFF', 'PAIDOFF',\n",
                            "       'PAIDOFF', 'PAIDOFF', 'PAIDOFF', 'PAIDOFF', 'PAIDOFF', 'PAIDOFF',\n",
                            "       'PAIDOFF', 'PAIDOFF', 'PAIDOFF', 'PAIDOFF', 'PAIDOFF', 'PAIDOFF',\n",
                            "       'PAIDOFF', 'PAIDOFF', 'PAIDOFF', 'PAIDOFF', 'PAIDOFF', 'PAIDOFF',\n",
                            "       'PAIDOFF', 'PAIDOFF', 'PAIDOFF', 'PAIDOFF', 'PAIDOFF', 'PAIDOFF',\n",
                            "       'PAIDOFF', 'PAIDOFF', 'PAIDOFF', 'PAIDOFF', 'PAIDOFF', 'PAIDOFF',\n",
                            "       'PAIDOFF', 'PAIDOFF', 'PAIDOFF', 'PAIDOFF', 'PAIDOFF', 'PAIDOFF',\n",
                            "       'PAIDOFF', 'PAIDOFF', 'PAIDOFF', 'PAIDOFF', 'PAIDOFF', 'PAIDOFF',\n",
                            "       'PAIDOFF', 'PAIDOFF', 'PAIDOFF', 'PAIDOFF', 'PAIDOFF', 'PAIDOFF',\n",
                            "       'PAIDOFF', 'PAIDOFF', 'PAIDOFF', 'PAIDOFF', 'PAIDOFF', 'PAIDOFF',\n",
                            "       'PAIDOFF', 'PAIDOFF', 'PAIDOFF', 'PAIDOFF', 'PAIDOFF', 'PAIDOFF',\n",
                            "       'PAIDOFF', 'PAIDOFF', 'PAIDOFF', 'PAIDOFF', 'PAIDOFF', 'PAIDOFF',\n",
                            "       'PAIDOFF', 'PAIDOFF', 'PAIDOFF', 'PAIDOFF', 'PAIDOFF', 'PAIDOFF',\n",
                            "       'PAIDOFF', 'PAIDOFF', 'PAIDOFF', 'PAIDOFF', 'PAIDOFF', 'PAIDOFF',\n",
                            "       'PAIDOFF', 'PAIDOFF', 'PAIDOFF', 'PAIDOFF', 'PAIDOFF', 'PAIDOFF',\n",
                            "       'PAIDOFF', 'PAIDOFF', 'PAIDOFF', 'PAIDOFF', 'PAIDOFF', 'PAIDOFF',\n",
                            "       'PAIDOFF', 'PAIDOFF', 'PAIDOFF', 'PAIDOFF', 'PAIDOFF', 'PAIDOFF',\n",
                            "       'PAIDOFF', 'PAIDOFF', 'PAIDOFF', 'PAIDOFF', 'PAIDOFF', 'PAIDOFF',\n",
                            "       'PAIDOFF', 'PAIDOFF', 'PAIDOFF', 'PAIDOFF', 'PAIDOFF', 'PAIDOFF',\n",
                            "       'PAIDOFF', 'PAIDOFF', 'PAIDOFF', 'PAIDOFF', 'PAIDOFF', 'PAIDOFF',\n",
                            "       'PAIDOFF', 'PAIDOFF', 'PAIDOFF', 'PAIDOFF', 'PAIDOFF', 'PAIDOFF',\n",
                            "       'PAIDOFF', 'PAIDOFF', 'PAIDOFF', 'PAIDOFF', 'PAIDOFF', 'PAIDOFF',\n",
                            "       'PAIDOFF', 'PAIDOFF', 'PAIDOFF', 'PAIDOFF', 'PAIDOFF', 'PAIDOFF',\n",
                            "       'PAIDOFF', 'PAIDOFF', 'PAIDOFF', 'PAIDOFF', 'PAIDOFF', 'PAIDOFF',\n",
                            "       'PAIDOFF', 'PAIDOFF', 'PAIDOFF', 'PAIDOFF', 'PAIDOFF', 'PAIDOFF',\n",
                            "       'PAIDOFF', 'PAIDOFF', 'PAIDOFF', 'PAIDOFF', 'PAIDOFF', 'PAIDOFF',\n",
                            "       'PAIDOFF', 'PAIDOFF', 'PAIDOFF', 'PAIDOFF', 'PAIDOFF', 'PAIDOFF',\n",
                            "       'PAIDOFF', 'PAIDOFF', 'PAIDOFF', 'PAIDOFF', 'PAIDOFF', 'PAIDOFF',\n",
                            "       'PAIDOFF', 'PAIDOFF', 'PAIDOFF', 'PAIDOFF', 'PAIDOFF', 'PAIDOFF',\n",
                            "       'PAIDOFF', 'PAIDOFF', 'PAIDOFF', 'PAIDOFF', 'PAIDOFF', 'PAIDOFF',\n",
                            "       'PAIDOFF', 'PAIDOFF', 'PAIDOFF', 'PAIDOFF', 'PAIDOFF', 'PAIDOFF',\n",
                            "       'PAIDOFF', 'PAIDOFF', 'PAIDOFF', 'PAIDOFF', 'PAIDOFF'],\n",
                            "      dtype=object)"
                        ]
                    },
                    "execution_count": 52,
                    "metadata": {},
                    "output_type": "execute_result"
                }
            ],
            "source": [
                "from sklearn.linear_model import LogisticRegression\n",
                "from sklearn.metrics import confusion_matrix\n",
                "LR = LogisticRegression(C=0.01, solver='liblinear').fit(X,y)\n",
                "yhat_LR = LR.predict(X)\n",
                "yhat_LR"
            ]
        },
        {
            "cell_type": "code",
            "execution_count": 53,
            "metadata": {},
            "outputs": [
                {
                    "data": {
                        "text/plain": [
                            "array([[0.30642269, 0.69357731],\n",
                            "       [0.26457178, 0.73542822],\n",
                            "       [0.27993538, 0.72006462],\n",
                            "       [0.41849381, 0.58150619],\n",
                            "       [0.47285742, 0.52714258],\n",
                            "       [0.46648328, 0.53351672],\n",
                            "       [0.47376878, 0.52623122],\n",
                            "       [0.43135956, 0.56864044],\n",
                            "       [0.37551312, 0.62448688],\n",
                            "       [0.45499962, 0.54500038],\n",
                            "       [0.47559202, 0.52440798],\n",
                            "       [0.37069552, 0.62930448],\n",
                            "       [0.45074243, 0.54925757],\n",
                            "       [0.43135956, 0.56864044],\n",
                            "       [0.48258867, 0.51741133],\n",
                            "       [0.46135253, 0.53864747],\n",
                            "       [0.48989473, 0.51010527],\n",
                            "       [0.45962956, 0.54037044],\n",
                            "       [0.47559202, 0.52440798],\n",
                            "       [0.49629119, 0.50370881],\n",
                            "       [0.44715266, 0.55284734],\n",
                            "       [0.49263579, 0.50736421],\n",
                            "       [0.43290965, 0.56709035],\n",
                            "       [0.45324058, 0.54675942],\n",
                            "       [0.47103524, 0.52896476],\n",
                            "       [0.46921384, 0.53078616],\n",
                            "       [0.44455911, 0.55544089],\n",
                            "       [0.46557354, 0.53442646],\n",
                            "       [0.47468031, 0.52531969],\n",
                            "       [0.46557354, 0.53442646],\n",
                            "       [0.42509372, 0.57490628],\n",
                            "       [0.49446341, 0.50553659],\n",
                            "       [0.49360352, 0.50639648],\n",
                            "       [0.38744727, 0.61255273],\n",
                            "       [0.42777626, 0.57222374],\n",
                            "       [0.44086059, 0.55913941],\n",
                            "       [0.44354049, 0.55645951],\n",
                            "       [0.40734175, 0.59265825],\n",
                            "       [0.4277486 , 0.5722514 ],\n",
                            "       [0.49903302, 0.50096698],\n",
                            "       [0.47012444, 0.52987556],\n",
                            "       [0.42927032, 0.57072968],\n",
                            "       [0.4253845 , 0.5746155 ],\n",
                            "       [0.3824164 , 0.6175836 ],\n",
                            "       [0.48806769, 0.51193231],\n",
                            "       [0.49994698, 0.50005302],\n",
                            "       [0.44805659, 0.55194341],\n",
                            "       [0.49446341, 0.50553659],\n",
                            "       [0.4890351 , 0.5109649 ],\n",
                            "       [0.38064018, 0.61935982],\n",
                            "       [0.43173288, 0.56826712],\n",
                            "       [0.48172975, 0.51827025],\n",
                            "       [0.48806769, 0.51193231],\n",
                            "       [0.45830431, 0.54169569],\n",
                            "       [0.4374406 , 0.5625594 ],\n",
                            "       [0.4872082 , 0.5127918 ],\n",
                            "       [0.48532774, 0.51467226],\n",
                            "       [0.47352071, 0.52647929],\n",
                            "       [0.42867139, 0.57132861],\n",
                            "       [0.44817289, 0.55182711],\n",
                            "       [0.42717269, 0.57282731],\n",
                            "       [0.43993428, 0.56006572],\n",
                            "       [0.44805659, 0.55194341],\n",
                            "       [0.49172205, 0.50827795],\n",
                            "       [0.46739325, 0.53260675],\n",
                            "       [0.42354558, 0.57645442],\n",
                            "       [0.49354958, 0.50645042],\n",
                            "       [0.43301073, 0.56698927],\n",
                            "       [0.44444299, 0.55555701],\n",
                            "       [0.42509372, 0.57490628],\n",
                            "       [0.44148982, 0.55851018],\n",
                            "       [0.41938375, 0.58061625],\n",
                            "       [0.37891793, 0.62108207],\n",
                            "       [0.37063551, 0.62936449],\n",
                            "       [0.44005016, 0.55994984],\n",
                            "       [0.44998186, 0.55001814],\n",
                            "       [0.48898118, 0.51101882],\n",
                            "       [0.46648328, 0.53351672],\n",
                            "       [0.46830344, 0.53169656],\n",
                            "       [0.49903302, 0.50096698],\n",
                            "       [0.42896279, 0.57103721],\n",
                            "       [0.42063269, 0.57936731],\n",
                            "       [0.47194623, 0.52805377],\n",
                            "       [0.44956583, 0.55043417],\n",
                            "       [0.43903371, 0.56096629],\n",
                            "       [0.49080836, 0.50919164],\n",
                            "       [0.49080836, 0.50919164],\n",
                            "       [0.47376878, 0.52623122],\n",
                            "       [0.42942407, 0.57057593],\n",
                            "       [0.42867139, 0.57132861],\n",
                            "       [0.41938375, 0.58061625],\n",
                            "       [0.47468031, 0.52531969],\n",
                            "       [0.46921384, 0.53078616],\n",
                            "       [0.47376878, 0.52623122],\n",
                            "       [0.46771802, 0.53228198],\n",
                            "       [0.46284569, 0.53715431],\n",
                            "       [0.49811906, 0.50188094],\n",
                            "       [0.48081706, 0.51918294],\n",
                            "       [0.43315394, 0.56684606],\n",
                            "       [0.46830344, 0.53169656],\n",
                            "       [0.49903302, 0.50096698],\n",
                            "       [0.45258127, 0.54741873],\n",
                            "       [0.44986547, 0.55013453],\n",
                            "       [0.46921384, 0.53078616],\n",
                            "       [0.47559202, 0.52440798],\n",
                            "       [0.46498854, 0.53501146],\n",
                            "       [0.43555109, 0.56444891],\n",
                            "       [0.45324058, 0.54675942],\n",
                            "       [0.47807981, 0.52192019],\n",
                            "       [0.46680797, 0.53319203],\n",
                            "       [0.43555109, 0.56444891],\n",
                            "       [0.49537728, 0.50462272],\n",
                            "       [0.41405215, 0.58594785],\n",
                            "       [0.43315394, 0.56684606],\n",
                            "       [0.49172205, 0.50827795],\n",
                            "       [0.39103553, 0.60896447],\n",
                            "       [0.45077041, 0.54922959],\n",
                            "       [0.44775717, 0.55224283],\n",
                            "       [0.50086095, 0.49913905],\n",
                            "       [0.49354958, 0.50645042],\n",
                            "       [0.4233078 , 0.5766922 ],\n",
                            "       [0.3714887 , 0.6285113 ],\n",
                            "       [0.49172205, 0.50827795],\n",
                            "       [0.44263836, 0.55736164],\n",
                            "       [0.42027422, 0.57972578],\n",
                            "       [0.29167077, 0.70832923],\n",
                            "       [0.27203731, 0.72796269],\n",
                            "       [0.27006691, 0.72993309],\n",
                            "       [0.21175016, 0.78824984],\n",
                            "       [0.27772998, 0.72227002],\n",
                            "       [0.29819647, 0.70180353],\n",
                            "       [0.26738463, 0.73261537],\n",
                            "       [0.2815067 , 0.7184933 ],\n",
                            "       [0.23642574, 0.76357426],\n",
                            "       [0.32058348, 0.67941652],\n",
                            "       [0.29846956, 0.70153044],\n",
                            "       [0.27494287, 0.72505713],\n",
                            "       [0.31978772, 0.68021228],\n",
                            "       [0.23708636, 0.76291364],\n",
                            "       [0.29770464, 0.70229536],\n",
                            "       [0.32297701, 0.67702299],\n",
                            "       [0.30280719, 0.69719281],\n",
                            "       [0.29011803, 0.70988197],\n",
                            "       [0.28786447, 0.71213553],\n",
                            "       [0.30203594, 0.69796406],\n",
                            "       [0.27709142, 0.72290858],\n",
                            "       [0.30590329, 0.69409671],\n",
                            "       [0.27417174, 0.72582826],\n",
                            "       [0.26862797, 0.73137203],\n",
                            "       [0.31188828, 0.68811172],\n",
                            "       [0.3012658 , 0.6987342 ],\n",
                            "       [0.32537986, 0.67462014],\n",
                            "       [0.24896768, 0.75103232],\n",
                            "       [0.23896484, 0.76103516],\n",
                            "       [0.31424692, 0.68575308],\n",
                            "       [0.28076786, 0.71923214],\n",
                            "       [0.32058348, 0.67941652],\n",
                            "       [0.27098055, 0.72901945],\n",
                            "       [0.29087154, 0.70912846],\n",
                            "       [0.26647867, 0.73352133],\n",
                            "       [0.25659452, 0.74340548],\n",
                            "       [0.29972889, 0.70027111],\n",
                            "       [0.31819935, 0.68180065],\n",
                            "       [0.25309172, 0.74690828],\n",
                            "       [0.27387907, 0.72612093],\n",
                            "       [0.2715107 , 0.7284893 ],\n",
                            "       [0.30590329, 0.69409671],\n",
                            "       [0.27045637, 0.72954363],\n",
                            "       [0.31899301, 0.68100699],\n",
                            "       [0.27772998, 0.72227002],\n",
                            "       [0.27460671, 0.72539329],\n",
                            "       [0.26719389, 0.73280611],\n",
                            "       [0.30901702, 0.69098298],\n",
                            "       [0.23644429, 0.76355571],\n",
                            "       [0.30435303, 0.69564697],\n",
                            "       [0.30357955, 0.69642045],\n",
                            "       [0.2429768 , 0.7570232 ],\n",
                            "       [0.31110422, 0.68889578],\n",
                            "       [0.29617819, 0.70382181],\n",
                            "       [0.31819935, 0.68180065],\n",
                            "       [0.26953854, 0.73046146],\n",
                            "       [0.32058348, 0.67941652],\n",
                            "       [0.31424692, 0.68575308],\n",
                            "       [0.25701149, 0.74298851],\n",
                            "       [0.27895546, 0.72104454],\n",
                            "       [0.23717144, 0.76282856],\n",
                            "       [0.29313895, 0.70686105],\n",
                            "       [0.31899301, 0.68100699],\n",
                            "       [0.27407816, 0.72592184],\n",
                            "       [0.29438523, 0.70561477],\n",
                            "       [0.29389704, 0.70610296],\n",
                            "       [0.31036743, 0.68963257],\n",
                            "       [0.32138028, 0.67861972],\n",
                            "       [0.29770464, 0.70229536],\n",
                            "       [0.27059176, 0.72940824],\n",
                            "       [0.28373032, 0.71626968],\n",
                            "       [0.26791032, 0.73208968],\n",
                            "       [0.27993538, 0.72006462],\n",
                            "       [0.22177311, 0.77822689],\n",
                            "       [0.29590632, 0.70409368],\n",
                            "       [0.31345963, 0.68654037],\n",
                            "       [0.27855843, 0.72144157],\n",
                            "       [0.31819935, 0.68180065],\n",
                            "       [0.2763597 , 0.7236403 ],\n",
                            "       [0.27846392, 0.72153608],\n",
                            "       [0.31661519, 0.68338481],\n",
                            "       [0.25033735, 0.74966265],\n",
                            "       [0.27131393, 0.72868607],\n",
                            "       [0.2378335 , 0.7621665 ],\n",
                            "       [0.2649383 , 0.7350617 ],\n",
                            "       [0.27973369, 0.72026631],\n",
                            "       [0.26791032, 0.73208968],\n",
                            "       [0.27782432, 0.72217568],\n",
                            "       [0.31424692, 0.68575308],\n",
                            "       [0.24156393, 0.75843607],\n",
                            "       [0.25939391, 0.74060609],\n",
                            "       [0.25566035, 0.74433965],\n",
                            "       [0.29972889, 0.70027111],\n",
                            "       [0.30049679, 0.69950321],\n",
                            "       [0.26647867, 0.73352133],\n",
                            "       [0.23053744, 0.76946256],\n",
                            "       [0.26923205, 0.73076795],\n",
                            "       [0.32698688, 0.67301312],\n",
                            "       [0.25036861, 0.74963139],\n",
                            "       [0.29465629, 0.70534371],\n",
                            "       [0.24903809, 0.75096191],\n",
                            "       [0.29389704, 0.70610296],\n",
                            "       [0.24223436, 0.75776564],\n",
                            "       [0.23261118, 0.76738882],\n",
                            "       [0.29846956, 0.70153044],\n",
                            "       [0.30875855, 0.69124145],\n",
                            "       [0.2375971 , 0.7624029 ],\n",
                            "       [0.31899301, 0.68100699],\n",
                            "       [0.25492274, 0.74507726],\n",
                            "       [0.30280719, 0.69719281],\n",
                            "       [0.31424692, 0.68575308],\n",
                            "       [0.31271979, 0.68728021],\n",
                            "       [0.25520226, 0.74479774],\n",
                            "       [0.27562918, 0.72437082],\n",
                            "       [0.30049679, 0.69950321],\n",
                            "       [0.26080103, 0.73919897],\n",
                            "       [0.28719269, 0.71280731],\n",
                            "       [0.27199458, 0.72800542],\n",
                            "       [0.29016248, 0.70983752],\n",
                            "       [0.3012658 , 0.6987342 ],\n",
                            "       [0.31819935, 0.68180065],\n",
                            "       [0.29318366, 0.70681634],\n",
                            "       [0.30958547, 0.69041453],\n",
                            "       [0.30203594, 0.69796406],\n",
                            "       [0.30958547, 0.69041453],\n",
                            "       [0.28224673, 0.71775327],\n",
                            "       [0.23510831, 0.76489169],\n",
                            "       [0.30953935, 0.69046065],\n",
                            "       [0.30203594, 0.69796406],\n",
                            "       [0.31267342, 0.68732658],\n",
                            "       [0.30802482, 0.69197518],\n",
                            "       [0.26719389, 0.73280611],\n",
                            "       [0.31899301, 0.68100699],\n",
                            "       [0.31032124, 0.68967876],\n",
                            "       [0.30280719, 0.69719281],\n",
                            "       [0.44444299, 0.55555701],\n",
                            "       [0.48532774, 0.51467226],\n",
                            "       [0.43046305, 0.56953695],\n",
                            "       [0.44641862, 0.55358138],\n",
                            "       [0.42956699, 0.57043301],\n",
                            "       [0.48258867, 0.51741133],\n",
                            "       [0.46921384, 0.53078616],\n",
                            "       [0.49446341, 0.50553659],\n",
                            "       [0.47741591, 0.52258409],\n",
                            "       [0.49172205, 0.50827795],\n",
                            "       [0.46407918, 0.53592082],\n",
                            "       [0.49268972, 0.50731028],\n",
                            "       [0.4623148 , 0.5376852 ],\n",
                            "       [0.47650389, 0.52349611],\n",
                            "       [0.49354958, 0.50645042],\n",
                            "       [0.46557354, 0.53442646],\n",
                            "       [0.42598742, 0.57401258],\n",
                            "       [0.43993428, 0.56006572],\n",
                            "       [0.4872082 , 0.5127918 ],\n",
                            "       [0.43650315, 0.56349685],\n",
                            "       [0.47468031, 0.52531969],\n",
                            "       [0.4726094 , 0.5273906 ],\n",
                            "       [0.44263836, 0.55736164],\n",
                            "       [0.49994698, 0.50005302],\n",
                            "       [0.43608827, 0.56391173],\n",
                            "       [0.40962443, 0.59037557],\n",
                            "       [0.48806769, 0.51193231],\n",
                            "       [0.47103524, 0.52896476],\n",
                            "       [0.49811906, 0.50188094],\n",
                            "       [0.39179436, 0.60820564],\n",
                            "       [0.45499962, 0.54500038],\n",
                            "       [0.43608827, 0.56391173],\n",
                            "       [0.47650389, 0.52349611],\n",
                            "       [0.43760825, 0.56239175],\n",
                            "       [0.49811906, 0.50188094],\n",
                            "       [0.43380738, 0.56619262],\n",
                            "       [0.49446341, 0.50553659],\n",
                            "       [0.49080836, 0.50919164],\n",
                            "       [0.41885186, 0.58114814],\n",
                            "       [0.49537728, 0.50462272],\n",
                            "       [0.44805659, 0.55194341],\n",
                            "       [0.48715429, 0.51284571],\n",
                            "       [0.48167588, 0.51832412],\n",
                            "       [0.48532774, 0.51467226],\n",
                            "       [0.43993428, 0.56006572],\n",
                            "       [0.47802597, 0.52197403],\n",
                            "       [0.4890351 , 0.5109649 ],\n",
                            "       [0.47012444, 0.52987556],\n",
                            "       [0.49354958, 0.50645042],\n",
                            "       [0.46830344, 0.53169656],\n",
                            "       [0.44817289, 0.55182711],\n",
                            "       [0.49537728, 0.50462272],\n",
                            "       [0.44715266, 0.55284734],\n",
                            "       [0.43495007, 0.56504993],\n",
                            "       [0.43878723, 0.56121277],\n",
                            "       [0.47297464, 0.52702536],\n",
                            "       [0.44280763, 0.55719237],\n",
                            "       [0.47741591, 0.52258409],\n",
                            "       [0.48289101, 0.51710899],\n",
                            "       [0.45179216, 0.54820784],\n",
                            "       [0.45409321, 0.54590679],\n",
                            "       [0.47285742, 0.52714258],\n",
                            "       [0.39627118, 0.60372882],\n",
                            "       [0.44354049, 0.55645951],\n",
                            "       [0.46921384, 0.53078616],\n",
                            "       [0.47194623, 0.52805377],\n",
                            "       [0.47012444, 0.52987556],\n",
                            "       [0.49629119, 0.50370881],\n",
                            "       [0.44275439, 0.55724561],\n",
                            "       [0.45686688, 0.54313312],\n",
                            "       [0.49537728, 0.50462272],\n",
                            "       [0.49263579, 0.50736421],\n",
                            "       [0.49537728, 0.50462272],\n",
                            "       [0.43285667, 0.56714333],\n",
                            "       [0.48624097, 0.51375903],\n",
                            "       [0.44961923, 0.55038077],\n",
                            "       [0.46135253, 0.53864747],\n",
                            "       [0.44354049, 0.55645951],\n",
                            "       [0.44275439, 0.55724561],\n",
                            "       [0.41760439, 0.58239561],\n",
                            "       [0.47559202, 0.52440798],\n",
                            "       [0.44546202, 0.55453798],\n",
                            "       [0.49629119, 0.50370881],\n",
                            "       [0.25869221, 0.74130779],\n",
                            "       [0.30280719, 0.69719281],\n",
                            "       [0.30435303, 0.69564697]])"
                        ]
                    },
                    "execution_count": 53,
                    "metadata": {},
                    "output_type": "execute_result"
                }
            ],
            "source": [
                "yhat_LR = LR.predict_proba(X)\n",
                "yhat_LR"
            ]
        },
        {
            "cell_type": "code",
            "execution_count": 61,
            "metadata": {},
            "outputs": [
                {
                    "ename": "ValueError",
                    "evalue": "Classification metrics can't handle a mix of binary and continuous-multioutput targets",
                    "output_type": "error",
                    "traceback": [
                        "\u001b[1;31m---------------------------------------------------------------------------\u001b[0m",
                        "\u001b[1;31mValueError\u001b[0m                                Traceback (most recent call last)",
                        "\u001b[1;32mc:\\IBM_ML_Capstone\\IBM_ML_Capstone\\ML0101EN-Proj-Loan-py-v1.ipynb Cell 68\u001b[0m in \u001b[0;36m<cell line: 36>\u001b[1;34m()\u001b[0m\n\u001b[0;32m     <a href='vscode-notebook-cell:/c%3A/IBM_ML_Capstone/IBM_ML_Capstone/ML0101EN-Proj-Loan-py-v1.ipynb#ch0000084?line=33'>34</a>\u001b[0m     plt\u001b[39m.\u001b[39mylabel(\u001b[39m'\u001b[39m\u001b[39mTrue label\u001b[39m\u001b[39m'\u001b[39m)\n\u001b[0;32m     <a href='vscode-notebook-cell:/c%3A/IBM_ML_Capstone/IBM_ML_Capstone/ML0101EN-Proj-Loan-py-v1.ipynb#ch0000084?line=34'>35</a>\u001b[0m     plt\u001b[39m.\u001b[39mxlabel(\u001b[39m'\u001b[39m\u001b[39mPredicted label\u001b[39m\u001b[39m'\u001b[39m)\n\u001b[1;32m---> <a href='vscode-notebook-cell:/c%3A/IBM_ML_Capstone/IBM_ML_Capstone/ML0101EN-Proj-Loan-py-v1.ipynb#ch0000084?line=35'>36</a>\u001b[0m \u001b[39mprint\u001b[39m(confusion_matrix(y, yhat_LR, labels\u001b[39m=\u001b[39;49m[\u001b[39m1\u001b[39;49m,\u001b[39m0\u001b[39;49m]))\n",
                        "File \u001b[1;32mc:\\Users\\Tin\\AppData\\Local\\Programs\\Python\\Python310\\lib\\site-packages\\sklearn\\metrics\\_classification.py:307\u001b[0m, in \u001b[0;36mconfusion_matrix\u001b[1;34m(y_true, y_pred, labels, sample_weight, normalize)\u001b[0m\n\u001b[0;32m    222\u001b[0m \u001b[39mdef\u001b[39;00m \u001b[39mconfusion_matrix\u001b[39m(\n\u001b[0;32m    223\u001b[0m     y_true, y_pred, \u001b[39m*\u001b[39m, labels\u001b[39m=\u001b[39m\u001b[39mNone\u001b[39;00m, sample_weight\u001b[39m=\u001b[39m\u001b[39mNone\u001b[39;00m, normalize\u001b[39m=\u001b[39m\u001b[39mNone\u001b[39;00m\n\u001b[0;32m    224\u001b[0m ):\n\u001b[0;32m    225\u001b[0m     \u001b[39m\"\"\"Compute confusion matrix to evaluate the accuracy of a classification.\u001b[39;00m\n\u001b[0;32m    226\u001b[0m \n\u001b[0;32m    227\u001b[0m \u001b[39m    By definition a confusion matrix :math:`C` is such that :math:`C_{i, j}`\u001b[39;00m\n\u001b[1;32m   (...)\u001b[0m\n\u001b[0;32m    305\u001b[0m \u001b[39m    (0, 2, 1, 1)\u001b[39;00m\n\u001b[0;32m    306\u001b[0m \u001b[39m    \"\"\"\u001b[39;00m\n\u001b[1;32m--> 307\u001b[0m     y_type, y_true, y_pred \u001b[39m=\u001b[39m _check_targets(y_true, y_pred)\n\u001b[0;32m    308\u001b[0m     \u001b[39mif\u001b[39;00m y_type \u001b[39mnot\u001b[39;00m \u001b[39min\u001b[39;00m (\u001b[39m\"\u001b[39m\u001b[39mbinary\u001b[39m\u001b[39m\"\u001b[39m, \u001b[39m\"\u001b[39m\u001b[39mmulticlass\u001b[39m\u001b[39m\"\u001b[39m):\n\u001b[0;32m    309\u001b[0m         \u001b[39mraise\u001b[39;00m \u001b[39mValueError\u001b[39;00m(\u001b[39m\"\u001b[39m\u001b[39m%s\u001b[39;00m\u001b[39m is not supported\u001b[39m\u001b[39m\"\u001b[39m \u001b[39m%\u001b[39m y_type)\n",
                        "File \u001b[1;32mc:\\Users\\Tin\\AppData\\Local\\Programs\\Python\\Python310\\lib\\site-packages\\sklearn\\metrics\\_classification.py:93\u001b[0m, in \u001b[0;36m_check_targets\u001b[1;34m(y_true, y_pred)\u001b[0m\n\u001b[0;32m     90\u001b[0m     y_type \u001b[39m=\u001b[39m {\u001b[39m\"\u001b[39m\u001b[39mmulticlass\u001b[39m\u001b[39m\"\u001b[39m}\n\u001b[0;32m     92\u001b[0m \u001b[39mif\u001b[39;00m \u001b[39mlen\u001b[39m(y_type) \u001b[39m>\u001b[39m \u001b[39m1\u001b[39m:\n\u001b[1;32m---> 93\u001b[0m     \u001b[39mraise\u001b[39;00m \u001b[39mValueError\u001b[39;00m(\n\u001b[0;32m     94\u001b[0m         \u001b[39m\"\u001b[39m\u001b[39mClassification metrics can\u001b[39m\u001b[39m'\u001b[39m\u001b[39mt handle a mix of \u001b[39m\u001b[39m{0}\u001b[39;00m\u001b[39m and \u001b[39m\u001b[39m{1}\u001b[39;00m\u001b[39m targets\u001b[39m\u001b[39m\"\u001b[39m\u001b[39m.\u001b[39mformat(\n\u001b[0;32m     95\u001b[0m             type_true, type_pred\n\u001b[0;32m     96\u001b[0m         )\n\u001b[0;32m     97\u001b[0m     )\n\u001b[0;32m     99\u001b[0m \u001b[39m# We can't have more than one value on y_type => The set is no more needed\u001b[39;00m\n\u001b[0;32m    100\u001b[0m y_type \u001b[39m=\u001b[39m y_type\u001b[39m.\u001b[39mpop()\n",
                        "\u001b[1;31mValueError\u001b[0m: Classification metrics can't handle a mix of binary and continuous-multioutput targets"
                    ]
                }
            ],
            "source": [
                "from sklearn.metrics import classification_report, confusion_matrix\n",
                "import itertools\n",
                "def plot_confusion_matrix(cm, classes,\n",
                "                          normalize=False,\n",
                "                          title='Confusion matrix',\n",
                "                          cmap=plt.cm.Blues):\n",
                "    \"\"\"\n",
                "    This function prints and plots the confusion matrix.\n",
                "    Normalization can be applied by setting `normalize=True`.\n",
                "    \"\"\"\n",
                "    if normalize:\n",
                "        cm = cm.astype('float') / cm.sum(axis=1)[:, np.newaxis]\n",
                "        print(\"Normalized confusion matrix\")\n",
                "    else:\n",
                "        print('Confusion matrix, without normalization')\n",
                "\n",
                "    print(cm)\n",
                "\n",
                "    plt.imshow(cm, interpolation='nearest', cmap=cmap)\n",
                "    plt.title(title)\n",
                "    plt.colorbar()\n",
                "    tick_marks = np.arange(len(classes))\n",
                "    plt.xticks(tick_marks, classes, rotation=45)\n",
                "    plt.yticks(tick_marks, classes)\n",
                "\n",
                "    fmt = '.2f' if normalize else 'd'\n",
                "    thresh = cm.max() / 2.\n",
                "    for i, j in itertools.product(range(cm.shape[0]), range(cm.shape[1])):\n",
                "        plt.text(j, i, format(cm[i, j], fmt),\n",
                "                 horizontalalignment=\"center\",\n",
                "                 color=\"white\" if cm[i, j] > thresh else \"black\")\n",
                "\n",
                "    plt.tight_layout()\n",
                "    plt.ylabel('True label')\n",
                "    plt.xlabel('Predicted label')\n",
                "print(confusion_matrix(y, yhat_LR, labels=[1,0]))"
            ]
        },
        {
            "cell_type": "markdown",
            "metadata": {},
            "source": [
                "# Model Evaluation using Test set\n"
            ]
        },
        {
            "cell_type": "code",
            "execution_count": 37,
            "metadata": {},
            "outputs": [],
            "source": [
                "from sklearn.metrics import jaccard_score\n",
                "from sklearn.metrics import f1_score\n",
                "from sklearn.metrics import log_loss\n"
            ]
        },
        {
            "cell_type": "markdown",
            "metadata": {},
            "source": [
                "First, download and load the test set:\n"
            ]
        },
        {
            "cell_type": "code",
            "execution_count": 38,
            "metadata": {
                "vscode": {
                    "languageId": "powershell"
                }
            },
            "outputs": [
                {
                    "name": "stderr",
                    "output_type": "stream",
                    "text": [
                        "'wget' ���O�����Υ~���R�O�B�i���檺�{���Χ妸�ɡC\n"
                    ]
                }
            ],
            "source": [
                "!wget -O loan_test.csv https://s3-api.us-geo.objectstorage.softlayer.net/cf-courses-data/CognitiveClass/ML0101ENv3/labs/loan_test.csv"
            ]
        },
        {
            "cell_type": "markdown",
            "metadata": {
                "button": false,
                "new_sheet": false,
                "run_control": {
                    "read_only": false
                }
            },
            "source": [
                "### Load Test set for evaluation\n"
            ]
        },
        {
            "cell_type": "code",
            "execution_count": 39,
            "metadata": {
                "button": false,
                "new_sheet": false,
                "run_control": {
                    "read_only": false
                }
            },
            "outputs": [
                {
                    "data": {
                        "text/html": [
                            "<div>\n",
                            "<style scoped>\n",
                            "    .dataframe tbody tr th:only-of-type {\n",
                            "        vertical-align: middle;\n",
                            "    }\n",
                            "\n",
                            "    .dataframe tbody tr th {\n",
                            "        vertical-align: top;\n",
                            "    }\n",
                            "\n",
                            "    .dataframe thead th {\n",
                            "        text-align: right;\n",
                            "    }\n",
                            "</style>\n",
                            "<table border=\"1\" class=\"dataframe\">\n",
                            "  <thead>\n",
                            "    <tr style=\"text-align: right;\">\n",
                            "      <th></th>\n",
                            "      <th>Unnamed: 0.1</th>\n",
                            "      <th>Unnamed: 0</th>\n",
                            "      <th>loan_status</th>\n",
                            "      <th>Principal</th>\n",
                            "      <th>terms</th>\n",
                            "      <th>effective_date</th>\n",
                            "      <th>due_date</th>\n",
                            "      <th>age</th>\n",
                            "      <th>education</th>\n",
                            "      <th>Gender</th>\n",
                            "    </tr>\n",
                            "  </thead>\n",
                            "  <tbody>\n",
                            "    <tr>\n",
                            "      <th>0</th>\n",
                            "      <td>1</td>\n",
                            "      <td>1</td>\n",
                            "      <td>PAIDOFF</td>\n",
                            "      <td>1000</td>\n",
                            "      <td>30</td>\n",
                            "      <td>9/8/2016</td>\n",
                            "      <td>10/7/2016</td>\n",
                            "      <td>50</td>\n",
                            "      <td>Bechalor</td>\n",
                            "      <td>female</td>\n",
                            "    </tr>\n",
                            "    <tr>\n",
                            "      <th>1</th>\n",
                            "      <td>5</td>\n",
                            "      <td>5</td>\n",
                            "      <td>PAIDOFF</td>\n",
                            "      <td>300</td>\n",
                            "      <td>7</td>\n",
                            "      <td>9/9/2016</td>\n",
                            "      <td>9/15/2016</td>\n",
                            "      <td>35</td>\n",
                            "      <td>Master or Above</td>\n",
                            "      <td>male</td>\n",
                            "    </tr>\n",
                            "    <tr>\n",
                            "      <th>2</th>\n",
                            "      <td>21</td>\n",
                            "      <td>21</td>\n",
                            "      <td>PAIDOFF</td>\n",
                            "      <td>1000</td>\n",
                            "      <td>30</td>\n",
                            "      <td>9/10/2016</td>\n",
                            "      <td>10/9/2016</td>\n",
                            "      <td>43</td>\n",
                            "      <td>High School or Below</td>\n",
                            "      <td>female</td>\n",
                            "    </tr>\n",
                            "    <tr>\n",
                            "      <th>3</th>\n",
                            "      <td>24</td>\n",
                            "      <td>24</td>\n",
                            "      <td>PAIDOFF</td>\n",
                            "      <td>1000</td>\n",
                            "      <td>30</td>\n",
                            "      <td>9/10/2016</td>\n",
                            "      <td>10/9/2016</td>\n",
                            "      <td>26</td>\n",
                            "      <td>college</td>\n",
                            "      <td>male</td>\n",
                            "    </tr>\n",
                            "    <tr>\n",
                            "      <th>4</th>\n",
                            "      <td>35</td>\n",
                            "      <td>35</td>\n",
                            "      <td>PAIDOFF</td>\n",
                            "      <td>800</td>\n",
                            "      <td>15</td>\n",
                            "      <td>9/11/2016</td>\n",
                            "      <td>9/25/2016</td>\n",
                            "      <td>29</td>\n",
                            "      <td>Bechalor</td>\n",
                            "      <td>male</td>\n",
                            "    </tr>\n",
                            "  </tbody>\n",
                            "</table>\n",
                            "</div>"
                        ],
                        "text/plain": [
                            "   Unnamed: 0.1  Unnamed: 0 loan_status  Principal  terms effective_date  \\\n",
                            "0             1           1     PAIDOFF       1000     30       9/8/2016   \n",
                            "1             5           5     PAIDOFF        300      7       9/9/2016   \n",
                            "2            21          21     PAIDOFF       1000     30      9/10/2016   \n",
                            "3            24          24     PAIDOFF       1000     30      9/10/2016   \n",
                            "4            35          35     PAIDOFF        800     15      9/11/2016   \n",
                            "\n",
                            "    due_date  age             education  Gender  \n",
                            "0  10/7/2016   50              Bechalor  female  \n",
                            "1  9/15/2016   35       Master or Above    male  \n",
                            "2  10/9/2016   43  High School or Below  female  \n",
                            "3  10/9/2016   26               college    male  \n",
                            "4  9/25/2016   29              Bechalor    male  "
                        ]
                    },
                    "execution_count": 39,
                    "metadata": {},
                    "output_type": "execute_result"
                }
            ],
            "source": [
                "test_df = pd.read_csv('loan_test.csv')\n",
                "test_df.head()"
            ]
        },
        {
            "cell_type": "code",
            "execution_count": null,
            "metadata": {},
            "outputs": [],
            "source": []
        },
        {
            "cell_type": "code",
            "execution_count": null,
            "metadata": {},
            "outputs": [],
            "source": []
        },
        {
            "cell_type": "code",
            "execution_count": null,
            "metadata": {},
            "outputs": [],
            "source": []
        },
        {
            "cell_type": "markdown",
            "metadata": {},
            "source": [
                "# Report\n",
                "\n",
                "You should be able to report the accuracy of the built model using different evaluation metrics:\n"
            ]
        },
        {
            "cell_type": "markdown",
            "metadata": {},
            "source": [
                "| Algorithm          | Jaccard | F1-score | LogLoss |\n",
                "| ------------------ | ------- | -------- | ------- |\n",
                "| KNN                | ?       | ?        | NA      |\n",
                "| Decision Tree      | ?       | ?        | NA      |\n",
                "| SVM                | ?       | ?        | NA      |\n",
                "| LogisticRegression | ?       | ?        | ?       |\n"
            ]
        },
        {
            "cell_type": "markdown",
            "metadata": {
                "button": false,
                "new_sheet": false,
                "run_control": {
                    "read_only": false
                }
            },
            "source": [
                "<h2>Want to learn more?</h2>\n",
                "\n",
                "IBM SPSS Modeler is a comprehensive analytics platform that has many machine learning algorithms. It has been designed to bring predictive intelligence to decisions made by individuals, by groups, by systems – by your enterprise as a whole. A free trial is available through this course, available here: <a href=\"http://cocl.us/ML0101EN-SPSSModeler?utm_medium=Exinfluencer&utm_source=Exinfluencer&utm_content=000026UJ&utm_term=10006555&utm_id=NA-SkillsNetwork-Channel-SkillsNetworkCoursesIBMDeveloperSkillsNetworkML0101ENSkillsNetwork20718538-2022-01-01\">SPSS Modeler</a>\n",
                "\n",
                "Also, you can use Watson Studio to run these notebooks faster with bigger datasets. Watson Studio is IBM's leading cloud solution for data scientists, built by data scientists. With Jupyter notebooks, RStudio, Apache Spark and popular libraries pre-packaged in the cloud, Watson Studio enables data scientists to collaborate on their projects without having to install anything. Join the fast-growing community of Watson Studio users today with a free account at <a href=\"https://cocl.us/ML0101EN_DSX?utm_medium=Exinfluencer&utm_source=Exinfluencer&utm_content=000026UJ&utm_term=10006555&utm_id=NA-SkillsNetwork-Channel-SkillsNetworkCoursesIBMDeveloperSkillsNetworkML0101ENSkillsNetwork20718538-2022-01-01\">Watson Studio</a>\n",
                "\n",
                "<h3>Thanks for completing this lesson!</h3>\n",
                "\n",
                "<h4>Author:  <a href=\"https://ca.linkedin.com/in/saeedaghabozorgi?utm_medium=Exinfluencer&utm_source=Exinfluencer&utm_content=000026UJ&utm_term=10006555&utm_id=NA-SkillsNetwork-Channel-SkillsNetworkCoursesIBMDeveloperSkillsNetworkML0101ENSkillsNetwork20718538-2022-01-01?utm_medium=Exinfluencer&utm_source=Exinfluencer&utm_content=000026UJ&utm_term=10006555&utm_id=NA-SkillsNetwork-Channel-SkillsNetworkCoursesIBMDeveloperSkillsNetworkML0101ENSkillsNetwork20718538-2022-01-01\">Saeed Aghabozorgi</a></h4>\n",
                "<p><a href=\"https://ca.linkedin.com/in/saeedaghabozorgi\">Saeed Aghabozorgi</a>, PhD is a Data Scientist in IBM with a track record of developing enterprise level applications that substantially increases clients’ ability to turn data into actionable knowledge. He is a researcher in data mining field and expert in developing advanced analytic methods like machine learning and statistical modelling on large datasets.</p>\n",
                "\n",
                "<hr>\n",
                "\n",
                "## Change Log\n",
                "\n",
                "| Date (YYYY-MM-DD) | Version | Changed By    | Change Description                                                             |\n",
                "| ----------------- | ------- | ------------- | ------------------------------------------------------------------------------ |\n",
                "| 2020-10-27        | 2.1     | Lakshmi Holla | Made changes in import statement due to updates in version of  sklearn library |\n",
                "| 2020-08-27        | 2.0     | Malika Singla | Added lab to GitLab                                                            |\n",
                "\n",
                "<hr>\n",
                "\n",
                "## <h3 align=\"center\"> © IBM Corporation 2020. All rights reserved. <h3/>\n",
                "\n",
                "<p>\n"
            ]
        }
    ],
    "metadata": {
        "kernelspec": {
            "display_name": "Python 3.10.5 64-bit",
            "language": "python",
            "name": "python3"
        },
        "language_info": {
            "codemirror_mode": {
                "name": "ipython",
                "version": 3
            },
            "file_extension": ".py",
            "mimetype": "text/x-python",
            "name": "python",
            "nbconvert_exporter": "python",
            "pygments_lexer": "ipython3",
            "version": "3.10.5"
        },
        "vscode": {
            "interpreter": {
                "hash": "b2943380585d3ab4282a0037c10de2f77c3475033d1c2131b82f758ab2610fbf"
            }
        }
    },
    "nbformat": 4,
    "nbformat_minor": 2
}
